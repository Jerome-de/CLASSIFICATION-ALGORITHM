{
 "cells": [
  {
   "cell_type": "code",
   "execution_count": 230,
   "id": "db1baa64",
   "metadata": {},
   "outputs": [],
   "source": [
    "import pandas as pd\n",
    "import seaborn as sns\n",
    "import matplotlib.pyplot as plt\n",
    "import numpy as np"
   ]
  },
  {
   "cell_type": "code",
   "execution_count": 231,
   "id": "68454978",
   "metadata": {},
   "outputs": [],
   "source": [
    "alcohol= pd.read_csv(\"/home/jerome/Documents/CSV FILE/Alcohol_Sales.csv\")\n",
    "CS = pd.read_csv(\"/home/jerome/Documents/CSV FILE/ComputerSales.csv\")\n",
    "IEA = pd.read_csv(\"/home/jerome/Documents/CSV FILE/IEA-EV-dataEV salesCarsHistorical - Copy.csv\")\n",
    "Death = pd.read_csv(\"/home/jerome/Documents/CSV FILE/NCHS_-_Death_rates_and_life_expectancy_at_birth.csv\")\n",
    "Beer = pd.read_csv(\"/home/jerome/Documents/CSV FILE/BeerWineLiquor.csv\")\n",
    "Booking = pd.read_csv(\"/home/jerome/Documents/CSV FILE/hotel_bookings.csv\")\n"
   ]
  },
  {
   "cell_type": "code",
   "execution_count": 232,
   "id": "4bbc8a5d",
   "metadata": {},
   "outputs": [
    {
     "data": {
      "application/vnd.microsoft.datawrangler.viewer.v0+json": {
       "columns": [
        {
         "name": "index",
         "rawType": "int64",
         "type": "integer"
        },
        {
         "name": "DATE",
         "rawType": "object",
         "type": "string"
        },
        {
         "name": "S4248SM144NCEN",
         "rawType": "int64",
         "type": "integer"
        }
       ],
       "ref": "3866894c-d27d-4d36-a537-aa8aefd1fb1b",
       "rows": [
        [
         "0",
         "1992-01-01",
         "3459"
        ],
        [
         "1",
         "1992-02-01",
         "3458"
        ],
        [
         "2",
         "1992-03-01",
         "4002"
        ],
        [
         "3",
         "1992-04-01",
         "4564"
        ],
        [
         "4",
         "1992-05-01",
         "4221"
        ],
        [
         "5",
         "1992-06-01",
         "4529"
        ],
        [
         "6",
         "1992-07-01",
         "4466"
        ],
        [
         "7",
         "1992-08-01",
         "4137"
        ],
        [
         "8",
         "1992-09-01",
         "4126"
        ],
        [
         "9",
         "1992-10-01",
         "4259"
        ],
        [
         "10",
         "1992-11-01",
         "4240"
        ],
        [
         "11",
         "1992-12-01",
         "4936"
        ],
        [
         "12",
         "1993-01-01",
         "3031"
        ],
        [
         "13",
         "1993-02-01",
         "3261"
        ],
        [
         "14",
         "1993-03-01",
         "4160"
        ],
        [
         "15",
         "1993-04-01",
         "4377"
        ],
        [
         "16",
         "1993-05-01",
         "4307"
        ],
        [
         "17",
         "1993-06-01",
         "4696"
        ],
        [
         "18",
         "1993-07-01",
         "4458"
        ],
        [
         "19",
         "1993-08-01",
         "4457"
        ],
        [
         "20",
         "1993-09-01",
         "4364"
        ],
        [
         "21",
         "1993-10-01",
         "4236"
        ],
        [
         "22",
         "1993-11-01",
         "4500"
        ],
        [
         "23",
         "1993-12-01",
         "4974"
        ],
        [
         "24",
         "1994-01-01",
         "3075"
        ],
        [
         "25",
         "1994-02-01",
         "3377"
        ],
        [
         "26",
         "1994-03-01",
         "4443"
        ],
        [
         "27",
         "1994-04-01",
         "4261"
        ],
        [
         "28",
         "1994-05-01",
         "4460"
        ],
        [
         "29",
         "1994-06-01",
         "4985"
        ],
        [
         "30",
         "1994-07-01",
         "4324"
        ],
        [
         "31",
         "1994-08-01",
         "4719"
        ],
        [
         "32",
         "1994-09-01",
         "4374"
        ],
        [
         "33",
         "1994-10-01",
         "4248"
        ],
        [
         "34",
         "1994-11-01",
         "4784"
        ],
        [
         "35",
         "1994-12-01",
         "4971"
        ],
        [
         "36",
         "1995-01-01",
         "3370"
        ],
        [
         "37",
         "1995-02-01",
         "3484"
        ],
        [
         "38",
         "1995-03-01",
         "4269"
        ],
        [
         "39",
         "1995-04-01",
         "3994"
        ],
        [
         "40",
         "1995-05-01",
         "4715"
        ],
        [
         "41",
         "1995-06-01",
         "4974"
        ],
        [
         "42",
         "1995-07-01",
         "4223"
        ],
        [
         "43",
         "1995-08-01",
         "5000"
        ],
        [
         "44",
         "1995-09-01",
         "4235"
        ],
        [
         "45",
         "1995-10-01",
         "4554"
        ],
        [
         "46",
         "1995-11-01",
         "4851"
        ],
        [
         "47",
         "1995-12-01",
         "4826"
        ],
        [
         "48",
         "1996-01-01",
         "3699"
        ],
        [
         "49",
         "1996-02-01",
         "3983"
        ]
       ],
       "shape": {
        "columns": 2,
        "rows": 325
       }
      },
      "text/html": [
       "<div>\n",
       "<style scoped>\n",
       "    .dataframe tbody tr th:only-of-type {\n",
       "        vertical-align: middle;\n",
       "    }\n",
       "\n",
       "    .dataframe tbody tr th {\n",
       "        vertical-align: top;\n",
       "    }\n",
       "\n",
       "    .dataframe thead th {\n",
       "        text-align: right;\n",
       "    }\n",
       "</style>\n",
       "<table border=\"1\" class=\"dataframe\">\n",
       "  <thead>\n",
       "    <tr style=\"text-align: right;\">\n",
       "      <th></th>\n",
       "      <th>DATE</th>\n",
       "      <th>S4248SM144NCEN</th>\n",
       "    </tr>\n",
       "  </thead>\n",
       "  <tbody>\n",
       "    <tr>\n",
       "      <th>0</th>\n",
       "      <td>1992-01-01</td>\n",
       "      <td>3459</td>\n",
       "    </tr>\n",
       "    <tr>\n",
       "      <th>1</th>\n",
       "      <td>1992-02-01</td>\n",
       "      <td>3458</td>\n",
       "    </tr>\n",
       "    <tr>\n",
       "      <th>2</th>\n",
       "      <td>1992-03-01</td>\n",
       "      <td>4002</td>\n",
       "    </tr>\n",
       "    <tr>\n",
       "      <th>3</th>\n",
       "      <td>1992-04-01</td>\n",
       "      <td>4564</td>\n",
       "    </tr>\n",
       "    <tr>\n",
       "      <th>4</th>\n",
       "      <td>1992-05-01</td>\n",
       "      <td>4221</td>\n",
       "    </tr>\n",
       "    <tr>\n",
       "      <th>...</th>\n",
       "      <td>...</td>\n",
       "      <td>...</td>\n",
       "    </tr>\n",
       "    <tr>\n",
       "      <th>320</th>\n",
       "      <td>2018-09-01</td>\n",
       "      <td>12396</td>\n",
       "    </tr>\n",
       "    <tr>\n",
       "      <th>321</th>\n",
       "      <td>2018-10-01</td>\n",
       "      <td>13914</td>\n",
       "    </tr>\n",
       "    <tr>\n",
       "      <th>322</th>\n",
       "      <td>2018-11-01</td>\n",
       "      <td>14174</td>\n",
       "    </tr>\n",
       "    <tr>\n",
       "      <th>323</th>\n",
       "      <td>2018-12-01</td>\n",
       "      <td>15504</td>\n",
       "    </tr>\n",
       "    <tr>\n",
       "      <th>324</th>\n",
       "      <td>2019-01-01</td>\n",
       "      <td>10718</td>\n",
       "    </tr>\n",
       "  </tbody>\n",
       "</table>\n",
       "<p>325 rows × 2 columns</p>\n",
       "</div>"
      ],
      "text/plain": [
       "           DATE  S4248SM144NCEN\n",
       "0    1992-01-01            3459\n",
       "1    1992-02-01            3458\n",
       "2    1992-03-01            4002\n",
       "3    1992-04-01            4564\n",
       "4    1992-05-01            4221\n",
       "..          ...             ...\n",
       "320  2018-09-01           12396\n",
       "321  2018-10-01           13914\n",
       "322  2018-11-01           14174\n",
       "323  2018-12-01           15504\n",
       "324  2019-01-01           10718\n",
       "\n",
       "[325 rows x 2 columns]"
      ]
     },
     "execution_count": 232,
     "metadata": {},
     "output_type": "execute_result"
    }
   ],
   "source": [
    "alcohol"
   ]
  },
  {
   "cell_type": "code",
   "execution_count": 233,
   "id": "d2589739",
   "metadata": {},
   "outputs": [
    {
     "data": {
      "application/vnd.microsoft.datawrangler.viewer.v0+json": {
       "columns": [
        {
         "name": "index",
         "rawType": "int64",
         "type": "integer"
        },
        {
         "name": "DATE",
         "rawType": "object",
         "type": "string"
        },
        {
         "name": "S4248SM144NCEN",
         "rawType": "int64",
         "type": "integer"
        }
       ],
       "ref": "69281dbc-d019-4fb9-8290-18ee43ce1760",
       "rows": [
        [
         "320",
         "2018-09-01",
         "12396"
        ],
        [
         "321",
         "2018-10-01",
         "13914"
        ],
        [
         "322",
         "2018-11-01",
         "14174"
        ],
        [
         "323",
         "2018-12-01",
         "15504"
        ],
        [
         "324",
         "2019-01-01",
         "10718"
        ]
       ],
       "shape": {
        "columns": 2,
        "rows": 5
       }
      },
      "text/html": [
       "<div>\n",
       "<style scoped>\n",
       "    .dataframe tbody tr th:only-of-type {\n",
       "        vertical-align: middle;\n",
       "    }\n",
       "\n",
       "    .dataframe tbody tr th {\n",
       "        vertical-align: top;\n",
       "    }\n",
       "\n",
       "    .dataframe thead th {\n",
       "        text-align: right;\n",
       "    }\n",
       "</style>\n",
       "<table border=\"1\" class=\"dataframe\">\n",
       "  <thead>\n",
       "    <tr style=\"text-align: right;\">\n",
       "      <th></th>\n",
       "      <th>DATE</th>\n",
       "      <th>S4248SM144NCEN</th>\n",
       "    </tr>\n",
       "  </thead>\n",
       "  <tbody>\n",
       "    <tr>\n",
       "      <th>320</th>\n",
       "      <td>2018-09-01</td>\n",
       "      <td>12396</td>\n",
       "    </tr>\n",
       "    <tr>\n",
       "      <th>321</th>\n",
       "      <td>2018-10-01</td>\n",
       "      <td>13914</td>\n",
       "    </tr>\n",
       "    <tr>\n",
       "      <th>322</th>\n",
       "      <td>2018-11-01</td>\n",
       "      <td>14174</td>\n",
       "    </tr>\n",
       "    <tr>\n",
       "      <th>323</th>\n",
       "      <td>2018-12-01</td>\n",
       "      <td>15504</td>\n",
       "    </tr>\n",
       "    <tr>\n",
       "      <th>324</th>\n",
       "      <td>2019-01-01</td>\n",
       "      <td>10718</td>\n",
       "    </tr>\n",
       "  </tbody>\n",
       "</table>\n",
       "</div>"
      ],
      "text/plain": [
       "           DATE  S4248SM144NCEN\n",
       "320  2018-09-01           12396\n",
       "321  2018-10-01           13914\n",
       "322  2018-11-01           14174\n",
       "323  2018-12-01           15504\n",
       "324  2019-01-01           10718"
      ]
     },
     "execution_count": 233,
     "metadata": {},
     "output_type": "execute_result"
    }
   ],
   "source": [
    "alcohol.tail()"
   ]
  },
  {
   "cell_type": "code",
   "execution_count": 234,
   "id": "02f265d4",
   "metadata": {},
   "outputs": [
    {
     "data": {
      "application/vnd.microsoft.datawrangler.viewer.v0+json": {
       "columns": [
        {
         "name": "index",
         "rawType": "int64",
         "type": "integer"
        },
        {
         "name": "DATE",
         "rawType": "object",
         "type": "string"
        },
        {
         "name": "S4248SM144NCEN",
         "rawType": "int64",
         "type": "integer"
        }
       ],
       "ref": "64e4599a-f666-4ac2-acae-60c9a8573a79",
       "rows": [
        [
         "319",
         "2018-08-01",
         "14257"
        ],
        [
         "320",
         "2018-09-01",
         "12396"
        ],
        [
         "321",
         "2018-10-01",
         "13914"
        ],
        [
         "322",
         "2018-11-01",
         "14174"
        ],
        [
         "323",
         "2018-12-01",
         "15504"
        ]
       ],
       "shape": {
        "columns": 2,
        "rows": 5
       }
      },
      "text/html": [
       "<div>\n",
       "<style scoped>\n",
       "    .dataframe tbody tr th:only-of-type {\n",
       "        vertical-align: middle;\n",
       "    }\n",
       "\n",
       "    .dataframe tbody tr th {\n",
       "        vertical-align: top;\n",
       "    }\n",
       "\n",
       "    .dataframe thead th {\n",
       "        text-align: right;\n",
       "    }\n",
       "</style>\n",
       "<table border=\"1\" class=\"dataframe\">\n",
       "  <thead>\n",
       "    <tr style=\"text-align: right;\">\n",
       "      <th></th>\n",
       "      <th>DATE</th>\n",
       "      <th>S4248SM144NCEN</th>\n",
       "    </tr>\n",
       "  </thead>\n",
       "  <tbody>\n",
       "    <tr>\n",
       "      <th>319</th>\n",
       "      <td>2018-08-01</td>\n",
       "      <td>14257</td>\n",
       "    </tr>\n",
       "    <tr>\n",
       "      <th>320</th>\n",
       "      <td>2018-09-01</td>\n",
       "      <td>12396</td>\n",
       "    </tr>\n",
       "    <tr>\n",
       "      <th>321</th>\n",
       "      <td>2018-10-01</td>\n",
       "      <td>13914</td>\n",
       "    </tr>\n",
       "    <tr>\n",
       "      <th>322</th>\n",
       "      <td>2018-11-01</td>\n",
       "      <td>14174</td>\n",
       "    </tr>\n",
       "    <tr>\n",
       "      <th>323</th>\n",
       "      <td>2018-12-01</td>\n",
       "      <td>15504</td>\n",
       "    </tr>\n",
       "  </tbody>\n",
       "</table>\n",
       "</div>"
      ],
      "text/plain": [
       "           DATE  S4248SM144NCEN\n",
       "319  2018-08-01           14257\n",
       "320  2018-09-01           12396\n",
       "321  2018-10-01           13914\n",
       "322  2018-11-01           14174\n",
       "323  2018-12-01           15504"
      ]
     },
     "execution_count": 234,
     "metadata": {},
     "output_type": "execute_result"
    }
   ],
   "source": [
    "alcohol = alcohol[:324]\n",
    "alcohol.tail()"
   ]
  },
  {
   "cell_type": "code",
   "execution_count": 235,
   "id": "141ccd97",
   "metadata": {},
   "outputs": [
    {
     "data": {
      "text/plain": [
       "np.int64(0)"
      ]
     },
     "execution_count": 235,
     "metadata": {},
     "output_type": "execute_result"
    }
   ],
   "source": [
    "alcohol.duplicated().sum()"
   ]
  },
  {
   "cell_type": "code",
   "execution_count": 236,
   "id": "c7d16dab",
   "metadata": {},
   "outputs": [
    {
     "data": {
      "application/vnd.microsoft.datawrangler.viewer.v0+json": {
       "columns": [
        {
         "name": "index",
         "rawType": "object",
         "type": "string"
        },
        {
         "name": "0",
         "rawType": "int64",
         "type": "integer"
        }
       ],
       "ref": "145c2018-ed4d-4cb0-a4e7-5d63fc022363",
       "rows": [
        [
         "DATE",
         "0"
        ],
        [
         "S4248SM144NCEN",
         "0"
        ]
       ],
       "shape": {
        "columns": 1,
        "rows": 2
       }
      },
      "text/plain": [
       "DATE              0\n",
       "S4248SM144NCEN    0\n",
       "dtype: int64"
      ]
     },
     "execution_count": 236,
     "metadata": {},
     "output_type": "execute_result"
    }
   ],
   "source": [
    "alcohol.isna().sum()"
   ]
  },
  {
   "cell_type": "code",
   "execution_count": 237,
   "id": "48dd0219",
   "metadata": {},
   "outputs": [],
   "source": [
    "alcohol = alcohol.rename(columns={ \"DATE\" : \"ds\", \"S4248SM144NCEN\": \"y\"} )"
   ]
  },
  {
   "cell_type": "code",
   "execution_count": 238,
   "id": "cd12c68e",
   "metadata": {},
   "outputs": [
    {
     "data": {
      "application/vnd.microsoft.datawrangler.viewer.v0+json": {
       "columns": [
        {
         "name": "index",
         "rawType": "int64",
         "type": "integer"
        },
        {
         "name": "ds",
         "rawType": "object",
         "type": "string"
        },
        {
         "name": "y",
         "rawType": "int64",
         "type": "integer"
        }
       ],
       "ref": "f3a58720-5203-47f3-8d46-1f312807eb17",
       "rows": [
        [
         "0",
         "1992-01-01",
         "3459"
        ],
        [
         "1",
         "1992-02-01",
         "3458"
        ],
        [
         "2",
         "1992-03-01",
         "4002"
        ],
        [
         "3",
         "1992-04-01",
         "4564"
        ],
        [
         "4",
         "1992-05-01",
         "4221"
        ],
        [
         "5",
         "1992-06-01",
         "4529"
        ],
        [
         "6",
         "1992-07-01",
         "4466"
        ],
        [
         "7",
         "1992-08-01",
         "4137"
        ],
        [
         "8",
         "1992-09-01",
         "4126"
        ],
        [
         "9",
         "1992-10-01",
         "4259"
        ],
        [
         "10",
         "1992-11-01",
         "4240"
        ],
        [
         "11",
         "1992-12-01",
         "4936"
        ],
        [
         "12",
         "1993-01-01",
         "3031"
        ],
        [
         "13",
         "1993-02-01",
         "3261"
        ],
        [
         "14",
         "1993-03-01",
         "4160"
        ],
        [
         "15",
         "1993-04-01",
         "4377"
        ],
        [
         "16",
         "1993-05-01",
         "4307"
        ],
        [
         "17",
         "1993-06-01",
         "4696"
        ],
        [
         "18",
         "1993-07-01",
         "4458"
        ],
        [
         "19",
         "1993-08-01",
         "4457"
        ],
        [
         "20",
         "1993-09-01",
         "4364"
        ],
        [
         "21",
         "1993-10-01",
         "4236"
        ],
        [
         "22",
         "1993-11-01",
         "4500"
        ],
        [
         "23",
         "1993-12-01",
         "4974"
        ],
        [
         "24",
         "1994-01-01",
         "3075"
        ],
        [
         "25",
         "1994-02-01",
         "3377"
        ],
        [
         "26",
         "1994-03-01",
         "4443"
        ],
        [
         "27",
         "1994-04-01",
         "4261"
        ],
        [
         "28",
         "1994-05-01",
         "4460"
        ],
        [
         "29",
         "1994-06-01",
         "4985"
        ],
        [
         "30",
         "1994-07-01",
         "4324"
        ],
        [
         "31",
         "1994-08-01",
         "4719"
        ],
        [
         "32",
         "1994-09-01",
         "4374"
        ],
        [
         "33",
         "1994-10-01",
         "4248"
        ],
        [
         "34",
         "1994-11-01",
         "4784"
        ],
        [
         "35",
         "1994-12-01",
         "4971"
        ],
        [
         "36",
         "1995-01-01",
         "3370"
        ],
        [
         "37",
         "1995-02-01",
         "3484"
        ],
        [
         "38",
         "1995-03-01",
         "4269"
        ],
        [
         "39",
         "1995-04-01",
         "3994"
        ],
        [
         "40",
         "1995-05-01",
         "4715"
        ],
        [
         "41",
         "1995-06-01",
         "4974"
        ],
        [
         "42",
         "1995-07-01",
         "4223"
        ],
        [
         "43",
         "1995-08-01",
         "5000"
        ],
        [
         "44",
         "1995-09-01",
         "4235"
        ],
        [
         "45",
         "1995-10-01",
         "4554"
        ],
        [
         "46",
         "1995-11-01",
         "4851"
        ],
        [
         "47",
         "1995-12-01",
         "4826"
        ],
        [
         "48",
         "1996-01-01",
         "3699"
        ],
        [
         "49",
         "1996-02-01",
         "3983"
        ]
       ],
       "shape": {
        "columns": 2,
        "rows": 324
       }
      },
      "text/html": [
       "<div>\n",
       "<style scoped>\n",
       "    .dataframe tbody tr th:only-of-type {\n",
       "        vertical-align: middle;\n",
       "    }\n",
       "\n",
       "    .dataframe tbody tr th {\n",
       "        vertical-align: top;\n",
       "    }\n",
       "\n",
       "    .dataframe thead th {\n",
       "        text-align: right;\n",
       "    }\n",
       "</style>\n",
       "<table border=\"1\" class=\"dataframe\">\n",
       "  <thead>\n",
       "    <tr style=\"text-align: right;\">\n",
       "      <th></th>\n",
       "      <th>ds</th>\n",
       "      <th>y</th>\n",
       "    </tr>\n",
       "  </thead>\n",
       "  <tbody>\n",
       "    <tr>\n",
       "      <th>0</th>\n",
       "      <td>1992-01-01</td>\n",
       "      <td>3459</td>\n",
       "    </tr>\n",
       "    <tr>\n",
       "      <th>1</th>\n",
       "      <td>1992-02-01</td>\n",
       "      <td>3458</td>\n",
       "    </tr>\n",
       "    <tr>\n",
       "      <th>2</th>\n",
       "      <td>1992-03-01</td>\n",
       "      <td>4002</td>\n",
       "    </tr>\n",
       "    <tr>\n",
       "      <th>3</th>\n",
       "      <td>1992-04-01</td>\n",
       "      <td>4564</td>\n",
       "    </tr>\n",
       "    <tr>\n",
       "      <th>4</th>\n",
       "      <td>1992-05-01</td>\n",
       "      <td>4221</td>\n",
       "    </tr>\n",
       "    <tr>\n",
       "      <th>...</th>\n",
       "      <td>...</td>\n",
       "      <td>...</td>\n",
       "    </tr>\n",
       "    <tr>\n",
       "      <th>319</th>\n",
       "      <td>2018-08-01</td>\n",
       "      <td>14257</td>\n",
       "    </tr>\n",
       "    <tr>\n",
       "      <th>320</th>\n",
       "      <td>2018-09-01</td>\n",
       "      <td>12396</td>\n",
       "    </tr>\n",
       "    <tr>\n",
       "      <th>321</th>\n",
       "      <td>2018-10-01</td>\n",
       "      <td>13914</td>\n",
       "    </tr>\n",
       "    <tr>\n",
       "      <th>322</th>\n",
       "      <td>2018-11-01</td>\n",
       "      <td>14174</td>\n",
       "    </tr>\n",
       "    <tr>\n",
       "      <th>323</th>\n",
       "      <td>2018-12-01</td>\n",
       "      <td>15504</td>\n",
       "    </tr>\n",
       "  </tbody>\n",
       "</table>\n",
       "<p>324 rows × 2 columns</p>\n",
       "</div>"
      ],
      "text/plain": [
       "             ds      y\n",
       "0    1992-01-01   3459\n",
       "1    1992-02-01   3458\n",
       "2    1992-03-01   4002\n",
       "3    1992-04-01   4564\n",
       "4    1992-05-01   4221\n",
       "..          ...    ...\n",
       "319  2018-08-01  14257\n",
       "320  2018-09-01  12396\n",
       "321  2018-10-01  13914\n",
       "322  2018-11-01  14174\n",
       "323  2018-12-01  15504\n",
       "\n",
       "[324 rows x 2 columns]"
      ]
     },
     "execution_count": 238,
     "metadata": {},
     "output_type": "execute_result"
    }
   ],
   "source": [
    "alcohol"
   ]
  },
  {
   "cell_type": "code",
   "execution_count": 239,
   "id": "f201ee85",
   "metadata": {},
   "outputs": [],
   "source": [
    "from prophet import Prophet "
   ]
  },
  {
   "cell_type": "code",
   "execution_count": 240,
   "id": "932d57b5",
   "metadata": {},
   "outputs": [
    {
     "name": "stderr",
     "output_type": "stream",
     "text": [
      "14:02:31 - cmdstanpy - INFO - Chain [1] start processing\n"
     ]
    },
    {
     "name": "stderr",
     "output_type": "stream",
     "text": [
      "14:02:31 - cmdstanpy - INFO - Chain [1] done processing\n"
     ]
    },
    {
     "data": {
      "text/plain": [
       "<prophet.forecaster.Prophet at 0x708da2944a70>"
      ]
     },
     "execution_count": 240,
     "metadata": {},
     "output_type": "execute_result"
    }
   ],
   "source": [
    "model = Prophet()\n",
    "\n",
    "model.fit(alcohol)"
   ]
  },
  {
   "cell_type": "code",
   "execution_count": 260,
   "id": "db84ce2c",
   "metadata": {},
   "outputs": [
    {
     "data": {
      "image/png": "[encoded data removed]",
      "text/plain": [
       "<Figure size 1000x600 with 1 Axes>"
      ]
     },
     "metadata": {},
     "output_type": "display_data"
    }
   ],
   "source": [
    "future = model.make_future_dataframe(periods = 108, freq = \"MS\")\n",
    "forcast = model.predict(future)\n",
    "model.plot(forcast)\n",
    "plt.show()"
   ]
  },
  {
   "cell_type": "code",
   "execution_count": 242,
   "id": "3e77d3cb",
   "metadata": {},
   "outputs": [
    {
     "data": {
      "application/vnd.microsoft.datawrangler.viewer.v0+json": {
       "columns": [
        {
         "name": "index",
         "rawType": "int64",
         "type": "integer"
        },
        {
         "name": "ds",
         "rawType": "datetime64[ns]",
         "type": "datetime"
        },
        {
         "name": "trend",
         "rawType": "float64",
         "type": "float"
        },
        {
         "name": "yhat_lower",
         "rawType": "float64",
         "type": "float"
        },
        {
         "name": "yhat_upper",
         "rawType": "float64",
         "type": "float"
        },
        {
         "name": "trend_lower",
         "rawType": "float64",
         "type": "float"
        },
        {
         "name": "trend_upper",
         "rawType": "float64",
         "type": "float"
        },
        {
         "name": "additive_terms",
         "rawType": "float64",
         "type": "float"
        },
        {
         "name": "additive_terms_lower",
         "rawType": "float64",
         "type": "float"
        },
        {
         "name": "additive_terms_upper",
         "rawType": "float64",
         "type": "float"
        },
        {
         "name": "yearly",
         "rawType": "float64",
         "type": "float"
        },
        {
         "name": "yearly_lower",
         "rawType": "float64",
         "type": "float"
        },
        {
         "name": "yearly_upper",
         "rawType": "float64",
         "type": "float"
        },
        {
         "name": "multiplicative_terms",
         "rawType": "float64",
         "type": "float"
        },
        {
         "name": "multiplicative_terms_lower",
         "rawType": "float64",
         "type": "float"
        },
        {
         "name": "multiplicative_terms_upper",
         "rawType": "float64",
         "type": "float"
        },
        {
         "name": "yhat",
         "rawType": "float64",
         "type": "float"
        }
       ],
       "ref": "50d6f93a-57e7-4e40-a39d-f4c3f8416870",
       "rows": [
        [
         "0",
         "1992-01-01 00:00:00",
         "4011.613488",
         "1601.207405313596",
         "2797.461741281433",
         "4011.613488",
         "4011.613488",
         "-1834.2717573175464",
         "-1834.2717573175464",
         "-1834.2717573175464",
         "-1834.2717573175464",
         "-1834.2717573175464",
         "-1834.2717573175464",
         "0.0",
         "0.0",
         "0.0",
         "2177.3417306824535"
        ],
        [
         "1",
         "1992-02-01 00:00:00",
         "4025.1195063973146",
         "2128.300068509552",
         "3362.3773593022047",
         "4025.1195063973146",
         "4025.1195063973146",
         "-1253.1801409112325",
         "-1253.1801409112325",
         "-1253.1801409112325",
         "-1253.1801409112325",
         "-1253.1801409112325",
         "-1253.1801409112325",
         "0.0",
         "0.0",
         "0.0",
         "2771.9393654860824"
        ],
        [
         "2",
         "1992-03-01 00:00:00",
         "4037.754168768996",
         "3267.048642980324",
         "4488.089403887475",
         "4037.754168768996",
         "4037.754168768996",
         "-155.1440513130071",
         "-155.1440513130071",
         "-155.1440513130071",
         "-155.1440513130071",
         "-155.1440513130071",
         "-155.1440513130071",
         "0.0",
         "0.0",
         "0.0",
         "3882.610117455989"
        ],
        [
         "3",
         "1992-04-01 00:00:00",
         "4051.260187166311",
         "3255.526004560804",
         "4379.291673719906",
         "4051.260187166311",
         "4051.260187166311",
         "-218.80036789434303",
         "-218.80036789434303",
         "-218.80036789434303",
         "-218.80036789434303",
         "-218.80036789434303",
         "-218.80036789434303",
         "0.0",
         "0.0",
         "0.0",
         "3832.4598192719677"
        ],
        [
         "4",
         "1992-05-01 00:00:00",
         "4064.3305275508087",
         "4062.7117185945267",
         "5247.658880979855",
         "4064.3305275508087",
         "4064.3305275508087",
         "568.8256153354577",
         "568.8256153354577",
         "568.8256153354577",
         "568.8256153354577",
         "568.8256153354577",
         "568.8256153354577",
         "0.0",
         "0.0",
         "0.0",
         "4633.156142886266"
        ],
        [
         "5",
         "1992-06-01 00:00:00",
         "4077.8365459481233",
         "4272.729309666019",
         "5452.387295886921",
         "4077.8365459481233",
         "4077.8365459481233",
         "793.4642813430107",
         "793.4642813430107",
         "793.4642813430107",
         "793.4642813430107",
         "793.4642813430107",
         "793.4642813430107",
         "0.0",
         "0.0",
         "0.0",
         "4871.300827291134"
        ],
        [
         "6",
         "1992-07-01 00:00:00",
         "4090.906886332621",
         "3378.8149236568884",
         "4565.938090535719",
         "4090.906886332621",
         "4090.906886332621",
         "-106.06670908465232",
         "-106.06670908465232",
         "-106.06670908465232",
         "-106.06670908465232",
         "-106.06670908465232",
         "-106.06670908465232",
         "0.0",
         "0.0",
         "0.0",
         "3984.8401772479688"
        ],
        [
         "7",
         "1992-08-01 00:00:00",
         "4104.412904729937",
         "3923.4684835590433",
         "5105.952173393562",
         "4104.412904729937",
         "4104.412904729937",
         "409.4963321219407",
         "409.4963321219407",
         "409.4963321219407",
         "409.4963321219407",
         "409.4963321219407",
         "409.4963321219407",
         "0.0",
         "0.0",
         "0.0",
         "4513.909236851878"
        ],
        [
         "8",
         "1992-09-01 00:00:00",
         "4117.91892312725",
         "3330.039384044402",
         "4499.8232615720935",
         "4117.91892312725",
         "4117.91892312725",
         "-189.9770300868917",
         "-189.9770300868917",
         "-189.9770300868917",
         "-189.9770300868917",
         "-189.9770300868917",
         "-189.9770300868917",
         "0.0",
         "0.0",
         "0.0",
         "3927.9418930403585"
        ],
        [
         "9",
         "1992-10-01 00:00:00",
         "4130.9892635117485",
         "3732.510481588336",
         "5007.436909563928",
         "4130.9892635117485",
         "4130.9892635117485",
         "221.18916017536762",
         "221.18916017536762",
         "221.18916017536762",
         "221.18916017536762",
         "221.18916017536762",
         "221.18916017536762",
         "0.0",
         "0.0",
         "0.0",
         "4352.178423687116"
        ],
        [
         "10",
         "1992-11-01 00:00:00",
         "4144.495281909064",
         "3834.6105805360235",
         "5052.512936288903",
         "4144.495281909064",
         "4144.495281909064",
         "306.5325198057688",
         "306.5325198057688",
         "306.5325198057688",
         "306.5325198057688",
         "306.5325198057688",
         "306.5325198057688",
         "0.0",
         "0.0",
         "0.0",
         "4451.027801714833"
        ],
        [
         "11",
         "1992-12-01 00:00:00",
         "4157.565623279345",
         "4834.02473109299",
         "6032.292062594772",
         "4157.565623279345",
         "4157.565623279345",
         "1277.2794195644362",
         "1277.2794195644362",
         "1277.2794195644362",
         "1277.2794195644362",
         "1277.2794195644362",
         "1277.2794195644362",
         "0.0",
         "0.0",
         "0.0",
         "5434.845042843782"
        ],
        [
         "12",
         "1993-01-01 00:00:00",
         "4171.071642695303",
         "1685.1085767267857",
         "2914.8716762032936",
         "4171.071642695303",
         "4171.071642695303",
         "-1837.688913928915",
         "-1837.688913928915",
         "-1837.688913928915",
         "-1837.688913928915",
         "-1837.688913928915",
         "-1837.688913928915",
         "0.0",
         "0.0",
         "0.0",
         "2333.382728766388"
        ],
        [
         "13",
         "1993-02-01 00:00:00",
         "4184.577662111261",
         "2185.331025530276",
         "3365.822492711336",
         "4184.577662111261",
         "4184.577662111261",
         "-1427.1749185793828",
         "-1427.1749185793828",
         "-1427.1749185793828",
         "-1427.1749185793828",
         "-1427.1749185793828",
         "-1427.1749185793828",
         "0.0",
         "0.0",
         "0.0",
         "2757.402743531878"
        ],
        [
         "14",
         "1993-03-01 00:00:00",
         "4196.776647390191",
         "3446.685827322568",
         "4646.108275372493",
         "4196.776647390191",
         "4196.776647390191",
         "-177.60746522526358",
         "-177.60746522526358",
         "-177.60746522526358",
         "-177.60746522526358",
         "-177.60746522526358",
         "-177.60746522526358",
         "0.0",
         "0.0",
         "0.0",
         "4019.1691821649274"
        ],
        [
         "15",
         "1993-04-01 00:00:00",
         "4210.282666806148",
         "3343.1894448412313",
         "4541.983002988712",
         "4210.282666806148",
         "4210.282666806148",
         "-245.61043467183552",
         "-245.61043467183552",
         "-245.61043467183552",
         "-245.61043467183552",
         "-245.61043467183552",
         "-245.61043467183552",
         "0.0",
         "0.0",
         "0.0",
         "3964.6722321343123"
        ],
        [
         "16",
         "1993-05-01 00:00:00",
         "4223.35300817643",
         "4121.200284419769",
         "5356.018654409742",
         "4223.35300817643",
         "4223.35300817643",
         "519.1509180232927",
         "519.1509180232927",
         "519.1509180232927",
         "519.1509180232927",
         "519.1509180232927",
         "519.1509180232927",
         "0.0",
         "0.0",
         "0.0",
         "4742.503926199723"
        ],
        [
         "17",
         "1993-06-01 00:00:00",
         "4236.859027592388",
         "4518.435095073528",
         "5704.286888851241",
         "4236.859027592388",
         "4236.859027592388",
         "827.8974779834523",
         "827.8974779834523",
         "827.8974779834523",
         "827.8974779834523",
         "827.8974779834523",
         "827.8974779834523",
         "0.0",
         "0.0",
         "0.0",
         "5064.7565055758405"
        ],
        [
         "18",
         "1993-07-01 00:00:00",
         "4249.92936896267",
         "3564.2209700373132",
         "4796.583979310314",
         "4249.92936896267",
         "4249.92936896267",
         "-70.53787936069918",
         "-70.53787936069918",
         "-70.53787936069918",
         "-70.53787936069918",
         "-70.53787936069918",
         "-70.53787936069918",
         "0.0",
         "0.0",
         "0.0",
         "4179.391489601971"
        ],
        [
         "19",
         "1993-08-01 00:00:00",
         "4263.435388378628",
         "4072.610171776943",
         "5217.003633295912",
         "4263.435388378628",
         "4263.435388378628",
         "392.5635627366511",
         "392.5635627366511",
         "392.5635627366511",
         "392.5635627366511",
         "392.5635627366511",
         "392.5635627366511",
         "0.0",
         "0.0",
         "0.0",
         "4655.998951115279"
        ],
        [
         "20",
         "1993-09-01 00:00:00",
         "4276.941407794586",
         "3497.4959647798087",
         "4721.168859081292",
         "4276.941407794586",
         "4276.941407794586",
         "-181.4717141542218",
         "-181.4717141542218",
         "-181.4717141542218",
         "-181.4717141542218",
         "-181.4717141542218",
         "-181.4717141542218",
         "0.0",
         "0.0",
         "0.0",
         "4095.469693640364"
        ],
        [
         "21",
         "1993-10-01 00:00:00",
         "4290.011749164867",
         "3943.3986902417523",
         "5098.326566158252",
         "4290.011749164867",
         "4290.011749164867",
         "228.90016170355528",
         "228.90016170355528",
         "228.90016170355528",
         "228.90016170355528",
         "228.90016170355528",
         "228.90016170355528",
         "0.0",
         "0.0",
         "0.0",
         "4518.911910868423"
        ],
        [
         "22",
         "1993-11-01 00:00:00",
         "4303.5177682570375",
         "3947.149993318973",
         "5144.856966146747",
         "4303.5177682570375",
         "4303.5177682570375",
         "258.1748720015478",
         "258.1748720015478",
         "258.1748720015478",
         "258.1748720015478",
         "258.1748720015478",
         "258.1748720015478",
         "0.0",
         "0.0",
         "0.0",
         "4561.692640258585"
        ],
        [
         "23",
         "1993-12-01 00:00:00",
         "4316.588109313977",
         "4981.196596676632",
         "6219.334139562504",
         "4316.588109313977",
         "4316.588109313977",
         "1289.5852655146846",
         "1289.5852655146846",
         "1289.5852655146846",
         "1289.5852655146846",
         "1289.5852655146846",
         "1289.5852655146846",
         "0.0",
         "0.0",
         "0.0",
         "5606.1733748286615"
        ],
        [
         "24",
         "1994-01-01 00:00:00",
         "4330.094128406146",
         "1857.1193069360424",
         "3090.449414935403",
         "4330.094128406146",
         "4330.094128406146",
         "-1838.140100352021",
         "-1838.140100352021",
         "-1838.140100352021",
         "-1838.140100352021",
         "-1838.140100352021",
         "-1838.140100352021",
         "0.0",
         "0.0",
         "0.0",
         "2491.9540280541255"
        ],
        [
         "25",
         "1994-02-01 00:00:00",
         "4343.600147498318",
         "2386.649065715822",
         "3526.405846973029",
         "4343.600147498318",
         "4343.600147498318",
         "-1369.2595558631383",
         "-1369.2595558631383",
         "-1369.2595558631383",
         "-1369.2595558631383",
         "-1369.2595558631383",
         "-1369.2595558631383",
         "0.0",
         "0.0",
         "0.0",
         "2974.3405916351794"
        ],
        [
         "26",
         "1994-03-01 00:00:00",
         "4355.7991324847935",
         "3553.23100446358",
         "4750.421339524423",
         "4355.7991324847935",
         "4355.7991324847935",
         "-201.65950433238456",
         "-201.65950433238456",
         "-201.65950433238456",
         "-201.65950433238456",
         "-201.65950433238456",
         "-201.65950433238456",
         "0.0",
         "0.0",
         "0.0",
         "4154.139628152409"
        ],
        [
         "27",
         "1994-04-01 00:00:00",
         "4369.305151576965",
         "3542.1656178853177",
         "4722.288840925836",
         "4369.305151576965",
         "4369.305151576965",
         "-272.81379219987883",
         "-272.81379219987883",
         "-272.81379219987883",
         "-272.81379219987883",
         "-272.81379219987883",
         "-272.81379219987883",
         "0.0",
         "0.0",
         "0.0",
         "4096.491359377086"
        ],
        [
         "28",
         "1994-05-01 00:00:00",
         "4382.375492633904",
         "4258.53053276059",
         "5431.246533616241",
         "4382.375492633904",
         "4382.375492633904",
         "470.44319133310256",
         "470.44319133310256",
         "470.44319133310256",
         "470.44319133310256",
         "470.44319133310256",
         "470.44319133310256",
         "0.0",
         "0.0",
         "0.0",
         "4852.818683967007"
        ],
        [
         "29",
         "1994-06-01 00:00:00",
         "4395.881511726075",
         "4619.997657518882",
         "5832.584197981256",
         "4395.881511726075",
         "4395.881511726075",
         "863.4159189471545",
         "863.4159189471545",
         "863.4159189471545",
         "863.4159189471545",
         "863.4159189471545",
         "863.4159189471545",
         "0.0",
         "0.0",
         "0.0",
         "5259.297430673229"
        ],
        [
         "30",
         "1994-07-01 00:00:00",
         "4408.951852783013",
         "3770.405453157691",
         "4963.624976819695",
         "4408.951852783013",
         "4408.951852783013",
         "-35.23575866804702",
         "-35.23575866804702",
         "-35.23575866804702",
         "-35.23575866804702",
         "-35.23575866804702",
         "-35.23575866804702",
         "0.0",
         "0.0",
         "0.0",
         "4373.716094114966"
        ],
        [
         "31",
         "1994-08-01 00:00:00",
         "4422.4578718751845",
         "4175.1085442636795",
         "5395.290900130348",
         "4422.4578718751845",
         "4422.4578718751845",
         "374.95366561805",
         "374.95366561805",
         "374.95366561805",
         "374.95366561805",
         "374.95366561805",
         "374.95366561805",
         "0.0",
         "0.0",
         "0.0",
         "4797.411537493234"
        ],
        [
         "32",
         "1994-09-01 00:00:00",
         "4435.965336813999",
         "3700.2161066815042",
         "4853.256423601203",
         "4435.965336813999",
         "4435.965336813999",
         "-172.87321571752133",
         "-172.87321571752133",
         "-172.87321571752133",
         "-172.87321571752133",
         "-172.87321571752133",
         "-172.87321571752133",
         "0.0",
         "0.0",
         "0.0",
         "4263.092121096478"
        ],
        [
         "33",
         "1994-10-01 00:00:00",
         "4449.037077077369",
         "4049.9208757102906",
         "5276.846508535957",
         "4449.037077077369",
         "4449.037077077369",
         "235.80973440748366",
         "235.80973440748366",
         "235.80973440748366",
         "235.80973440748366",
         "235.80973440748366",
         "235.80973440748366",
         "0.0",
         "0.0",
         "0.0",
         "4684.846811484853"
        ],
        [
         "34",
         "1994-11-01 00:00:00",
         "4462.544542016184",
         "4080.5930683178226",
         "5276.646206003153",
         "4462.544542016184",
         "4462.544542016184",
         "209.94861624501777",
         "209.94861624501777",
         "209.94861624501777",
         "209.94861624501777",
         "209.94861624501777",
         "209.94861624501777",
         "0.0",
         "0.0",
         "0.0",
         "4672.493158261202"
        ],
        [
         "35",
         "1994-12-01 00:00:00",
         "4475.616282279553",
         "5214.343184970965",
         "6421.5415464389525",
         "4475.616282279553",
         "4475.616282279553",
         "1302.0429791780691",
         "1302.0429791780691",
         "1302.0429791780691",
         "1302.0429791780691",
         "1302.0429791780691",
         "1302.0429791780691",
         "0.0",
         "0.0",
         "0.0",
         "5777.659261457622"
        ],
        [
         "36",
         "1995-01-01 00:00:00",
         "4489.123747218368",
         "2060.3692028816886",
         "3242.1532365819457",
         "4489.123747218368",
         "4489.123747218368",
         "-1836.9990867387248",
         "-1836.9990867387248",
         "-1836.9990867387248",
         "-1836.9990867387248",
         "-1836.9990867387248",
         "-1836.9990867387248",
         "0.0",
         "0.0",
         "0.0",
         "2652.1246604796434"
        ],
        [
         "37",
         "1995-02-01 00:00:00",
         "4502.631212157184",
         "2643.9697679320543",
         "3767.137937996487",
         "4502.631212157184",
         "4502.631212157184",
         "-1311.2349580450887",
         "-1311.2349580450887",
         "-1311.2349580450887",
         "-1311.2349580450887",
         "-1311.2349580450887",
         "-1311.2349580450887",
         "0.0",
         "0.0",
         "0.0",
         "3191.396254112095"
        ],
        [
         "38",
         "1995-03-01 00:00:00",
         "4514.831503069662",
         "3675.906454591828",
         "4877.086038159564",
         "4514.831503069662",
         "4514.831503069662",
         "-227.28273990200674",
         "-227.28273990200674",
         "-227.28273990200674",
         "-227.28273990200674",
         "-227.28273990200674",
         "-227.28273990200674",
         "0.0",
         "0.0",
         "0.0",
         "4287.548763167655"
        ],
        [
         "39",
         "1995-04-01 00:00:00",
         "4528.338968008477",
         "3589.2597480753243",
         "4828.723911126807",
         "4528.338968008477",
         "4528.338968008477",
         "-300.36278394162764",
         "-300.36278394162764",
         "-300.36278394162764",
         "-300.36278394162764",
         "-300.36278394162764",
         "-300.36278394162764",
         "0.0",
         "0.0",
         "0.0",
         "4227.97618406685"
        ],
        [
         "40",
         "1995-05-01 00:00:00",
         "4541.4107082718465",
         "4402.3690055243",
         "5589.370097613219",
         "4541.4107082718465",
         "4541.4107082718465",
         "422.75155249736576",
         "422.75155249736576",
         "422.75155249736576",
         "422.75155249736576",
         "422.75155249736576",
         "422.75155249736576",
         "0.0",
         "0.0",
         "0.0",
         "4964.1622607692125"
        ],
        [
         "41",
         "1995-06-01 00:00:00",
         "4554.918173210663",
         "4904.646932643445",
         "6025.189097932328",
         "4554.918173210663",
         "4554.918173210663",
         "899.986468245234",
         "899.986468245234",
         "899.986468245234",
         "899.986468245234",
         "899.986468245234",
         "899.986468245234",
         "0.0",
         "0.0",
         "0.0",
         "5454.904641455897"
        ],
        [
         "42",
         "1995-07-01 00:00:00",
         "4568.550366278426",
         "3938.0336350119537",
         "5147.663874176684",
         "4568.550366278426",
         "4568.550366278426",
         "-0.20516137685993469",
         "-0.20516137685993469",
         "-0.20516137685993469",
         "-0.20516137685993469",
         "-0.20516137685993469",
         "-0.20516137685993469",
         "0.0",
         "0.0",
         "0.0",
         "4568.345204901566"
        ],
        [
         "43",
         "1995-08-01 00:00:00",
         "4582.636965781781",
         "4387.780468783151",
         "5561.946630571629",
         "4582.636965781781",
         "4582.636965781781",
         "356.67270248382994",
         "356.67270248382994",
         "356.67270248382994",
         "356.67270248382994",
         "356.67270248382994",
         "356.67270248382994",
         "0.0",
         "0.0",
         "0.0",
         "4939.309668265611"
        ],
        [
         "44",
         "1995-09-01 00:00:00",
         "4596.723565285138",
         "3871.16708347013",
         "5009.929115193058",
         "4596.723565285138",
         "4596.723565285138",
         "-164.18850874390634",
         "-164.18850874390634",
         "-164.18850874390634",
         "-164.18850874390634",
         "-164.18850874390634",
         "-164.18850874390634",
         "0.0",
         "0.0",
         "0.0",
         "4432.535056541232"
        ],
        [
         "45",
         "1995-10-01 00:00:00",
         "4610.355758352901",
         "4249.4420154543395",
         "5439.857768289503",
         "4610.355758352901",
         "4610.355758352901",
         "241.920346845739",
         "241.920346845739",
         "241.920346845739",
         "241.920346845739",
         "241.920346845739",
         "241.920346845739",
         "0.0",
         "0.0",
         "0.0",
         "4852.27610519864"
        ],
        [
         "46",
         "1995-11-01 00:00:00",
         "4624.442357856256",
         "4191.041013218338",
         "5432.111987515184",
         "4624.442357856256",
         "4624.442357856256",
         "161.90146555964395",
         "161.90146555964395",
         "161.90146555964395",
         "161.90146555964395",
         "161.90146555964395",
         "161.90146555964395",
         "0.0",
         "0.0",
         "0.0",
         "4786.3438234159"
        ],
        [
         "47",
         "1995-12-01 00:00:00",
         "4638.0745509240205",
         "5328.943817033512",
         "6519.600821658891",
         "4638.0745509240205",
         "4638.0745509240205",
         "1314.6624177405433",
         "1314.6624177405433",
         "1314.6624177405433",
         "1314.6624177405433",
         "1314.6624177405433",
         "1314.6624177405433",
         "0.0",
         "0.0",
         "0.0",
         "5952.736968664563"
        ],
        [
         "48",
         "1996-01-01 00:00:00",
         "4652.161150427376",
         "2184.923817180953",
         "3396.9662032554997",
         "4652.161150427376",
         "4652.161150427376",
         "-1834.2717573176078",
         "-1834.2717573176078",
         "-1834.2717573176078",
         "-1834.2717573176078",
         "-1834.2717573176078",
         "-1834.2717573176078",
         "0.0",
         "0.0",
         "0.0",
         "2817.889393109768"
        ],
        [
         "49",
         "1996-02-01 00:00:00",
         "4666.247749930732",
         "2830.2930002879725",
         "3997.2774929203165",
         "4666.247749930732",
         "4666.247749930732",
         "-1253.1801409114005",
         "-1253.1801409114005",
         "-1253.1801409114005",
         "-1253.1801409114005",
         "-1253.1801409114005",
         "-1253.1801409114005",
         "0.0",
         "0.0",
         "0.0",
         "3413.067609019332"
        ]
       ],
       "shape": {
        "columns": 16,
        "rows": 432
       }
      },
      "text/html": [
       "<div>\n",
       "<style scoped>\n",
       "    .dataframe tbody tr th:only-of-type {\n",
       "        vertical-align: middle;\n",
       "    }\n",
       "\n",
       "    .dataframe tbody tr th {\n",
       "        vertical-align: top;\n",
       "    }\n",
       "\n",
       "    .dataframe thead th {\n",
       "        text-align: right;\n",
       "    }\n",
       "</style>\n",
       "<table border=\"1\" class=\"dataframe\">\n",
       "  <thead>\n",
       "    <tr style=\"text-align: right;\">\n",
       "      <th></th>\n",
       "      <th>ds</th>\n",
       "      <th>trend</th>\n",
       "      <th>yhat_lower</th>\n",
       "      <th>yhat_upper</th>\n",
       "      <th>trend_lower</th>\n",
       "      <th>trend_upper</th>\n",
       "      <th>additive_terms</th>\n",
       "      <th>additive_terms_lower</th>\n",
       "      <th>additive_terms_upper</th>\n",
       "      <th>yearly</th>\n",
       "      <th>yearly_lower</th>\n",
       "      <th>yearly_upper</th>\n",
       "      <th>multiplicative_terms</th>\n",
       "      <th>multiplicative_terms_lower</th>\n",
       "      <th>multiplicative_terms_upper</th>\n",
       "      <th>yhat</th>\n",
       "    </tr>\n",
       "  </thead>\n",
       "  <tbody>\n",
       "    <tr>\n",
       "      <th>0</th>\n",
       "      <td>1992-01-01</td>\n",
       "      <td>4011.613488</td>\n",
       "      <td>1601.207405</td>\n",
       "      <td>2797.461741</td>\n",
       "      <td>4011.613488</td>\n",
       "      <td>4011.613488</td>\n",
       "      <td>-1834.271757</td>\n",
       "      <td>-1834.271757</td>\n",
       "      <td>-1834.271757</td>\n",
       "      <td>-1834.271757</td>\n",
       "      <td>-1834.271757</td>\n",
       "      <td>-1834.271757</td>\n",
       "      <td>0.0</td>\n",
       "      <td>0.0</td>\n",
       "      <td>0.0</td>\n",
       "      <td>2177.341731</td>\n",
       "    </tr>\n",
       "    <tr>\n",
       "      <th>1</th>\n",
       "      <td>1992-02-01</td>\n",
       "      <td>4025.119506</td>\n",
       "      <td>2128.300069</td>\n",
       "      <td>3362.377359</td>\n",
       "      <td>4025.119506</td>\n",
       "      <td>4025.119506</td>\n",
       "      <td>-1253.180141</td>\n",
       "      <td>-1253.180141</td>\n",
       "      <td>-1253.180141</td>\n",
       "      <td>-1253.180141</td>\n",
       "      <td>-1253.180141</td>\n",
       "      <td>-1253.180141</td>\n",
       "      <td>0.0</td>\n",
       "      <td>0.0</td>\n",
       "      <td>0.0</td>\n",
       "      <td>2771.939365</td>\n",
       "    </tr>\n",
       "    <tr>\n",
       "      <th>2</th>\n",
       "      <td>1992-03-01</td>\n",
       "      <td>4037.754169</td>\n",
       "      <td>3267.048643</td>\n",
       "      <td>4488.089404</td>\n",
       "      <td>4037.754169</td>\n",
       "      <td>4037.754169</td>\n",
       "      <td>-155.144051</td>\n",
       "      <td>-155.144051</td>\n",
       "      <td>-155.144051</td>\n",
       "      <td>-155.144051</td>\n",
       "      <td>-155.144051</td>\n",
       "      <td>-155.144051</td>\n",
       "      <td>0.0</td>\n",
       "      <td>0.0</td>\n",
       "      <td>0.0</td>\n",
       "      <td>3882.610117</td>\n",
       "    </tr>\n",
       "    <tr>\n",
       "      <th>3</th>\n",
       "      <td>1992-04-01</td>\n",
       "      <td>4051.260187</td>\n",
       "      <td>3255.526005</td>\n",
       "      <td>4379.291674</td>\n",
       "      <td>4051.260187</td>\n",
       "      <td>4051.260187</td>\n",
       "      <td>-218.800368</td>\n",
       "      <td>-218.800368</td>\n",
       "      <td>-218.800368</td>\n",
       "      <td>-218.800368</td>\n",
       "      <td>-218.800368</td>\n",
       "      <td>-218.800368</td>\n",
       "      <td>0.0</td>\n",
       "      <td>0.0</td>\n",
       "      <td>0.0</td>\n",
       "      <td>3832.459819</td>\n",
       "    </tr>\n",
       "    <tr>\n",
       "      <th>4</th>\n",
       "      <td>1992-05-01</td>\n",
       "      <td>4064.330528</td>\n",
       "      <td>4062.711719</td>\n",
       "      <td>5247.658881</td>\n",
       "      <td>4064.330528</td>\n",
       "      <td>4064.330528</td>\n",
       "      <td>568.825615</td>\n",
       "      <td>568.825615</td>\n",
       "      <td>568.825615</td>\n",
       "      <td>568.825615</td>\n",
       "      <td>568.825615</td>\n",
       "      <td>568.825615</td>\n",
       "      <td>0.0</td>\n",
       "      <td>0.0</td>\n",
       "      <td>0.0</td>\n",
       "      <td>4633.156143</td>\n",
       "    </tr>\n",
       "    <tr>\n",
       "      <th>...</th>\n",
       "      <td>...</td>\n",
       "      <td>...</td>\n",
       "      <td>...</td>\n",
       "      <td>...</td>\n",
       "      <td>...</td>\n",
       "      <td>...</td>\n",
       "      <td>...</td>\n",
       "      <td>...</td>\n",
       "      <td>...</td>\n",
       "      <td>...</td>\n",
       "      <td>...</td>\n",
       "      <td>...</td>\n",
       "      <td>...</td>\n",
       "      <td>...</td>\n",
       "      <td>...</td>\n",
       "      <td>...</td>\n",
       "    </tr>\n",
       "    <tr>\n",
       "      <th>427</th>\n",
       "      <td>2027-08-01</td>\n",
       "      <td>17041.771149</td>\n",
       "      <td>16741.174129</td>\n",
       "      <td>18113.602311</td>\n",
       "      <td>16766.570661</td>\n",
       "      <td>17333.986965</td>\n",
       "      <td>356.672702</td>\n",
       "      <td>356.672702</td>\n",
       "      <td>356.672702</td>\n",
       "      <td>356.672702</td>\n",
       "      <td>356.672702</td>\n",
       "      <td>356.672702</td>\n",
       "      <td>0.0</td>\n",
       "      <td>0.0</td>\n",
       "      <td>0.0</td>\n",
       "      <td>17398.443851</td>\n",
       "    </tr>\n",
       "    <tr>\n",
       "      <th>428</th>\n",
       "      <td>2027-09-01</td>\n",
       "      <td>17080.159151</td>\n",
       "      <td>16225.332629</td>\n",
       "      <td>17564.918267</td>\n",
       "      <td>16799.015690</td>\n",
       "      <td>17376.881237</td>\n",
       "      <td>-164.188509</td>\n",
       "      <td>-164.188509</td>\n",
       "      <td>-164.188509</td>\n",
       "      <td>-164.188509</td>\n",
       "      <td>-164.188509</td>\n",
       "      <td>-164.188509</td>\n",
       "      <td>0.0</td>\n",
       "      <td>0.0</td>\n",
       "      <td>0.0</td>\n",
       "      <td>16915.970643</td>\n",
       "    </tr>\n",
       "    <tr>\n",
       "      <th>429</th>\n",
       "      <td>2027-10-01</td>\n",
       "      <td>17117.308831</td>\n",
       "      <td>16692.017522</td>\n",
       "      <td>18092.055551</td>\n",
       "      <td>16837.728187</td>\n",
       "      <td>17414.828919</td>\n",
       "      <td>241.920347</td>\n",
       "      <td>241.920347</td>\n",
       "      <td>241.920347</td>\n",
       "      <td>241.920347</td>\n",
       "      <td>241.920347</td>\n",
       "      <td>241.920347</td>\n",
       "      <td>0.0</td>\n",
       "      <td>0.0</td>\n",
       "      <td>0.0</td>\n",
       "      <td>17359.229178</td>\n",
       "    </tr>\n",
       "    <tr>\n",
       "      <th>430</th>\n",
       "      <td>2027-11-01</td>\n",
       "      <td>17155.696834</td>\n",
       "      <td>16676.960190</td>\n",
       "      <td>18017.254098</td>\n",
       "      <td>16876.391801</td>\n",
       "      <td>17455.830239</td>\n",
       "      <td>161.901466</td>\n",
       "      <td>161.901466</td>\n",
       "      <td>161.901466</td>\n",
       "      <td>161.901466</td>\n",
       "      <td>161.901466</td>\n",
       "      <td>161.901466</td>\n",
       "      <td>0.0</td>\n",
       "      <td>0.0</td>\n",
       "      <td>0.0</td>\n",
       "      <td>17317.598299</td>\n",
       "    </tr>\n",
       "    <tr>\n",
       "      <th>431</th>\n",
       "      <td>2027-12-01</td>\n",
       "      <td>17192.846514</td>\n",
       "      <td>17809.424635</td>\n",
       "      <td>19162.940063</td>\n",
       "      <td>16906.625491</td>\n",
       "      <td>17499.708355</td>\n",
       "      <td>1314.662418</td>\n",
       "      <td>1314.662418</td>\n",
       "      <td>1314.662418</td>\n",
       "      <td>1314.662418</td>\n",
       "      <td>1314.662418</td>\n",
       "      <td>1314.662418</td>\n",
       "      <td>0.0</td>\n",
       "      <td>0.0</td>\n",
       "      <td>0.0</td>\n",
       "      <td>18507.508932</td>\n",
       "    </tr>\n",
       "  </tbody>\n",
       "</table>\n",
       "<p>432 rows × 16 columns</p>\n",
       "</div>"
      ],
      "text/plain": [
       "            ds         trend    yhat_lower    yhat_upper   trend_lower  \\\n",
       "0   1992-01-01   4011.613488   1601.207405   2797.461741   4011.613488   \n",
       "1   1992-02-01   4025.119506   2128.300069   3362.377359   4025.119506   \n",
       "2   1992-03-01   4037.754169   3267.048643   4488.089404   4037.754169   \n",
       "3   1992-04-01   4051.260187   3255.526005   4379.291674   4051.260187   \n",
       "4   1992-05-01   4064.330528   4062.711719   5247.658881   4064.330528   \n",
       "..         ...           ...           ...           ...           ...   \n",
       "427 2027-08-01  17041.771149  16741.174129  18113.602311  16766.570661   \n",
       "428 2027-09-01  17080.159151  16225.332629  17564.918267  16799.015690   \n",
       "429 2027-10-01  17117.308831  16692.017522  18092.055551  16837.728187   \n",
       "430 2027-11-01  17155.696834  16676.960190  18017.254098  16876.391801   \n",
       "431 2027-12-01  17192.846514  17809.424635  19162.940063  16906.625491   \n",
       "\n",
       "      trend_upper  additive_terms  additive_terms_lower  additive_terms_upper  \\\n",
       "0     4011.613488    -1834.271757          -1834.271757          -1834.271757   \n",
       "1     4025.119506    -1253.180141          -1253.180141          -1253.180141   \n",
       "2     4037.754169     -155.144051           -155.144051           -155.144051   \n",
       "3     4051.260187     -218.800368           -218.800368           -218.800368   \n",
       "4     4064.330528      568.825615            568.825615            568.825615   \n",
       "..            ...             ...                   ...                   ...   \n",
       "427  17333.986965      356.672702            356.672702            356.672702   \n",
       "428  17376.881237     -164.188509           -164.188509           -164.188509   \n",
       "429  17414.828919      241.920347            241.920347            241.920347   \n",
       "430  17455.830239      161.901466            161.901466            161.901466   \n",
       "431  17499.708355     1314.662418           1314.662418           1314.662418   \n",
       "\n",
       "          yearly  yearly_lower  yearly_upper  multiplicative_terms  \\\n",
       "0   -1834.271757  -1834.271757  -1834.271757                   0.0   \n",
       "1   -1253.180141  -1253.180141  -1253.180141                   0.0   \n",
       "2    -155.144051   -155.144051   -155.144051                   0.0   \n",
       "3    -218.800368   -218.800368   -218.800368                   0.0   \n",
       "4     568.825615    568.825615    568.825615                   0.0   \n",
       "..           ...           ...           ...                   ...   \n",
       "427   356.672702    356.672702    356.672702                   0.0   \n",
       "428  -164.188509   -164.188509   -164.188509                   0.0   \n",
       "429   241.920347    241.920347    241.920347                   0.0   \n",
       "430   161.901466    161.901466    161.901466                   0.0   \n",
       "431  1314.662418   1314.662418   1314.662418                   0.0   \n",
       "\n",
       "     multiplicative_terms_lower  multiplicative_terms_upper          yhat  \n",
       "0                           0.0                         0.0   2177.341731  \n",
       "1                           0.0                         0.0   2771.939365  \n",
       "2                           0.0                         0.0   3882.610117  \n",
       "3                           0.0                         0.0   3832.459819  \n",
       "4                           0.0                         0.0   4633.156143  \n",
       "..                          ...                         ...           ...  \n",
       "427                         0.0                         0.0  17398.443851  \n",
       "428                         0.0                         0.0  16915.970643  \n",
       "429                         0.0                         0.0  17359.229178  \n",
       "430                         0.0                         0.0  17317.598299  \n",
       "431                         0.0                         0.0  18507.508932  \n",
       "\n",
       "[432 rows x 16 columns]"
      ]
     },
     "execution_count": 242,
     "metadata": {},
     "output_type": "execute_result"
    }
   ],
   "source": [
    "forcast"
   ]
  },
  {
   "cell_type": "code",
   "execution_count": 243,
   "id": "5d9221fd",
   "metadata": {},
   "outputs": [
    {
     "data": {
      "image/png": "[encoded data removed]",
      "text/plain": [
       "<Figure size 900x600 with 2 Axes>"
      ]
     },
     "execution_count": 243,
     "metadata": {},
     "output_type": "execute_result"
    },
    {
     "data": {
      "image/png": "[encoded data removed]",
      "text/plain": [
       "<Figure size 900x600 with 2 Axes>"
      ]
     },
     "metadata": {},
     "output_type": "display_data"
    }
   ],
   "source": [
    "model.plot_components(forcast)"
   ]
  },
  {
   "cell_type": "code",
   "execution_count": 244,
   "id": "20e8eafd",
   "metadata": {},
   "outputs": [
    {
     "data": {
      "application/vnd.microsoft.datawrangler.viewer.v0+json": {
       "columns": [
        {
         "name": "index",
         "rawType": "int64",
         "type": "integer"
        },
        {
         "name": "Year",
         "rawType": "float64",
         "type": "float"
        },
        {
         "name": "Race",
         "rawType": "object",
         "type": "unknown"
        },
        {
         "name": "Sex",
         "rawType": "object",
         "type": "unknown"
        },
        {
         "name": "Average Life Expectancy (Years)",
         "rawType": "float64",
         "type": "float"
        },
        {
         "name": "Age-adjusted Death Rate",
         "rawType": "float64",
         "type": "float"
        }
       ],
       "ref": "e0db913c-a895-42d2-856e-50f6a428977a",
       "rows": [
        [
         "0",
         "1900.0",
         "All Races",
         "Both Sexes",
         "47.3",
         "2518.0"
        ],
        [
         "1",
         "1901.0",
         "All Races",
         "Both Sexes",
         "49.1",
         "2473.1"
        ],
        [
         "2",
         "1902.0",
         "All Races",
         "Both Sexes",
         "51.5",
         "2301.3"
        ],
        [
         "3",
         "1903.0",
         "All Races",
         "Both Sexes",
         "50.5",
         "2379.0"
        ],
        [
         "4",
         "1904.0",
         "All Races",
         "Both Sexes",
         "47.6",
         "2502.5"
        ],
        [
         "5",
         "1905.0",
         "All Races",
         "Both Sexes",
         "48.7",
         "2423.7"
        ],
        [
         "6",
         "1906.0",
         "All Races",
         "Both Sexes",
         "48.7",
         "2399.0"
        ],
        [
         "7",
         "1907.0",
         "All Races",
         "Both Sexes",
         "47.6",
         "2494.4"
        ],
        [
         "8",
         "1908.0",
         "All Races",
         "Both Sexes",
         "51.1",
         "2298.9"
        ],
        [
         "9",
         "1909.0",
         "All Races",
         "Both Sexes",
         "52.1",
         "2249.2"
        ],
        [
         "10",
         "1910.0",
         "All Races",
         "Both Sexes",
         "50.0",
         "2317.2"
        ],
        [
         "11",
         "1911.0",
         "All Races",
         "Both Sexes",
         "52.6",
         "2245.4"
        ],
        [
         "12",
         "1912.0",
         "All Races",
         "Both Sexes",
         "53.5",
         "2211.7"
        ],
        [
         "13",
         "1913.0",
         "All Races",
         "Both Sexes",
         "52.5",
         "2206.5"
        ],
        [
         "14",
         "1914.0",
         "All Races",
         "Both Sexes",
         "54.2",
         "2149.3"
        ],
        [
         "15",
         "1915.0",
         "All Races",
         "Both Sexes",
         "54.5",
         "2174.8"
        ],
        [
         "16",
         "1916.0",
         "All Races",
         "Both Sexes",
         "51.7",
         "2266.6"
        ],
        [
         "17",
         "1917.0",
         "All Races",
         "Both Sexes",
         "50.9",
         "2275.9"
        ],
        [
         "18",
         "1918.0",
         "All Races",
         "Both Sexes",
         "39.1",
         "2541.6"
        ],
        [
         "19",
         "1919.0",
         "All Races",
         "Both Sexes",
         "54.7",
         "2057.2"
        ],
        [
         "20",
         "1920.0",
         "All Races",
         "Both Sexes",
         "54.1",
         "2147.1"
        ],
        [
         "21",
         "1921.0",
         "All Races",
         "Both Sexes",
         "60.8",
         "1958.2"
        ],
        [
         "22",
         "1922.0",
         "All Races",
         "Both Sexes",
         "59.6",
         "2049.5"
        ],
        [
         "23",
         "1923.0",
         "All Races",
         "Both Sexes",
         "57.2",
         "2141.4"
        ],
        [
         "24",
         "1924.0",
         "All Races",
         "Both Sexes",
         "59.7",
         "2038.0"
        ],
        [
         "25",
         "1925.0",
         "All Races",
         "Both Sexes",
         "59.0",
         "2068.7"
        ],
        [
         "26",
         "1926.0",
         "All Races",
         "Both Sexes",
         "56.7",
         "2146.2"
        ],
        [
         "27",
         "1927.0",
         "All Races",
         "Both Sexes",
         "60.4",
         "1989.5"
        ],
        [
         "28",
         "1928.0",
         "All Races",
         "Both Sexes",
         "56.8",
         "2124.6"
        ],
        [
         "29",
         "1929.0",
         "All Races",
         "Both Sexes",
         "57.1",
         "2081.2"
        ],
        [
         "30",
         "1930.0",
         "All Races",
         "Both Sexes",
         "59.7",
         "1943.8"
        ],
        [
         "31",
         "1931.0",
         "All Races",
         "Both Sexes",
         "61.1",
         "1895.1"
        ],
        [
         "32",
         "1932.0",
         "All Races",
         "Both Sexes",
         "62.1",
         "1897.1"
        ],
        [
         "33",
         "1933.0",
         "All Races",
         "Both Sexes",
         "63.3",
         "1850.1"
        ],
        [
         "34",
         "1934.0",
         "All Races",
         "Both Sexes",
         "61.1",
         "1888.2"
        ],
        [
         "35",
         "1935.0",
         "All Races",
         "Both Sexes",
         "61.7",
         "1860.1"
        ],
        [
         "36",
         "1936.0",
         "All Races",
         "Both Sexes",
         "58.5",
         "1963.7"
        ],
        [
         "37",
         "1937.0",
         "All Races",
         "Both Sexes",
         "60.0",
         "1882.6"
        ],
        [
         "38",
         "1938.0",
         "All Races",
         "Both Sexes",
         "63.5",
         "1764.3"
        ],
        [
         "39",
         "1939.0",
         "All Races",
         "Both Sexes",
         "63.7",
         "1766.9"
        ],
        [
         "40",
         "1940.0",
         "All Races",
         "Both Sexes",
         "62.9",
         "1785.0"
        ],
        [
         "41",
         "1941.0",
         "All Races",
         "Both Sexes",
         "64.8",
         "1694.6"
        ],
        [
         "42",
         "1942.0",
         "All Races",
         "Both Sexes",
         "66.2",
         "1635.8"
        ],
        [
         "43",
         "1943.0",
         "All Races",
         "Both Sexes",
         "63.3",
         "1702.4"
        ],
        [
         "44",
         "1944.0",
         "All Races",
         "Both Sexes",
         "65.2",
         "1618.5"
        ],
        [
         "45",
         "1945.0",
         "All Races",
         "Both Sexes",
         "65.9",
         "1575.4"
        ],
        [
         "46",
         "1946.0",
         "All Races",
         "Both Sexes",
         "66.7",
         "1529.7"
        ],
        [
         "47",
         "1947.0",
         "All Races",
         "Both Sexes",
         "66.8",
         "1532.0"
        ],
        [
         "48",
         "1948.0",
         "All Races",
         "Both Sexes",
         "67.2",
         "1501.7"
        ],
        [
         "49",
         "1949.0",
         "All Races",
         "Both Sexes",
         "68.0",
         "1457.3"
        ]
       ],
       "shape": {
        "columns": 5,
        "rows": 1071
       }
      },
      "text/html": [
       "<div>\n",
       "<style scoped>\n",
       "    .dataframe tbody tr th:only-of-type {\n",
       "        vertical-align: middle;\n",
       "    }\n",
       "\n",
       "    .dataframe tbody tr th {\n",
       "        vertical-align: top;\n",
       "    }\n",
       "\n",
       "    .dataframe thead th {\n",
       "        text-align: right;\n",
       "    }\n",
       "</style>\n",
       "<table border=\"1\" class=\"dataframe\">\n",
       "  <thead>\n",
       "    <tr style=\"text-align: right;\">\n",
       "      <th></th>\n",
       "      <th>Year</th>\n",
       "      <th>Race</th>\n",
       "      <th>Sex</th>\n",
       "      <th>Average Life Expectancy (Years)</th>\n",
       "      <th>Age-adjusted Death Rate</th>\n",
       "    </tr>\n",
       "  </thead>\n",
       "  <tbody>\n",
       "    <tr>\n",
       "      <th>0</th>\n",
       "      <td>1900.0</td>\n",
       "      <td>All Races</td>\n",
       "      <td>Both Sexes</td>\n",
       "      <td>47.3</td>\n",
       "      <td>2518.0</td>\n",
       "    </tr>\n",
       "    <tr>\n",
       "      <th>1</th>\n",
       "      <td>1901.0</td>\n",
       "      <td>All Races</td>\n",
       "      <td>Both Sexes</td>\n",
       "      <td>49.1</td>\n",
       "      <td>2473.1</td>\n",
       "    </tr>\n",
       "    <tr>\n",
       "      <th>2</th>\n",
       "      <td>1902.0</td>\n",
       "      <td>All Races</td>\n",
       "      <td>Both Sexes</td>\n",
       "      <td>51.5</td>\n",
       "      <td>2301.3</td>\n",
       "    </tr>\n",
       "    <tr>\n",
       "      <th>3</th>\n",
       "      <td>1903.0</td>\n",
       "      <td>All Races</td>\n",
       "      <td>Both Sexes</td>\n",
       "      <td>50.5</td>\n",
       "      <td>2379.0</td>\n",
       "    </tr>\n",
       "    <tr>\n",
       "      <th>4</th>\n",
       "      <td>1904.0</td>\n",
       "      <td>All Races</td>\n",
       "      <td>Both Sexes</td>\n",
       "      <td>47.6</td>\n",
       "      <td>2502.5</td>\n",
       "    </tr>\n",
       "    <tr>\n",
       "      <th>...</th>\n",
       "      <td>...</td>\n",
       "      <td>...</td>\n",
       "      <td>...</td>\n",
       "      <td>...</td>\n",
       "      <td>...</td>\n",
       "    </tr>\n",
       "    <tr>\n",
       "      <th>1066</th>\n",
       "      <td>NaN</td>\n",
       "      <td>NaN</td>\n",
       "      <td>NaN</td>\n",
       "      <td>NaN</td>\n",
       "      <td>NaN</td>\n",
       "    </tr>\n",
       "    <tr>\n",
       "      <th>1067</th>\n",
       "      <td>NaN</td>\n",
       "      <td>NaN</td>\n",
       "      <td>NaN</td>\n",
       "      <td>NaN</td>\n",
       "      <td>NaN</td>\n",
       "    </tr>\n",
       "    <tr>\n",
       "      <th>1068</th>\n",
       "      <td>NaN</td>\n",
       "      <td>NaN</td>\n",
       "      <td>NaN</td>\n",
       "      <td>NaN</td>\n",
       "      <td>NaN</td>\n",
       "    </tr>\n",
       "    <tr>\n",
       "      <th>1069</th>\n",
       "      <td>NaN</td>\n",
       "      <td>NaN</td>\n",
       "      <td>NaN</td>\n",
       "      <td>NaN</td>\n",
       "      <td>NaN</td>\n",
       "    </tr>\n",
       "    <tr>\n",
       "      <th>1070</th>\n",
       "      <td>NaN</td>\n",
       "      <td>NaN</td>\n",
       "      <td>NaN</td>\n",
       "      <td>NaN</td>\n",
       "      <td>NaN</td>\n",
       "    </tr>\n",
       "  </tbody>\n",
       "</table>\n",
       "<p>1071 rows × 5 columns</p>\n",
       "</div>"
      ],
      "text/plain": [
       "        Year       Race         Sex  Average Life Expectancy (Years)  \\\n",
       "0     1900.0  All Races  Both Sexes                             47.3   \n",
       "1     1901.0  All Races  Both Sexes                             49.1   \n",
       "2     1902.0  All Races  Both Sexes                             51.5   \n",
       "3     1903.0  All Races  Both Sexes                             50.5   \n",
       "4     1904.0  All Races  Both Sexes                             47.6   \n",
       "...      ...        ...         ...                              ...   \n",
       "1066     NaN        NaN         NaN                              NaN   \n",
       "1067     NaN        NaN         NaN                              NaN   \n",
       "1068     NaN        NaN         NaN                              NaN   \n",
       "1069     NaN        NaN         NaN                              NaN   \n",
       "1070     NaN        NaN         NaN                              NaN   \n",
       "\n",
       "      Age-adjusted Death Rate  \n",
       "0                      2518.0  \n",
       "1                      2473.1  \n",
       "2                      2301.3  \n",
       "3                      2379.0  \n",
       "4                      2502.5  \n",
       "...                       ...  \n",
       "1066                      NaN  \n",
       "1067                      NaN  \n",
       "1068                      NaN  \n",
       "1069                      NaN  \n",
       "1070                      NaN  \n",
       "\n",
       "[1071 rows x 5 columns]"
      ]
     },
     "execution_count": 244,
     "metadata": {},
     "output_type": "execute_result"
    }
   ],
   "source": [
    "Death"
   ]
  },
  {
   "cell_type": "code",
   "execution_count": 245,
   "id": "b83acfba",
   "metadata": {},
   "outputs": [
    {
     "name": "stderr",
     "output_type": "stream",
     "text": [
      "/tmp/ipykernel_3747/3617273664.py:2: UserWarning: Boolean Series key will be reindexed to match DataFrame index.\n",
      "  Death2 = Death1[Death['Sex'] == 'Both Sexes'].sort_values(by = 'Year')\n"
     ]
    }
   ],
   "source": [
    "Death1 = Death[Death['Race'] == 'All Races']\n",
    "Death2 = Death1[Death['Sex'] == 'Both Sexes'].sort_values(by = 'Year')"
   ]
  },
  {
   "cell_type": "code",
   "execution_count": 246,
   "id": "ec1832eb",
   "metadata": {},
   "outputs": [
    {
     "data": {
      "text/plain": [
       "np.int64(0)"
      ]
     },
     "execution_count": 246,
     "metadata": {},
     "output_type": "execute_result"
    }
   ],
   "source": [
    "Death2.duplicated().sum()  "
   ]
  },
  {
   "cell_type": "code",
   "execution_count": 247,
   "id": "8882d197",
   "metadata": {},
   "outputs": [
    {
     "data": {
      "application/vnd.microsoft.datawrangler.viewer.v0+json": {
       "columns": [
        {
         "name": "index",
         "rawType": "int64",
         "type": "integer"
        },
        {
         "name": "Year",
         "rawType": "float64",
         "type": "float"
        },
        {
         "name": "Race",
         "rawType": "object",
         "type": "string"
        },
        {
         "name": "Sex",
         "rawType": "object",
         "type": "string"
        },
        {
         "name": "Average Life Expectancy (Years)",
         "rawType": "float64",
         "type": "float"
        },
        {
         "name": "Age-adjusted Death Rate",
         "rawType": "float64",
         "type": "float"
        }
       ],
       "ref": "94337dc0-007d-414a-90a7-337c3863fe9d",
       "rows": [
        [
         "0",
         "1900.0",
         "All Races",
         "Both Sexes",
         "47.3",
         "2518.0"
        ],
        [
         "1",
         "1901.0",
         "All Races",
         "Both Sexes",
         "49.1",
         "2473.1"
        ],
        [
         "2",
         "1902.0",
         "All Races",
         "Both Sexes",
         "51.5",
         "2301.3"
        ],
        [
         "3",
         "1903.0",
         "All Races",
         "Both Sexes",
         "50.5",
         "2379.0"
        ],
        [
         "4",
         "1904.0",
         "All Races",
         "Both Sexes",
         "47.6",
         "2502.5"
        ],
        [
         "5",
         "1905.0",
         "All Races",
         "Both Sexes",
         "48.7",
         "2423.7"
        ],
        [
         "6",
         "1906.0",
         "All Races",
         "Both Sexes",
         "48.7",
         "2399.0"
        ],
        [
         "7",
         "1907.0",
         "All Races",
         "Both Sexes",
         "47.6",
         "2494.4"
        ],
        [
         "8",
         "1908.0",
         "All Races",
         "Both Sexes",
         "51.1",
         "2298.9"
        ],
        [
         "9",
         "1909.0",
         "All Races",
         "Both Sexes",
         "52.1",
         "2249.2"
        ],
        [
         "10",
         "1910.0",
         "All Races",
         "Both Sexes",
         "50.0",
         "2317.2"
        ],
        [
         "11",
         "1911.0",
         "All Races",
         "Both Sexes",
         "52.6",
         "2245.4"
        ],
        [
         "12",
         "1912.0",
         "All Races",
         "Both Sexes",
         "53.5",
         "2211.7"
        ],
        [
         "13",
         "1913.0",
         "All Races",
         "Both Sexes",
         "52.5",
         "2206.5"
        ],
        [
         "14",
         "1914.0",
         "All Races",
         "Both Sexes",
         "54.2",
         "2149.3"
        ],
        [
         "15",
         "1915.0",
         "All Races",
         "Both Sexes",
         "54.5",
         "2174.8"
        ],
        [
         "16",
         "1916.0",
         "All Races",
         "Both Sexes",
         "51.7",
         "2266.6"
        ],
        [
         "17",
         "1917.0",
         "All Races",
         "Both Sexes",
         "50.9",
         "2275.9"
        ],
        [
         "18",
         "1918.0",
         "All Races",
         "Both Sexes",
         "39.1",
         "2541.6"
        ],
        [
         "19",
         "1919.0",
         "All Races",
         "Both Sexes",
         "54.7",
         "2057.2"
        ],
        [
         "20",
         "1920.0",
         "All Races",
         "Both Sexes",
         "54.1",
         "2147.1"
        ],
        [
         "21",
         "1921.0",
         "All Races",
         "Both Sexes",
         "60.8",
         "1958.2"
        ],
        [
         "22",
         "1922.0",
         "All Races",
         "Both Sexes",
         "59.6",
         "2049.5"
        ],
        [
         "23",
         "1923.0",
         "All Races",
         "Both Sexes",
         "57.2",
         "2141.4"
        ],
        [
         "24",
         "1924.0",
         "All Races",
         "Both Sexes",
         "59.7",
         "2038.0"
        ],
        [
         "25",
         "1925.0",
         "All Races",
         "Both Sexes",
         "59.0",
         "2068.7"
        ],
        [
         "26",
         "1926.0",
         "All Races",
         "Both Sexes",
         "56.7",
         "2146.2"
        ],
        [
         "27",
         "1927.0",
         "All Races",
         "Both Sexes",
         "60.4",
         "1989.5"
        ],
        [
         "28",
         "1928.0",
         "All Races",
         "Both Sexes",
         "56.8",
         "2124.6"
        ],
        [
         "29",
         "1929.0",
         "All Races",
         "Both Sexes",
         "57.1",
         "2081.2"
        ],
        [
         "30",
         "1930.0",
         "All Races",
         "Both Sexes",
         "59.7",
         "1943.8"
        ],
        [
         "31",
         "1931.0",
         "All Races",
         "Both Sexes",
         "61.1",
         "1895.1"
        ],
        [
         "32",
         "1932.0",
         "All Races",
         "Both Sexes",
         "62.1",
         "1897.1"
        ],
        [
         "33",
         "1933.0",
         "All Races",
         "Both Sexes",
         "63.3",
         "1850.1"
        ],
        [
         "34",
         "1934.0",
         "All Races",
         "Both Sexes",
         "61.1",
         "1888.2"
        ],
        [
         "35",
         "1935.0",
         "All Races",
         "Both Sexes",
         "61.7",
         "1860.1"
        ],
        [
         "36",
         "1936.0",
         "All Races",
         "Both Sexes",
         "58.5",
         "1963.7"
        ],
        [
         "37",
         "1937.0",
         "All Races",
         "Both Sexes",
         "60.0",
         "1882.6"
        ],
        [
         "38",
         "1938.0",
         "All Races",
         "Both Sexes",
         "63.5",
         "1764.3"
        ],
        [
         "39",
         "1939.0",
         "All Races",
         "Both Sexes",
         "63.7",
         "1766.9"
        ],
        [
         "40",
         "1940.0",
         "All Races",
         "Both Sexes",
         "62.9",
         "1785.0"
        ],
        [
         "41",
         "1941.0",
         "All Races",
         "Both Sexes",
         "64.8",
         "1694.6"
        ],
        [
         "42",
         "1942.0",
         "All Races",
         "Both Sexes",
         "66.2",
         "1635.8"
        ],
        [
         "43",
         "1943.0",
         "All Races",
         "Both Sexes",
         "63.3",
         "1702.4"
        ],
        [
         "44",
         "1944.0",
         "All Races",
         "Both Sexes",
         "65.2",
         "1618.5"
        ],
        [
         "45",
         "1945.0",
         "All Races",
         "Both Sexes",
         "65.9",
         "1575.4"
        ],
        [
         "46",
         "1946.0",
         "All Races",
         "Both Sexes",
         "66.7",
         "1529.7"
        ],
        [
         "47",
         "1947.0",
         "All Races",
         "Both Sexes",
         "66.8",
         "1532.0"
        ],
        [
         "48",
         "1948.0",
         "All Races",
         "Both Sexes",
         "67.2",
         "1501.7"
        ],
        [
         "49",
         "1949.0",
         "All Races",
         "Both Sexes",
         "68.0",
         "1457.3"
        ]
       ],
       "shape": {
        "columns": 5,
        "rows": 119
       }
      },
      "text/html": [
       "<div>\n",
       "<style scoped>\n",
       "    .dataframe tbody tr th:only-of-type {\n",
       "        vertical-align: middle;\n",
       "    }\n",
       "\n",
       "    .dataframe tbody tr th {\n",
       "        vertical-align: top;\n",
       "    }\n",
       "\n",
       "    .dataframe thead th {\n",
       "        text-align: right;\n",
       "    }\n",
       "</style>\n",
       "<table border=\"1\" class=\"dataframe\">\n",
       "  <thead>\n",
       "    <tr style=\"text-align: right;\">\n",
       "      <th></th>\n",
       "      <th>Year</th>\n",
       "      <th>Race</th>\n",
       "      <th>Sex</th>\n",
       "      <th>Average Life Expectancy (Years)</th>\n",
       "      <th>Age-adjusted Death Rate</th>\n",
       "    </tr>\n",
       "  </thead>\n",
       "  <tbody>\n",
       "    <tr>\n",
       "      <th>0</th>\n",
       "      <td>1900.0</td>\n",
       "      <td>All Races</td>\n",
       "      <td>Both Sexes</td>\n",
       "      <td>47.3</td>\n",
       "      <td>2518.0</td>\n",
       "    </tr>\n",
       "    <tr>\n",
       "      <th>1</th>\n",
       "      <td>1901.0</td>\n",
       "      <td>All Races</td>\n",
       "      <td>Both Sexes</td>\n",
       "      <td>49.1</td>\n",
       "      <td>2473.1</td>\n",
       "    </tr>\n",
       "    <tr>\n",
       "      <th>2</th>\n",
       "      <td>1902.0</td>\n",
       "      <td>All Races</td>\n",
       "      <td>Both Sexes</td>\n",
       "      <td>51.5</td>\n",
       "      <td>2301.3</td>\n",
       "    </tr>\n",
       "    <tr>\n",
       "      <th>3</th>\n",
       "      <td>1903.0</td>\n",
       "      <td>All Races</td>\n",
       "      <td>Both Sexes</td>\n",
       "      <td>50.5</td>\n",
       "      <td>2379.0</td>\n",
       "    </tr>\n",
       "    <tr>\n",
       "      <th>4</th>\n",
       "      <td>1904.0</td>\n",
       "      <td>All Races</td>\n",
       "      <td>Both Sexes</td>\n",
       "      <td>47.6</td>\n",
       "      <td>2502.5</td>\n",
       "    </tr>\n",
       "    <tr>\n",
       "      <th>...</th>\n",
       "      <td>...</td>\n",
       "      <td>...</td>\n",
       "      <td>...</td>\n",
       "      <td>...</td>\n",
       "      <td>...</td>\n",
       "    </tr>\n",
       "    <tr>\n",
       "      <th>114</th>\n",
       "      <td>2014.0</td>\n",
       "      <td>All Races</td>\n",
       "      <td>Both Sexes</td>\n",
       "      <td>78.9</td>\n",
       "      <td>724.6</td>\n",
       "    </tr>\n",
       "    <tr>\n",
       "      <th>115</th>\n",
       "      <td>2015.0</td>\n",
       "      <td>All Races</td>\n",
       "      <td>Both Sexes</td>\n",
       "      <td>78.7</td>\n",
       "      <td>733.1</td>\n",
       "    </tr>\n",
       "    <tr>\n",
       "      <th>116</th>\n",
       "      <td>2016.0</td>\n",
       "      <td>All Races</td>\n",
       "      <td>Both Sexes</td>\n",
       "      <td>78.7</td>\n",
       "      <td>728.8</td>\n",
       "    </tr>\n",
       "    <tr>\n",
       "      <th>117</th>\n",
       "      <td>2017.0</td>\n",
       "      <td>All Races</td>\n",
       "      <td>Both Sexes</td>\n",
       "      <td>78.6</td>\n",
       "      <td>731.9</td>\n",
       "    </tr>\n",
       "    <tr>\n",
       "      <th>118</th>\n",
       "      <td>2018.0</td>\n",
       "      <td>All Races</td>\n",
       "      <td>Both Sexes</td>\n",
       "      <td>78.7</td>\n",
       "      <td>723.6</td>\n",
       "    </tr>\n",
       "  </tbody>\n",
       "</table>\n",
       "<p>119 rows × 5 columns</p>\n",
       "</div>"
      ],
      "text/plain": [
       "       Year       Race         Sex  Average Life Expectancy (Years)  \\\n",
       "0    1900.0  All Races  Both Sexes                             47.3   \n",
       "1    1901.0  All Races  Both Sexes                             49.1   \n",
       "2    1902.0  All Races  Both Sexes                             51.5   \n",
       "3    1903.0  All Races  Both Sexes                             50.5   \n",
       "4    1904.0  All Races  Both Sexes                             47.6   \n",
       "..      ...        ...         ...                              ...   \n",
       "114  2014.0  All Races  Both Sexes                             78.9   \n",
       "115  2015.0  All Races  Both Sexes                             78.7   \n",
       "116  2016.0  All Races  Both Sexes                             78.7   \n",
       "117  2017.0  All Races  Both Sexes                             78.6   \n",
       "118  2018.0  All Races  Both Sexes                             78.7   \n",
       "\n",
       "     Age-adjusted Death Rate  \n",
       "0                     2518.0  \n",
       "1                     2473.1  \n",
       "2                     2301.3  \n",
       "3                     2379.0  \n",
       "4                     2502.5  \n",
       "..                       ...  \n",
       "114                    724.6  \n",
       "115                    733.1  \n",
       "116                    728.8  \n",
       "117                    731.9  \n",
       "118                    723.6  \n",
       "\n",
       "[119 rows x 5 columns]"
      ]
     },
     "execution_count": 247,
     "metadata": {},
     "output_type": "execute_result"
    }
   ],
   "source": [
    "Death2"
   ]
  },
  {
   "cell_type": "code",
   "execution_count": 248,
   "id": "9433c52d",
   "metadata": {},
   "outputs": [],
   "source": [
    "Death2 =  Death2.iloc[:,[0,4]]"
   ]
  },
  {
   "cell_type": "code",
   "execution_count": 249,
   "id": "d5e7b981",
   "metadata": {},
   "outputs": [
    {
     "data": {
      "application/vnd.microsoft.datawrangler.viewer.v0+json": {
       "columns": [
        {
         "name": "index",
         "rawType": "int64",
         "type": "integer"
        },
        {
         "name": "Year",
         "rawType": "float64",
         "type": "float"
        },
        {
         "name": "Age-adjusted Death Rate",
         "rawType": "float64",
         "type": "float"
        }
       ],
       "ref": "4fd837ed-7c9b-4fd7-8770-3180b1264d48",
       "rows": [
        [
         "0",
         "1900.0",
         "2518.0"
        ],
        [
         "1",
         "1901.0",
         "2473.1"
        ],
        [
         "2",
         "1902.0",
         "2301.3"
        ],
        [
         "3",
         "1903.0",
         "2379.0"
        ],
        [
         "4",
         "1904.0",
         "2502.5"
        ],
        [
         "5",
         "1905.0",
         "2423.7"
        ],
        [
         "6",
         "1906.0",
         "2399.0"
        ],
        [
         "7",
         "1907.0",
         "2494.4"
        ],
        [
         "8",
         "1908.0",
         "2298.9"
        ],
        [
         "9",
         "1909.0",
         "2249.2"
        ],
        [
         "10",
         "1910.0",
         "2317.2"
        ],
        [
         "11",
         "1911.0",
         "2245.4"
        ],
        [
         "12",
         "1912.0",
         "2211.7"
        ],
        [
         "13",
         "1913.0",
         "2206.5"
        ],
        [
         "14",
         "1914.0",
         "2149.3"
        ],
        [
         "15",
         "1915.0",
         "2174.8"
        ],
        [
         "16",
         "1916.0",
         "2266.6"
        ],
        [
         "17",
         "1917.0",
         "2275.9"
        ],
        [
         "18",
         "1918.0",
         "2541.6"
        ],
        [
         "19",
         "1919.0",
         "2057.2"
        ],
        [
         "20",
         "1920.0",
         "2147.1"
        ],
        [
         "21",
         "1921.0",
         "1958.2"
        ],
        [
         "22",
         "1922.0",
         "2049.5"
        ],
        [
         "23",
         "1923.0",
         "2141.4"
        ],
        [
         "24",
         "1924.0",
         "2038.0"
        ],
        [
         "25",
         "1925.0",
         "2068.7"
        ],
        [
         "26",
         "1926.0",
         "2146.2"
        ],
        [
         "27",
         "1927.0",
         "1989.5"
        ],
        [
         "28",
         "1928.0",
         "2124.6"
        ],
        [
         "29",
         "1929.0",
         "2081.2"
        ],
        [
         "30",
         "1930.0",
         "1943.8"
        ],
        [
         "31",
         "1931.0",
         "1895.1"
        ],
        [
         "32",
         "1932.0",
         "1897.1"
        ],
        [
         "33",
         "1933.0",
         "1850.1"
        ],
        [
         "34",
         "1934.0",
         "1888.2"
        ],
        [
         "35",
         "1935.0",
         "1860.1"
        ],
        [
         "36",
         "1936.0",
         "1963.7"
        ],
        [
         "37",
         "1937.0",
         "1882.6"
        ],
        [
         "38",
         "1938.0",
         "1764.3"
        ],
        [
         "39",
         "1939.0",
         "1766.9"
        ],
        [
         "40",
         "1940.0",
         "1785.0"
        ],
        [
         "41",
         "1941.0",
         "1694.6"
        ],
        [
         "42",
         "1942.0",
         "1635.8"
        ],
        [
         "43",
         "1943.0",
         "1702.4"
        ],
        [
         "44",
         "1944.0",
         "1618.5"
        ],
        [
         "45",
         "1945.0",
         "1575.4"
        ],
        [
         "46",
         "1946.0",
         "1529.7"
        ],
        [
         "47",
         "1947.0",
         "1532.0"
        ],
        [
         "48",
         "1948.0",
         "1501.7"
        ],
        [
         "49",
         "1949.0",
         "1457.3"
        ]
       ],
       "shape": {
        "columns": 2,
        "rows": 119
       }
      },
      "text/html": [
       "<div>\n",
       "<style scoped>\n",
       "    .dataframe tbody tr th:only-of-type {\n",
       "        vertical-align: middle;\n",
       "    }\n",
       "\n",
       "    .dataframe tbody tr th {\n",
       "        vertical-align: top;\n",
       "    }\n",
       "\n",
       "    .dataframe thead th {\n",
       "        text-align: right;\n",
       "    }\n",
       "</style>\n",
       "<table border=\"1\" class=\"dataframe\">\n",
       "  <thead>\n",
       "    <tr style=\"text-align: right;\">\n",
       "      <th></th>\n",
       "      <th>Year</th>\n",
       "      <th>Age-adjusted Death Rate</th>\n",
       "    </tr>\n",
       "  </thead>\n",
       "  <tbody>\n",
       "    <tr>\n",
       "      <th>0</th>\n",
       "      <td>1900.0</td>\n",
       "      <td>2518.0</td>\n",
       "    </tr>\n",
       "    <tr>\n",
       "      <th>1</th>\n",
       "      <td>1901.0</td>\n",
       "      <td>2473.1</td>\n",
       "    </tr>\n",
       "    <tr>\n",
       "      <th>2</th>\n",
       "      <td>1902.0</td>\n",
       "      <td>2301.3</td>\n",
       "    </tr>\n",
       "    <tr>\n",
       "      <th>3</th>\n",
       "      <td>1903.0</td>\n",
       "      <td>2379.0</td>\n",
       "    </tr>\n",
       "    <tr>\n",
       "      <th>4</th>\n",
       "      <td>1904.0</td>\n",
       "      <td>2502.5</td>\n",
       "    </tr>\n",
       "    <tr>\n",
       "      <th>...</th>\n",
       "      <td>...</td>\n",
       "      <td>...</td>\n",
       "    </tr>\n",
       "    <tr>\n",
       "      <th>114</th>\n",
       "      <td>2014.0</td>\n",
       "      <td>724.6</td>\n",
       "    </tr>\n",
       "    <tr>\n",
       "      <th>115</th>\n",
       "      <td>2015.0</td>\n",
       "      <td>733.1</td>\n",
       "    </tr>\n",
       "    <tr>\n",
       "      <th>116</th>\n",
       "      <td>2016.0</td>\n",
       "      <td>728.8</td>\n",
       "    </tr>\n",
       "    <tr>\n",
       "      <th>117</th>\n",
       "      <td>2017.0</td>\n",
       "      <td>731.9</td>\n",
       "    </tr>\n",
       "    <tr>\n",
       "      <th>118</th>\n",
       "      <td>2018.0</td>\n",
       "      <td>723.6</td>\n",
       "    </tr>\n",
       "  </tbody>\n",
       "</table>\n",
       "<p>119 rows × 2 columns</p>\n",
       "</div>"
      ],
      "text/plain": [
       "       Year  Age-adjusted Death Rate\n",
       "0    1900.0                   2518.0\n",
       "1    1901.0                   2473.1\n",
       "2    1902.0                   2301.3\n",
       "3    1903.0                   2379.0\n",
       "4    1904.0                   2502.5\n",
       "..      ...                      ...\n",
       "114  2014.0                    724.6\n",
       "115  2015.0                    733.1\n",
       "116  2016.0                    728.8\n",
       "117  2017.0                    731.9\n",
       "118  2018.0                    723.6\n",
       "\n",
       "[119 rows x 2 columns]"
      ]
     },
     "execution_count": 249,
     "metadata": {},
     "output_type": "execute_result"
    }
   ],
   "source": [
    "Death2"
   ]
  },
  {
   "cell_type": "code",
   "execution_count": 250,
   "id": "8a791ede",
   "metadata": {},
   "outputs": [],
   "source": [
    "Death2 = Death2.rename(columns={ \"Year\" : \"ds\", \"Age-adjusted Death Rate\": \"y\"} )"
   ]
  },
  {
   "cell_type": "code",
   "execution_count": 251,
   "id": "8d27bd5d",
   "metadata": {},
   "outputs": [],
   "source": [
    "Death2['ds'] = pd.to_datetime(Death2['ds'], format='%Y')"
   ]
  },
  {
   "cell_type": "code",
   "execution_count": 252,
   "id": "098a5a05",
   "metadata": {},
   "outputs": [
    {
     "data": {
      "application/vnd.microsoft.datawrangler.viewer.v0+json": {
       "columns": [
        {
         "name": "index",
         "rawType": "int64",
         "type": "integer"
        },
        {
         "name": "ds",
         "rawType": "datetime64[ns]",
         "type": "datetime"
        },
        {
         "name": "y",
         "rawType": "float64",
         "type": "float"
        }
       ],
       "ref": "2b5b2ab8-6883-426a-b5f2-4dc9221eda86",
       "rows": [
        [
         "0",
         "1900-01-01 00:00:00",
         "2518.0"
        ],
        [
         "1",
         "1901-01-01 00:00:00",
         "2473.1"
        ],
        [
         "2",
         "1902-01-01 00:00:00",
         "2301.3"
        ],
        [
         "3",
         "1903-01-01 00:00:00",
         "2379.0"
        ],
        [
         "4",
         "1904-01-01 00:00:00",
         "2502.5"
        ],
        [
         "5",
         "1905-01-01 00:00:00",
         "2423.7"
        ],
        [
         "6",
         "1906-01-01 00:00:00",
         "2399.0"
        ],
        [
         "7",
         "1907-01-01 00:00:00",
         "2494.4"
        ],
        [
         "8",
         "1908-01-01 00:00:00",
         "2298.9"
        ],
        [
         "9",
         "1909-01-01 00:00:00",
         "2249.2"
        ],
        [
         "10",
         "1910-01-01 00:00:00",
         "2317.2"
        ],
        [
         "11",
         "1911-01-01 00:00:00",
         "2245.4"
        ],
        [
         "12",
         "1912-01-01 00:00:00",
         "2211.7"
        ],
        [
         "13",
         "1913-01-01 00:00:00",
         "2206.5"
        ],
        [
         "14",
         "1914-01-01 00:00:00",
         "2149.3"
        ],
        [
         "15",
         "1915-01-01 00:00:00",
         "2174.8"
        ],
        [
         "16",
         "1916-01-01 00:00:00",
         "2266.6"
        ],
        [
         "17",
         "1917-01-01 00:00:00",
         "2275.9"
        ],
        [
         "18",
         "1918-01-01 00:00:00",
         "2541.6"
        ],
        [
         "19",
         "1919-01-01 00:00:00",
         "2057.2"
        ],
        [
         "20",
         "1920-01-01 00:00:00",
         "2147.1"
        ],
        [
         "21",
         "1921-01-01 00:00:00",
         "1958.2"
        ],
        [
         "22",
         "1922-01-01 00:00:00",
         "2049.5"
        ],
        [
         "23",
         "1923-01-01 00:00:00",
         "2141.4"
        ],
        [
         "24",
         "1924-01-01 00:00:00",
         "2038.0"
        ],
        [
         "25",
         "1925-01-01 00:00:00",
         "2068.7"
        ],
        [
         "26",
         "1926-01-01 00:00:00",
         "2146.2"
        ],
        [
         "27",
         "1927-01-01 00:00:00",
         "1989.5"
        ],
        [
         "28",
         "1928-01-01 00:00:00",
         "2124.6"
        ],
        [
         "29",
         "1929-01-01 00:00:00",
         "2081.2"
        ],
        [
         "30",
         "1930-01-01 00:00:00",
         "1943.8"
        ],
        [
         "31",
         "1931-01-01 00:00:00",
         "1895.1"
        ],
        [
         "32",
         "1932-01-01 00:00:00",
         "1897.1"
        ],
        [
         "33",
         "1933-01-01 00:00:00",
         "1850.1"
        ],
        [
         "34",
         "1934-01-01 00:00:00",
         "1888.2"
        ],
        [
         "35",
         "1935-01-01 00:00:00",
         "1860.1"
        ],
        [
         "36",
         "1936-01-01 00:00:00",
         "1963.7"
        ],
        [
         "37",
         "1937-01-01 00:00:00",
         "1882.6"
        ],
        [
         "38",
         "1938-01-01 00:00:00",
         "1764.3"
        ],
        [
         "39",
         "1939-01-01 00:00:00",
         "1766.9"
        ],
        [
         "40",
         "1940-01-01 00:00:00",
         "1785.0"
        ],
        [
         "41",
         "1941-01-01 00:00:00",
         "1694.6"
        ],
        [
         "42",
         "1942-01-01 00:00:00",
         "1635.8"
        ],
        [
         "43",
         "1943-01-01 00:00:00",
         "1702.4"
        ],
        [
         "44",
         "1944-01-01 00:00:00",
         "1618.5"
        ],
        [
         "45",
         "1945-01-01 00:00:00",
         "1575.4"
        ],
        [
         "46",
         "1946-01-01 00:00:00",
         "1529.7"
        ],
        [
         "47",
         "1947-01-01 00:00:00",
         "1532.0"
        ],
        [
         "48",
         "1948-01-01 00:00:00",
         "1501.7"
        ],
        [
         "49",
         "1949-01-01 00:00:00",
         "1457.3"
        ]
       ],
       "shape": {
        "columns": 2,
        "rows": 119
       }
      },
      "text/html": [
       "<div>\n",
       "<style scoped>\n",
       "    .dataframe tbody tr th:only-of-type {\n",
       "        vertical-align: middle;\n",
       "    }\n",
       "\n",
       "    .dataframe tbody tr th {\n",
       "        vertical-align: top;\n",
       "    }\n",
       "\n",
       "    .dataframe thead th {\n",
       "        text-align: right;\n",
       "    }\n",
       "</style>\n",
       "<table border=\"1\" class=\"dataframe\">\n",
       "  <thead>\n",
       "    <tr style=\"text-align: right;\">\n",
       "      <th></th>\n",
       "      <th>ds</th>\n",
       "      <th>y</th>\n",
       "    </tr>\n",
       "  </thead>\n",
       "  <tbody>\n",
       "    <tr>\n",
       "      <th>0</th>\n",
       "      <td>1900-01-01</td>\n",
       "      <td>2518.0</td>\n",
       "    </tr>\n",
       "    <tr>\n",
       "      <th>1</th>\n",
       "      <td>1901-01-01</td>\n",
       "      <td>2473.1</td>\n",
       "    </tr>\n",
       "    <tr>\n",
       "      <th>2</th>\n",
       "      <td>1902-01-01</td>\n",
       "      <td>2301.3</td>\n",
       "    </tr>\n",
       "    <tr>\n",
       "      <th>3</th>\n",
       "      <td>1903-01-01</td>\n",
       "      <td>2379.0</td>\n",
       "    </tr>\n",
       "    <tr>\n",
       "      <th>4</th>\n",
       "      <td>1904-01-01</td>\n",
       "      <td>2502.5</td>\n",
       "    </tr>\n",
       "    <tr>\n",
       "      <th>...</th>\n",
       "      <td>...</td>\n",
       "      <td>...</td>\n",
       "    </tr>\n",
       "    <tr>\n",
       "      <th>114</th>\n",
       "      <td>2014-01-01</td>\n",
       "      <td>724.6</td>\n",
       "    </tr>\n",
       "    <tr>\n",
       "      <th>115</th>\n",
       "      <td>2015-01-01</td>\n",
       "      <td>733.1</td>\n",
       "    </tr>\n",
       "    <tr>\n",
       "      <th>116</th>\n",
       "      <td>2016-01-01</td>\n",
       "      <td>728.8</td>\n",
       "    </tr>\n",
       "    <tr>\n",
       "      <th>117</th>\n",
       "      <td>2017-01-01</td>\n",
       "      <td>731.9</td>\n",
       "    </tr>\n",
       "    <tr>\n",
       "      <th>118</th>\n",
       "      <td>2018-01-01</td>\n",
       "      <td>723.6</td>\n",
       "    </tr>\n",
       "  </tbody>\n",
       "</table>\n",
       "<p>119 rows × 2 columns</p>\n",
       "</div>"
      ],
      "text/plain": [
       "            ds       y\n",
       "0   1900-01-01  2518.0\n",
       "1   1901-01-01  2473.1\n",
       "2   1902-01-01  2301.3\n",
       "3   1903-01-01  2379.0\n",
       "4   1904-01-01  2502.5\n",
       "..         ...     ...\n",
       "114 2014-01-01   724.6\n",
       "115 2015-01-01   733.1\n",
       "116 2016-01-01   728.8\n",
       "117 2017-01-01   731.9\n",
       "118 2018-01-01   723.6\n",
       "\n",
       "[119 rows x 2 columns]"
      ]
     },
     "execution_count": 252,
     "metadata": {},
     "output_type": "execute_result"
    }
   ],
   "source": [
    "Death2"
   ]
  },
  {
   "cell_type": "code",
   "execution_count": 253,
   "id": "979ca8ea",
   "metadata": {},
   "outputs": [
    {
     "name": "stderr",
     "output_type": "stream",
     "text": [
      "14:02:36 - cmdstanpy - INFO - Chain [1] start processing\n",
      "14:02:36 - cmdstanpy - INFO - Chain [1] done processing\n"
     ]
    },
    {
     "data": {
      "text/plain": [
       "<prophet.forecaster.Prophet at 0x708da270b140>"
      ]
     },
     "execution_count": 253,
     "metadata": {},
     "output_type": "execute_result"
    }
   ],
   "source": [
    "model2 = Prophet()\n",
    "\n",
    "model2.fit(Death2)"
   ]
  },
  {
   "cell_type": "code",
   "execution_count": 259,
   "id": "523e29cb",
   "metadata": {},
   "outputs": [
    {
     "data": {
      "image/png": "[encoded data removed]",
      "text/plain": [
       "<Figure size 1000x600 with 1 Axes>"
      ]
     },
     "metadata": {},
     "output_type": "display_data"
    }
   ],
   "source": [
    "future2 = model2.make_future_dataframe(periods = 25, freq = \"YE\")\n",
    "forcast2 = model2.predict(future2)\n",
    "model2.plot(forcast2)\n",
    "plt.show()"
   ]
  },
  {
   "cell_type": "code",
   "execution_count": 255,
   "id": "da208beb",
   "metadata": {},
   "outputs": [
    {
     "data": {
      "application/vnd.microsoft.datawrangler.viewer.v0+json": {
       "columns": [
        {
         "name": "index",
         "rawType": "int64",
         "type": "integer"
        },
        {
         "name": "ds",
         "rawType": "datetime64[ns]",
         "type": "datetime"
        },
        {
         "name": "trend",
         "rawType": "float64",
         "type": "float"
        },
        {
         "name": "yhat_lower",
         "rawType": "float64",
         "type": "float"
        },
        {
         "name": "yhat_upper",
         "rawType": "float64",
         "type": "float"
        },
        {
         "name": "trend_lower",
         "rawType": "float64",
         "type": "float"
        },
        {
         "name": "trend_upper",
         "rawType": "float64",
         "type": "float"
        },
        {
         "name": "additive_terms",
         "rawType": "float64",
         "type": "float"
        },
        {
         "name": "additive_terms_lower",
         "rawType": "float64",
         "type": "float"
        },
        {
         "name": "additive_terms_upper",
         "rawType": "float64",
         "type": "float"
        },
        {
         "name": "yearly",
         "rawType": "float64",
         "type": "float"
        },
        {
         "name": "yearly_lower",
         "rawType": "float64",
         "type": "float"
        },
        {
         "name": "yearly_upper",
         "rawType": "float64",
         "type": "float"
        },
        {
         "name": "multiplicative_terms",
         "rawType": "float64",
         "type": "float"
        },
        {
         "name": "multiplicative_terms_lower",
         "rawType": "float64",
         "type": "float"
        },
        {
         "name": "multiplicative_terms_upper",
         "rawType": "float64",
         "type": "float"
        },
        {
         "name": "yhat",
         "rawType": "float64",
         "type": "float"
        }
       ],
       "ref": "15e71f70-1948-4c25-99d8-8639ef426845",
       "rows": [
        [
         "0",
         "1900-01-01 00:00:00",
         "2515.6400976",
         "2408.437711190204",
         "2573.941102722671",
         "2515.6400976",
         "2515.6400976",
         "-23.03629187685152",
         "-23.03629187685152",
         "-23.03629187685152",
         "-23.03629187685152",
         "-23.03629187685152",
         "-23.03629187685152",
         "0.0",
         "0.0",
         "0.0",
         "2492.6038057231485"
        ],
        [
         "1",
         "1901-01-01 00:00:00",
         "2497.4757525774244",
         "2401.6811588338487",
         "2564.318572761146",
         "2497.4757525774244",
         "2497.4757525774244",
         "-20.353091474787487",
         "-20.353091474787487",
         "-20.353091474787487",
         "-20.353091474787487",
         "-20.353091474787487",
         "-20.353091474787487",
         "0.0",
         "0.0",
         "0.0",
         "2477.122661102637"
        ],
        [
         "2",
         "1902-01-01 00:00:00",
         "2479.3114075548483",
         "2384.5933141993605",
         "2545.0935390443565",
         "2479.3114075548483",
         "2479.3114075548483",
         "-17.63487126720567",
         "-17.63487126720567",
         "-17.63487126720567",
         "-17.63487126720567",
         "-17.63487126720567",
         "-17.63487126720567",
         "0.0",
         "0.0",
         "0.0",
         "2461.6765362876426"
        ],
        [
         "3",
         "1903-01-01 00:00:00",
         "2461.1470625322722",
         "2362.168689381587",
         "2527.4129530338996",
         "2461.1470625322722",
         "2461.1470625322722",
         "-14.884928250642192",
         "-14.884928250642192",
         "-14.884928250642192",
         "-14.884928250642192",
         "-14.884928250642192",
         "-14.884928250642192",
         "0.0",
         "0.0",
         "0.0",
         "2446.26213428163"
        ],
        [
         "4",
         "1904-01-01 00:00:00",
         "2442.982717509696",
         "2350.593379656936",
         "2513.421451434314",
         "2442.982717509696",
         "2442.982717509696",
         "-12.106608524995906",
         "-12.106608524995906",
         "-12.106608524995906",
         "-12.106608524995906",
         "-12.106608524995906",
         "-12.106608524995906",
         "0.0",
         "0.0",
         "0.0",
         "2430.8761089847003"
        ],
        [
         "5",
         "1905-01-01 00:00:00",
         "2424.7686065976936",
         "2326.4861253643794",
         "2487.4121835456026",
         "2424.7686065976936",
         "2424.7686065976936",
         "-20.35309147481279",
         "-20.35309147481279",
         "-20.35309147481279",
         "-20.35309147481279",
         "-20.35309147481279",
         "-20.35309147481279",
         "0.0",
         "0.0",
         "0.0",
         "2404.415515122881"
        ],
        [
         "6",
         "1906-01-01 00:00:00",
         "2406.604261016051",
         "2302.9838126235027",
         "2469.600686704733",
         "2406.604261016051",
         "2406.604261016051",
         "-17.634871267222373",
         "-17.634871267222373",
         "-17.634871267222373",
         "-17.634871267222373",
         "-17.634871267222373",
         "-17.634871267222373",
         "0.0",
         "0.0",
         "0.0",
         "2388.9693897488287"
        ],
        [
         "7",
         "1907-01-01 00:00:00",
         "2388.4399154344087",
         "2289.6036479949043",
         "2457.1720709897363",
         "2388.4399154344087",
         "2388.4399154344087",
         "-14.884928250611416",
         "-14.884928250611416",
         "-14.884928250611416",
         "-14.884928250611416",
         "-14.884928250611416",
         "-14.884928250611416",
         "0.0",
         "0.0",
         "0.0",
         "2373.5549871837975"
        ],
        [
         "8",
         "1908-01-01 00:00:00",
         "2370.2755698527667",
         "2273.260865429191",
         "2438.9580486369314",
         "2370.2755698527667",
         "2370.2755698527667",
         "-12.1066085250185",
         "-12.1066085250185",
         "-12.1066085250185",
         "-12.1066085250185",
         "-12.1066085250185",
         "-12.1066085250185",
         "0.0",
         "0.0",
         "0.0",
         "2358.168961327748"
        ],
        [
         "9",
         "1909-01-01 00:00:00",
         "2352.061457983209",
         "2246.7157299529877",
         "2413.252546599276",
         "2352.061457983209",
         "2352.061457983209",
         "-20.35309147482225",
         "-20.35309147482225",
         "-20.35309147482225",
         "-20.35309147482225",
         "-20.35309147482225",
         "-20.35309147482225",
         "0.0",
         "0.0",
         "0.0",
         "2331.708366508387"
        ],
        [
         "10",
         "1910-01-01 00:00:00",
         "2333.8971114466285",
         "2240.104174607435",
         "2398.6755703260515",
         "2333.8971114466285",
         "2333.8971114466285",
         "-17.6348712671845",
         "-17.6348712671845",
         "-17.6348712671845",
         "-17.6348712671845",
         "-17.6348712671845",
         "-17.6348712671845",
         "0.0",
         "0.0",
         "0.0",
         "2316.2622401794442"
        ],
        [
         "11",
         "1911-01-01 00:00:00",
         "2315.732764910048",
         "2220.9761240205976",
         "2377.392506931655",
         "2315.732764910048",
         "2315.732764910048",
         "-14.884928250625288",
         "-14.884928250625288",
         "-14.884928250625288",
         "-14.884928250625288",
         "-14.884928250625288",
         "-14.884928250625288",
         "0.0",
         "0.0",
         "0.0",
         "2300.8478366594227"
        ],
        [
         "12",
         "1912-01-01 00:00:00",
         "2297.5684181870924",
         "2203.601452743468",
         "2365.5777611872572",
         "2297.5684181870924",
         "2297.5684181870924",
         "-12.106608525022686",
         "-12.106608525022686",
         "-12.106608525022686",
         "-12.106608525022686",
         "-12.106608525022686",
         "-12.106608525022686",
         "0.0",
         "0.0",
         "0.0",
         "2285.4618096620698"
        ],
        [
         "13",
         "1913-01-01 00:00:00",
         "2279.3543061306486",
         "2173.8073931813924",
         "2349.938640948386",
         "2279.3543061306486",
         "2279.3543061306486",
         "-20.353091474818555",
         "-20.353091474818555",
         "-20.353091474818555",
         "-20.353091474818555",
         "-20.353091474818555",
         "-20.353091474818555",
         "0.0",
         "0.0",
         "0.0",
         "2259.00121465583"
        ],
        [
         "14",
         "1914-01-01 00:00:00",
         "2261.189959407693",
         "2162.4581593914672",
         "2329.797701212258",
         "2261.189959407693",
         "2261.189959407693",
         "-17.634871267199728",
         "-17.634871267199728",
         "-17.634871267199728",
         "-17.634871267199728",
         "-17.634871267199728",
         "-17.634871267199728",
         "0.0",
         "0.0",
         "0.0",
         "2243.5550881404934"
        ],
        [
         "15",
         "1915-01-01 00:00:00",
         "2243.025612684737",
         "2138.358776365583",
         "2307.4026981647353",
         "2243.025612684737",
         "2243.025612684737",
         "-14.88492825061329",
         "-14.88492825061329",
         "-14.88492825061329",
         "-14.88492825061329",
         "-14.88492825061329",
         "-14.88492825061329",
         "0.0",
         "0.0",
         "0.0",
         "2228.1406844341236"
        ],
        [
         "16",
         "1916-01-01 00:00:00",
         "2224.8612659602854",
         "2128.834037023315",
         "2299.0132190399454",
         "2224.8612659602854",
         "2224.8612659602854",
         "-12.106608525010817",
         "-12.106608525010817",
         "-12.106608525010817",
         "-12.106608525010817",
         "-12.106608525010817",
         "-12.106608525010817",
         "0.0",
         "0.0",
         "0.0",
         "2212.7546574352746"
        ],
        [
         "17",
         "1917-01-01 00:00:00",
         "2206.647153902342",
         "2109.3347728702943",
         "2261.740221716998",
         "2206.647153902342",
         "2206.647153902342",
         "-20.35309147482702",
         "-20.35309147482702",
         "-20.35309147482702",
         "-20.35309147482702",
         "-20.35309147482702",
         "-20.35309147482702",
         "0.0",
         "0.0",
         "0.0",
         "2186.2940624275147"
        ],
        [
         "18",
         "1918-01-01 00:00:00",
         "2188.4828071778893",
         "2078.903985072381",
         "2251.9549185298006",
         "2188.4828071778893",
         "2188.4828071778893",
         "-17.634871267225797",
         "-17.634871267225797",
         "-17.634871267225797",
         "-17.634871267225797",
         "-17.634871267225797",
         "-17.634871267225797",
         "0.0",
         "0.0",
         "0.0",
         "2170.8479359106636"
        ],
        [
         "19",
         "1919-01-01 00:00:00",
         "2170.3184604534376",
         "2069.0281758639853",
         "2232.331345370201",
         "2170.3184604534376",
         "2170.3184604534376",
         "-14.884928250624414",
         "-14.884928250624414",
         "-14.884928250624414",
         "-14.884928250624414",
         "-14.884928250624414",
         "-14.884928250624414",
         "0.0",
         "0.0",
         "0.0",
         "2155.4335322028132"
        ],
        [
         "20",
         "1920-01-01 00:00:00",
         "2151.669190643355",
         "2061.1264530125186",
         "2216.502528259478",
         "2151.669190643355",
         "2151.669190643355",
         "-12.106608525009834",
         "-12.106608525009834",
         "-12.106608525009834",
         "-12.106608525009834",
         "-12.106608525009834",
         "-12.106608525009834",
         "0.0",
         "0.0",
         "0.0",
         "2139.562582118345"
        ],
        [
         "21",
         "1921-01-01 00:00:00",
         "2132.9688269433814",
         "2027.5082174282431",
         "2195.4708462480885",
         "2132.9688269433814",
         "2132.9688269433814",
         "-20.35309147481528",
         "-20.35309147481528",
         "-20.35309147481528",
         "-20.35309147481528",
         "-20.35309147481528",
         "-20.35309147481528",
         "0.0",
         "0.0",
         "0.0",
         "2112.615735468566"
        ],
        [
         "22",
         "1922-01-01 00:00:00",
         "2114.3195571332985",
         "2015.6772536717408",
         "2178.599285111121",
         "2114.3195571332985",
         "2114.3195571332985",
         "-17.634871267203163",
         "-17.634871267203163",
         "-17.634871267203163",
         "-17.634871267203163",
         "-17.634871267203163",
         "-17.634871267203163",
         "0.0",
         "0.0",
         "0.0",
         "2096.684685866095"
        ],
        [
         "23",
         "1923-01-01 00:00:00",
         "2095.6702873232157",
         "1995.5124813903744",
         "2161.378288314989",
         "2095.6702873232157",
         "2095.6702873232157",
         "-14.884928250619256",
         "-14.884928250619256",
         "-14.884928250619256",
         "-14.884928250619256",
         "-14.884928250619256",
         "-14.884928250619256",
         "0.0",
         "0.0",
         "0.0",
         "2080.7853590725963"
        ],
        [
         "24",
         "1924-01-01 00:00:00",
         "2076.1731764568117",
         "1985.6005273299434",
         "2141.2509752877127",
         "2076.1731764568117",
         "2076.1731764568117",
         "-12.106608524995066",
         "-12.106608524995066",
         "-12.106608524995066",
         "-12.106608524995066",
         "-12.106608524995066",
         "-12.106608524995066",
         "0.0",
         "0.0",
         "0.0",
         "2064.0665679318167"
        ],
        [
         "25",
         "1925-01-01 00:00:00",
         "2056.6226488483076",
         "1954.992397536636",
         "2123.041958788027",
         "2056.6226488483076",
         "2056.6226488483076",
         "-20.35309147480097",
         "-20.35309147480097",
         "-20.35309147480097",
         "-20.35309147480097",
         "-20.35309147480097",
         "-20.35309147480097",
         "0.0",
         "0.0",
         "0.0",
         "2036.2695573735066"
        ],
        [
         "26",
         "1926-01-01 00:00:00",
         "2037.1255379819033",
         "1939.36722129839",
         "2099.61187844372",
         "2037.1255379819033",
         "2037.1255379819033",
         "-17.63487126722229",
         "-17.63487126722229",
         "-17.63487126722229",
         "-17.63487126722229",
         "-17.63487126722229",
         "-17.63487126722229",
         "0.0",
         "0.0",
         "0.0",
         "2019.490666714681"
        ],
        [
         "27",
         "1927-01-01 00:00:00",
         "2016.3407503230167",
         "1926.2197067436334",
         "2083.01550810474",
         "2016.3407503230167",
         "2016.3407503230167",
         "-14.884928250635785",
         "-14.884928250635785",
         "-14.884928250635785",
         "-14.884928250635785",
         "-14.884928250635785",
         "-14.884928250635785",
         "0.0",
         "0.0",
         "0.0",
         "2001.455822072381"
        ],
        [
         "28",
         "1928-01-01 00:00:00",
         "1995.55596266413",
         "1904.0226291444865",
         "2065.101559690411",
         "1995.55596266413",
         "1995.55596266413",
         "-12.106608525009085",
         "-12.106608525009085",
         "-12.106608525009085",
         "-12.106608525009085",
         "-12.106608525009085",
         "-12.106608525009085",
         "0.0",
         "0.0",
         "0.0",
         "1983.449354139121"
        ],
        [
         "29",
         "1929-01-01 00:00:00",
         "1974.7142303815203",
         "1867.5047239676842",
         "2032.5536398201941",
         "1974.7142303815203",
         "1974.7142303815203",
         "-20.353091474813464",
         "-20.353091474813464",
         "-20.353091474813464",
         "-20.353091474813464",
         "-20.353091474813464",
         "-20.353091474813464",
         "0.0",
         "0.0",
         "0.0",
         "1954.3611389067069"
        ],
        [
         "30",
         "1930-01-01 00:00:00",
         "1953.9294427226337",
         "1850.895636256141",
         "2014.3481281243464",
         "1953.9294427226337",
         "1953.9294427226337",
         "-17.63487126720512",
         "-17.63487126720512",
         "-17.63487126720512",
         "-17.63487126720512",
         "-17.63487126720512",
         "-17.63487126720512",
         "0.0",
         "0.0",
         "0.0",
         "1936.2945714554285"
        ],
        [
         "31",
         "1931-01-01 00:00:00",
         "1932.5979200998177",
         "1837.6272065073595",
         "2002.1723266300605",
         "1932.5979200998177",
         "1932.5979200998177",
         "-14.884928250618383",
         "-14.884928250618383",
         "-14.884928250618383",
         "-14.884928250618383",
         "-14.884928250618383",
         "-14.884928250618383",
         "0.0",
         "0.0",
         "0.0",
         "1917.7129918491992"
        ],
        [
         "32",
         "1932-01-01 00:00:00",
         "1911.2663974770012",
         "1820.901143511084",
         "1979.3584730959662",
         "1911.2663974770012",
         "1911.2663974770012",
         "-12.10660852499286",
         "-12.10660852499286",
         "-12.10660852499286",
         "-12.10660852499286",
         "-12.10660852499286",
         "-12.10660852499286",
         "0.0",
         "0.0",
         "0.0",
         "1899.1597889520083"
        ],
        [
         "33",
         "1933-01-01 00:00:00",
         "1889.8764323264513",
         "1787.5293569818116",
         "1951.0191439763832",
         "1889.8764323264513",
         "1889.8764323264513",
         "-20.353091474808302",
         "-20.353091474808302",
         "-20.353091474808302",
         "-20.353091474808302",
         "-20.353091474808302",
         "-20.353091474808302",
         "0.0",
         "0.0",
         "0.0",
         "1869.523340851643"
        ],
        [
         "34",
         "1934-01-01 00:00:00",
         "1868.5449097036349",
         "1770.3015706439044",
         "1936.281319472666",
         "1868.5449097036349",
         "1868.5449097036349",
         "-17.634871267199216",
         "-17.634871267199216",
         "-17.634871267199216",
         "-17.634871267199216",
         "-17.634871267199216",
         "-17.634871267199216",
         "0.0",
         "0.0",
         "0.0",
         "1850.9100384364356"
        ],
        [
         "35",
         "1935-01-01 00:00:00",
         "1846.8462847492472",
         "1749.8768080295868",
         "1916.3406172415102",
         "1846.8462847492472",
         "1846.8462847492472",
         "-14.884928250636552",
         "-14.884928250636552",
         "-14.884928250636552",
         "-14.884928250636552",
         "-14.884928250636552",
         "-14.884928250636552",
         "0.0",
         "0.0",
         "0.0",
         "1831.9613564986107"
        ],
        [
         "36",
         "1936-01-01 00:00:00",
         "1825.1476597948592",
         "1727.7464430510765",
         "1897.7605013046839",
         "1825.1476597948592",
         "1825.1476597948592",
         "-12.106608525005447",
         "-12.106608525005447",
         "-12.106608525005447",
         "-12.106608525005447",
         "-12.106608525005447",
         "-12.106608525005447",
         "0.0",
         "0.0",
         "0.0",
         "1813.0410512698538"
        ],
        [
         "37",
         "1937-01-01 00:00:00",
         "1803.3895865529255",
         "1703.0613071708528",
         "1860.8138410661786",
         "1803.3895865529255",
         "1803.3895865529255",
         "-20.35309147481988",
         "-20.35309147481988",
         "-20.35309147481988",
         "-20.35309147481988",
         "-20.35309147481988",
         "-20.35309147481988",
         "0.0",
         "0.0",
         "0.0",
         "1783.0364950781056"
        ],
        [
         "38",
         "1938-01-01 00:00:00",
         "1781.6909615985373",
         "1685.7219271963813",
         "1841.6600460941145",
         "1781.6909615985373",
         "1781.6909615985373",
         "-17.634871267211185",
         "-17.634871267211185",
         "-17.634871267211185",
         "-17.634871267211185",
         "-17.634871267211185",
         "-17.634871267211185",
         "0.0",
         "0.0",
         "0.0",
         "1764.0560903313262"
        ],
        [
         "39",
         "1939-01-01 00:00:00",
         "1759.9923355906592",
         "1668.3845422534982",
         "1832.2026149477385",
         "1759.9923355906592",
         "1759.9923355906592",
         "-14.884928250626638",
         "-14.884928250626638",
         "-14.884928250626638",
         "-14.884928250626638",
         "-14.884928250626638",
         "-14.884928250626638",
         "0.0",
         "0.0",
         "0.0",
         "1745.1074073400325"
        ],
        [
         "40",
         "1940-01-01 00:00:00",
         "1738.293709582781",
         "1642.9489697206973",
         "1811.8265965144474",
         "1738.293709582781",
         "1738.293709582781",
         "-12.10660852500027",
         "-12.10660852500027",
         "-12.10660852500027",
         "-12.10660852500027",
         "-12.10660852500027",
         "-12.10660852500027",
         "0.0",
         "0.0",
         "0.0",
         "1726.1871010577809"
        ],
        [
         "41",
         "1941-01-01 00:00:00",
         "1716.5356352844703",
         "1616.0093551882533",
         "1779.9355080812452",
         "1716.5356352844703",
         "1716.5356352844703",
         "-20.35309147480565",
         "-20.35309147480565",
         "-20.35309147480565",
         "-20.35309147480565",
         "-20.35309147480565",
         "-20.35309147480565",
         "0.0",
         "0.0",
         "0.0",
         "1696.1825438096646"
        ],
        [
         "42",
         "1942-01-01 00:00:00",
         "1694.8370087334174",
         "1597.9241591484601",
         "1759.9118692289628",
         "1694.8370087334174",
         "1694.8370087334174",
         "-17.634871267199866",
         "-17.634871267199866",
         "-17.634871267199866",
         "-17.634871267199866",
         "-17.634871267199866",
         "-17.634871267199866",
         "0.0",
         "0.0",
         "0.0",
         "1677.2021374662174"
        ],
        [
         "43",
         "1943-01-01 00:00:00",
         "1673.1383821823645",
         "1579.9140047039054",
         "1736.049307806452",
         "1673.1383821823645",
         "1673.1383821823645",
         "-14.884928250622858",
         "-14.884928250622858",
         "-14.884928250622858",
         "-14.884928250622858",
         "-14.884928250622858",
         "-14.884928250622858",
         "0.0",
         "0.0",
         "0.0",
         "1658.2534539317417"
        ],
        [
         "44",
         "1944-01-01 00:00:00",
         "1651.439755631312",
         "1554.4504584866813",
         "1716.3029788185788",
         "1651.439755631312",
         "1651.439755631312",
         "-12.10660852500672",
         "-12.10660852500672",
         "-12.10660852500672",
         "-12.10660852500672",
         "-12.10660852500672",
         "-12.10660852500672",
         "0.0",
         "0.0",
         "0.0",
         "1639.3331471063052"
        ],
        [
         "45",
         "1945-01-01 00:00:00",
         "1629.6816807883383",
         "1526.2361029154624",
         "1691.340775466715",
         "1629.6816807883383",
         "1629.6816807883383",
         "-20.353091474809947",
         "-20.353091474809947",
         "-20.353091474809947",
         "-20.353091474809947",
         "-20.353091474809947",
         "-20.353091474809947",
         "0.0",
         "0.0",
         "0.0",
         "1609.3285893135285"
        ],
        [
         "46",
         "1946-01-01 00:00:00",
         "1607.9830548433504",
         "1511.61861928457",
         "1673.8452243166448",
         "1607.9830548433504",
         "1607.9830548433504",
         "-17.634871267201582",
         "-17.634871267201582",
         "-17.634871267201582",
         "-17.634871267201582",
         "-17.634871267201582",
         "-17.634871267201582",
         "0.0",
         "0.0",
         "0.0",
         "1590.3481835761488"
        ],
        [
         "47",
         "1947-01-01 00:00:00",
         "1586.2844288983626",
         "1493.4455083618516",
         "1652.966835258036",
         "1586.2844288983626",
         "1586.2844288983626",
         "-14.884928250615063",
         "-14.884928250615063",
         "-14.884928250615063",
         "-14.884928250615063",
         "-14.884928250615063",
         "-14.884928250615063",
         "0.0",
         "0.0",
         "0.0",
         "1571.3995006477476"
        ],
        [
         "48",
         "1948-01-01 00:00:00",
         "1564.585802953375",
         "1474.3440426011257",
         "1633.7652297415182",
         "1564.585802953375",
         "1564.585802953375",
         "-12.106608525006346",
         "-12.106608525006346",
         "-12.106608525006346",
         "-12.106608525006346",
         "-12.106608525006346",
         "-12.106608525006346",
         "0.0",
         "0.0",
         "0.0",
         "1552.4791944283686"
        ],
        [
         "49",
         "1949-01-01 00:00:00",
         "1542.8277287181268",
         "1447.5118853308684",
         "1605.1257818026909",
         "1542.8277287181268",
         "1542.8277287181268",
         "-20.353091474808203",
         "-20.353091474808203",
         "-20.353091474808203",
         "-20.353091474808203",
         "-20.353091474808203",
         "-20.353091474808203",
         "0.0",
         "0.0",
         "0.0",
         "1522.4746372433185"
        ]
       ],
       "shape": {
        "columns": 16,
        "rows": 144
       }
      },
      "text/html": [
       "<div>\n",
       "<style scoped>\n",
       "    .dataframe tbody tr th:only-of-type {\n",
       "        vertical-align: middle;\n",
       "    }\n",
       "\n",
       "    .dataframe tbody tr th {\n",
       "        vertical-align: top;\n",
       "    }\n",
       "\n",
       "    .dataframe thead th {\n",
       "        text-align: right;\n",
       "    }\n",
       "</style>\n",
       "<table border=\"1\" class=\"dataframe\">\n",
       "  <thead>\n",
       "    <tr style=\"text-align: right;\">\n",
       "      <th></th>\n",
       "      <th>ds</th>\n",
       "      <th>trend</th>\n",
       "      <th>yhat_lower</th>\n",
       "      <th>yhat_upper</th>\n",
       "      <th>trend_lower</th>\n",
       "      <th>trend_upper</th>\n",
       "      <th>additive_terms</th>\n",
       "      <th>additive_terms_lower</th>\n",
       "      <th>additive_terms_upper</th>\n",
       "      <th>yearly</th>\n",
       "      <th>yearly_lower</th>\n",
       "      <th>yearly_upper</th>\n",
       "      <th>multiplicative_terms</th>\n",
       "      <th>multiplicative_terms_lower</th>\n",
       "      <th>multiplicative_terms_upper</th>\n",
       "      <th>yhat</th>\n",
       "    </tr>\n",
       "  </thead>\n",
       "  <tbody>\n",
       "    <tr>\n",
       "      <th>0</th>\n",
       "      <td>1900-01-01</td>\n",
       "      <td>2515.640098</td>\n",
       "      <td>2408.437711</td>\n",
       "      <td>2573.941103</td>\n",
       "      <td>2515.640098</td>\n",
       "      <td>2515.640098</td>\n",
       "      <td>-23.036292</td>\n",
       "      <td>-23.036292</td>\n",
       "      <td>-23.036292</td>\n",
       "      <td>-23.036292</td>\n",
       "      <td>-23.036292</td>\n",
       "      <td>-23.036292</td>\n",
       "      <td>0.0</td>\n",
       "      <td>0.0</td>\n",
       "      <td>0.0</td>\n",
       "      <td>2492.603806</td>\n",
       "    </tr>\n",
       "    <tr>\n",
       "      <th>1</th>\n",
       "      <td>1901-01-01</td>\n",
       "      <td>2497.475753</td>\n",
       "      <td>2401.681159</td>\n",
       "      <td>2564.318573</td>\n",
       "      <td>2497.475753</td>\n",
       "      <td>2497.475753</td>\n",
       "      <td>-20.353091</td>\n",
       "      <td>-20.353091</td>\n",
       "      <td>-20.353091</td>\n",
       "      <td>-20.353091</td>\n",
       "      <td>-20.353091</td>\n",
       "      <td>-20.353091</td>\n",
       "      <td>0.0</td>\n",
       "      <td>0.0</td>\n",
       "      <td>0.0</td>\n",
       "      <td>2477.122661</td>\n",
       "    </tr>\n",
       "    <tr>\n",
       "      <th>2</th>\n",
       "      <td>1902-01-01</td>\n",
       "      <td>2479.311408</td>\n",
       "      <td>2384.593314</td>\n",
       "      <td>2545.093539</td>\n",
       "      <td>2479.311408</td>\n",
       "      <td>2479.311408</td>\n",
       "      <td>-17.634871</td>\n",
       "      <td>-17.634871</td>\n",
       "      <td>-17.634871</td>\n",
       "      <td>-17.634871</td>\n",
       "      <td>-17.634871</td>\n",
       "      <td>-17.634871</td>\n",
       "      <td>0.0</td>\n",
       "      <td>0.0</td>\n",
       "      <td>0.0</td>\n",
       "      <td>2461.676536</td>\n",
       "    </tr>\n",
       "    <tr>\n",
       "      <th>3</th>\n",
       "      <td>1903-01-01</td>\n",
       "      <td>2461.147063</td>\n",
       "      <td>2362.168689</td>\n",
       "      <td>2527.412953</td>\n",
       "      <td>2461.147063</td>\n",
       "      <td>2461.147063</td>\n",
       "      <td>-14.884928</td>\n",
       "      <td>-14.884928</td>\n",
       "      <td>-14.884928</td>\n",
       "      <td>-14.884928</td>\n",
       "      <td>-14.884928</td>\n",
       "      <td>-14.884928</td>\n",
       "      <td>0.0</td>\n",
       "      <td>0.0</td>\n",
       "      <td>0.0</td>\n",
       "      <td>2446.262134</td>\n",
       "    </tr>\n",
       "    <tr>\n",
       "      <th>4</th>\n",
       "      <td>1904-01-01</td>\n",
       "      <td>2442.982718</td>\n",
       "      <td>2350.593380</td>\n",
       "      <td>2513.421451</td>\n",
       "      <td>2442.982718</td>\n",
       "      <td>2442.982718</td>\n",
       "      <td>-12.106609</td>\n",
       "      <td>-12.106609</td>\n",
       "      <td>-12.106609</td>\n",
       "      <td>-12.106609</td>\n",
       "      <td>-12.106609</td>\n",
       "      <td>-12.106609</td>\n",
       "      <td>0.0</td>\n",
       "      <td>0.0</td>\n",
       "      <td>0.0</td>\n",
       "      <td>2430.876109</td>\n",
       "    </tr>\n",
       "    <tr>\n",
       "      <th>...</th>\n",
       "      <td>...</td>\n",
       "      <td>...</td>\n",
       "      <td>...</td>\n",
       "      <td>...</td>\n",
       "      <td>...</td>\n",
       "      <td>...</td>\n",
       "      <td>...</td>\n",
       "      <td>...</td>\n",
       "      <td>...</td>\n",
       "      <td>...</td>\n",
       "      <td>...</td>\n",
       "      <td>...</td>\n",
       "      <td>...</td>\n",
       "      <td>...</td>\n",
       "      <td>...</td>\n",
       "      <td>...</td>\n",
       "    </tr>\n",
       "    <tr>\n",
       "      <th>139</th>\n",
       "      <td>2038-12-31</td>\n",
       "      <td>494.148626</td>\n",
       "      <td>404.667110</td>\n",
       "      <td>578.003025</td>\n",
       "      <td>466.454068</td>\n",
       "      <td>520.326804</td>\n",
       "      <td>-3.635485</td>\n",
       "      <td>-3.635485</td>\n",
       "      <td>-3.635485</td>\n",
       "      <td>-3.635485</td>\n",
       "      <td>-3.635485</td>\n",
       "      <td>-3.635485</td>\n",
       "      <td>0.0</td>\n",
       "      <td>0.0</td>\n",
       "      <td>0.0</td>\n",
       "      <td>490.513142</td>\n",
       "    </tr>\n",
       "    <tr>\n",
       "      <th>140</th>\n",
       "      <td>2039-12-31</td>\n",
       "      <td>484.506161</td>\n",
       "      <td>395.961923</td>\n",
       "      <td>572.457754</td>\n",
       "      <td>454.874786</td>\n",
       "      <td>512.617128</td>\n",
       "      <td>-0.777931</td>\n",
       "      <td>-0.777931</td>\n",
       "      <td>-0.777931</td>\n",
       "      <td>-0.777931</td>\n",
       "      <td>-0.777931</td>\n",
       "      <td>-0.777931</td>\n",
       "      <td>0.0</td>\n",
       "      <td>0.0</td>\n",
       "      <td>0.0</td>\n",
       "      <td>483.728230</td>\n",
       "    </tr>\n",
       "    <tr>\n",
       "      <th>141</th>\n",
       "      <td>2040-12-31</td>\n",
       "      <td>474.837278</td>\n",
       "      <td>371.406392</td>\n",
       "      <td>557.004156</td>\n",
       "      <td>443.274443</td>\n",
       "      <td>505.146828</td>\n",
       "      <td>-9.303302</td>\n",
       "      <td>-9.303302</td>\n",
       "      <td>-9.303302</td>\n",
       "      <td>-9.303302</td>\n",
       "      <td>-9.303302</td>\n",
       "      <td>-9.303302</td>\n",
       "      <td>0.0</td>\n",
       "      <td>0.0</td>\n",
       "      <td>0.0</td>\n",
       "      <td>465.533976</td>\n",
       "    </tr>\n",
       "    <tr>\n",
       "      <th>142</th>\n",
       "      <td>2041-12-31</td>\n",
       "      <td>465.194813</td>\n",
       "      <td>374.430339</td>\n",
       "      <td>537.632848</td>\n",
       "      <td>431.396170</td>\n",
       "      <td>497.934960</td>\n",
       "      <td>-6.478440</td>\n",
       "      <td>-6.478440</td>\n",
       "      <td>-6.478440</td>\n",
       "      <td>-6.478440</td>\n",
       "      <td>-6.478440</td>\n",
       "      <td>-6.478440</td>\n",
       "      <td>0.0</td>\n",
       "      <td>0.0</td>\n",
       "      <td>0.0</td>\n",
       "      <td>458.716373</td>\n",
       "    </tr>\n",
       "    <tr>\n",
       "      <th>143</th>\n",
       "      <td>2042-12-31</td>\n",
       "      <td>455.552347</td>\n",
       "      <td>362.432757</td>\n",
       "      <td>541.050267</td>\n",
       "      <td>419.165499</td>\n",
       "      <td>490.624410</td>\n",
       "      <td>-3.635485</td>\n",
       "      <td>-3.635485</td>\n",
       "      <td>-3.635485</td>\n",
       "      <td>-3.635485</td>\n",
       "      <td>-3.635485</td>\n",
       "      <td>-3.635485</td>\n",
       "      <td>0.0</td>\n",
       "      <td>0.0</td>\n",
       "      <td>0.0</td>\n",
       "      <td>451.916863</td>\n",
       "    </tr>\n",
       "  </tbody>\n",
       "</table>\n",
       "<p>144 rows × 16 columns</p>\n",
       "</div>"
      ],
      "text/plain": [
       "            ds        trend   yhat_lower   yhat_upper  trend_lower  \\\n",
       "0   1900-01-01  2515.640098  2408.437711  2573.941103  2515.640098   \n",
       "1   1901-01-01  2497.475753  2401.681159  2564.318573  2497.475753   \n",
       "2   1902-01-01  2479.311408  2384.593314  2545.093539  2479.311408   \n",
       "3   1903-01-01  2461.147063  2362.168689  2527.412953  2461.147063   \n",
       "4   1904-01-01  2442.982718  2350.593380  2513.421451  2442.982718   \n",
       "..         ...          ...          ...          ...          ...   \n",
       "139 2038-12-31   494.148626   404.667110   578.003025   466.454068   \n",
       "140 2039-12-31   484.506161   395.961923   572.457754   454.874786   \n",
       "141 2040-12-31   474.837278   371.406392   557.004156   443.274443   \n",
       "142 2041-12-31   465.194813   374.430339   537.632848   431.396170   \n",
       "143 2042-12-31   455.552347   362.432757   541.050267   419.165499   \n",
       "\n",
       "     trend_upper  additive_terms  additive_terms_lower  additive_terms_upper  \\\n",
       "0    2515.640098      -23.036292            -23.036292            -23.036292   \n",
       "1    2497.475753      -20.353091            -20.353091            -20.353091   \n",
       "2    2479.311408      -17.634871            -17.634871            -17.634871   \n",
       "3    2461.147063      -14.884928            -14.884928            -14.884928   \n",
       "4    2442.982718      -12.106609            -12.106609            -12.106609   \n",
       "..           ...             ...                   ...                   ...   \n",
       "139   520.326804       -3.635485             -3.635485             -3.635485   \n",
       "140   512.617128       -0.777931             -0.777931             -0.777931   \n",
       "141   505.146828       -9.303302             -9.303302             -9.303302   \n",
       "142   497.934960       -6.478440             -6.478440             -6.478440   \n",
       "143   490.624410       -3.635485             -3.635485             -3.635485   \n",
       "\n",
       "        yearly  yearly_lower  yearly_upper  multiplicative_terms  \\\n",
       "0   -23.036292    -23.036292    -23.036292                   0.0   \n",
       "1   -20.353091    -20.353091    -20.353091                   0.0   \n",
       "2   -17.634871    -17.634871    -17.634871                   0.0   \n",
       "3   -14.884928    -14.884928    -14.884928                   0.0   \n",
       "4   -12.106609    -12.106609    -12.106609                   0.0   \n",
       "..         ...           ...           ...                   ...   \n",
       "139  -3.635485     -3.635485     -3.635485                   0.0   \n",
       "140  -0.777931     -0.777931     -0.777931                   0.0   \n",
       "141  -9.303302     -9.303302     -9.303302                   0.0   \n",
       "142  -6.478440     -6.478440     -6.478440                   0.0   \n",
       "143  -3.635485     -3.635485     -3.635485                   0.0   \n",
       "\n",
       "     multiplicative_terms_lower  multiplicative_terms_upper         yhat  \n",
       "0                           0.0                         0.0  2492.603806  \n",
       "1                           0.0                         0.0  2477.122661  \n",
       "2                           0.0                         0.0  2461.676536  \n",
       "3                           0.0                         0.0  2446.262134  \n",
       "4                           0.0                         0.0  2430.876109  \n",
       "..                          ...                         ...          ...  \n",
       "139                         0.0                         0.0   490.513142  \n",
       "140                         0.0                         0.0   483.728230  \n",
       "141                         0.0                         0.0   465.533976  \n",
       "142                         0.0                         0.0   458.716373  \n",
       "143                         0.0                         0.0   451.916863  \n",
       "\n",
       "[144 rows x 16 columns]"
      ]
     },
     "execution_count": 255,
     "metadata": {},
     "output_type": "execute_result"
    }
   ],
   "source": [
    "forcast2"
   ]
  },
  {
   "cell_type": "code",
   "execution_count": 257,
   "id": "947e24c7",
   "metadata": {},
   "outputs": [
    {
     "data": {
      "image/png": "[encoded data removed]",
      "text/plain": [
       "<Figure size 900x600 with 2 Axes>"
      ]
     },
     "execution_count": 257,
     "metadata": {},
     "output_type": "execute_result"
    },
    {
     "data": {
      "image/png": "[encoded data removed]",
      "text/plain": [
       "<Figure size 900x600 with 2 Axes>"
      ]
     },
     "metadata": {},
     "output_type": "display_data"
    }
   ],
   "source": [
    "model.plot_components(forcast2)"
   ]
  },
  {
   "cell_type": "code",
   "execution_count": null,
   "id": "94aa50da",
   "metadata": {},
   "outputs": [],
   "source": []
  }
 ],
 "metadata": {
  "kernelspec": {
   "display_name": ".venv",
   "language": "python",
   "name": "python3"
  },
  "language_info": {
   "codemirror_mode": {
    "name": "ipython",
    "version": 3
   },
   "file_extension": ".py",
   "mimetype": "text/x-python",
   "name": "python",
   "nbconvert_exporter": "python",
   "pygments_lexer": "ipython3",
   "version": "3.12.3"
  }
 },
 "nbformat": 4,
 "nbformat_minor": 5
}
