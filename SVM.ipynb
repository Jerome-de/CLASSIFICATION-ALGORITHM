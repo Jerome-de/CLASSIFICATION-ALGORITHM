{
 "cells": [
  {
   "cell_type": "code",
   "execution_count": 1,
   "id": "3fa4b616",
   "metadata": {},
   "outputs": [],
   "source": [
    "\n",
    "import pandas as pd\n",
    "import matplotlib as plt\n",
    "import seaborn as sns\n",
    "from sklearn.feature_extraction.text import TfidfVectorizer\n",
    "from sklearn.svm import SVC\n",
    "import re\n",
    "from nltk.tokenize import RegexpTokenizer\n",
    "from sklearn.model_selection import train_test_split\n",
    "from sklearn.metrics import accuracy_score,classification_report,confusion_matrix\n"
   ]
  },
  {
   "cell_type": "code",
   "execution_count": 2,
   "id": "2bac2569",
   "metadata": {},
   "outputs": [],
   "source": [
    "df =  pd.read_csv(\"/home/jerome/Documents/CSV FILE/Train3.csv\")"
   ]
  },
  {
   "cell_type": "code",
   "execution_count": 3,
   "id": "414e85a2",
   "metadata": {},
   "outputs": [
    {
     "data": {
      "application/vnd.microsoft.datawrangler.viewer.v0+json": {
       "columns": [
        {
         "name": "index",
         "rawType": "int64",
         "type": "integer"
        },
        {
         "name": "text",
         "rawType": "object",
         "type": "string"
        },
        {
         "name": "label",
         "rawType": "int64",
         "type": "integer"
        }
       ],
       "conversionMethod": "pd.DataFrame",
       "ref": "4395792a-e83c-44f9-a216-5642fe46cd9e",
       "rows": [
        [
         "0",
         "I grew up (b. 1965) watching and loving the Thunderbirds. All my mates at school watched. We played \"Thunderbirds\" before school, during lunch and after school. We all wanted to be Virgil or Scott. No one wanted to be Alan. Counting down from 5 became an art form. I took my children to see the movie hoping they would get a glimpse of what I loved as a child. How bitterly disappointing. The only high point was the snappy theme tune. Not that it could compare with the original score of the Thunderbirds. Thankfully early Saturday mornings one television channel still plays reruns of the series Gerry Anderson and his wife created. Jonatha Frakes should hand in his directors chair, his version was completely hopeless. A waste of film. Utter rubbish. A CGI remake may be acceptable but replacing marionettes with Homo sapiens subsp. sapiens was a huge error of judgment.",
         "0"
        ],
        [
         "1",
         "When I put this movie in my DVD player, and sat down with a coke and some chips, I had some expectations. I was hoping that this movie would contain some of the strong-points of the first movie: Awsome animation, good flowing story, excellent voice cast, funny comedy and a kick-ass soundtrack. But, to my disappointment, not any of this is to be found in Atlantis: Milo's Return. Had I read some reviews first, I might not have been so let down. The following paragraph will be directed to those who have seen the first movie, and who enjoyed it primarily for the points mentioned.<br /><br />When the first scene appears, your in for a shock if you just picked Atlantis: Milo's Return from the display-case at your local videoshop (or whatever), and had the expectations I had. The music feels as a bad imitation of the first movie, and the voice cast has been replaced by a not so fitting one. (With the exception of a few characters, like the voice of Sweet). The actual drawings isnt that bad, but the animation in particular is a sad sight. The storyline is also pretty weak, as its more like three episodes of Schooby-Doo than the single adventurous story we got the last time. But dont misunderstand, it's not very good Schooby-Doo episodes. I didnt laugh a single time, although I might have sniggered once or twice.<br /><br />To the audience who haven't seen the first movie, or don't especially care for a similar sequel, here is a fast review of this movie as a stand-alone product: If you liked schooby-doo, you might like this movie. If you didn't, you could still enjoy this movie if you have nothing else to do. And I suspect it might be a good kids movie, but I wouldn't know. It might have been better if Milo's Return had been a three-episode series on a cartoon channel, or on breakfast TV.",
         "0"
        ],
        [
         "2",
         "Why do people who do not know what a particular time in the past was like feel the need to try to define that time for others? Replace Woodstock with the Civil War and the Apollo moon-landing with the Titanic sinking and you've got as realistic a flick as this formulaic soap opera populated entirely by low-life trash. Is this what kids who were too young to be allowed to go to Woodstock and who failed grade school composition do? \"I'll show those old meanies, I'll put out my own movie and prove that you don't have to know nuttin about your topic to still make money!\" Yeah, we already know that. The one thing watching this film did for me was to give me a little insight into underclass thinking. The next time I see a slut in a bar who looks like Diane Lane, I'm running the other way. It's child abuse to let parents that worthless raise kids. It's audience abuse to simply stick Woodstock and the moonlanding into a flick as if that ipso facto means the film portrays 1969.",
         "0"
        ],
        [
         "3",
         "Even though I have great interest in Biblical movies, I was bored to death every minute of the movie. Everything is bad. The movie is too long, the acting is most of the time a Joke and the script is horrible. I did not get the point in mixing the story about Abraham and Noah together. So if you value your time and sanity stay away from this horror.",
         "0"
        ],
        [
         "4",
         "Im a die hard Dads Army fan and nothing will ever change that. I got all the tapes, DVD's and audiobooks and every time i watch/listen to them its brand new. <br /><br />The film. The film is a re run of certain episodes, Man and the hour, Enemy within the gates, Battle School and numerous others with a different edge. Introduction of a new General instead of Captain Square was a brilliant move - especially when he wouldn't cash the cheque (something that is rarely done now).<br /><br />It follows through the early years of getting equipment and uniforms, starting up and training. All in all, its a great film for a boring Sunday afternoon. <br /><br />Two draw backs. One is the Germans bogus dodgy accents (come one, Germans cant pronounced the letter \"W\" like us) and Two The casting of Liz Frazer instead of the familiar Janet Davis. I like Liz in other films like the carry ons but she doesn't carry it correctly in this and Janet Davis would have been the better choice.",
         "1"
        ],
        [
         "5",
         "A terrible movie as everyone has said. What made me laugh was the cameo appearance by Scott McNealy, giving an award to one of the murdered programmers in front of a wall of SUN logos. McNealy is the CEO of SUN Microsystem, a company that practically defines itself by its hatred of Microsoft. They have been instrumental in filing antitrust complaints against Microsoft. So, were they silly enough to think this bad movie would add fuel to that fire?<br /><br />There's no public record I see of SUN's involvement, but clearly the makers of this movie know Scott McNealy. An interesting mystery.",
         "0"
        ],
        [
         "6",
         "Finally watched this shocking movie last night, and what a disturbing mindf**ker it is, and unbelievably bloody and some unforgettable scenes, and a total assault on the senses. Looks like a movie from the minds of Lynch (specifically ERASERHEAD), Buttgereit, and even a little of \"Begotten\". What this guy does to his pregnant sister is beyond belief, but then again, did it really happen or is it his brain's left and right sides doing battle. That's the main theme of this piece of art, to draw a fine line between fantasy and reality, and what would happen if the right side of the brain that dreams and fantasizes overtakes the reasoning and logical left side. And the music in this movie is unbelievable, a kind of electronic score that is absolutely perfect. Even though this movie is totally shocking and pretty disgusting in some of the most extreme scenes (including hard core sex) you will ever see in any movie, I viewed it as a work of art, and loved it. And that music still amazes me, I have to try and find the soundtrack if is available. Watching \"Subconscious Cruelty\" is a real event, and not something the viewer will easily forget. And a note to gorehounds, this is a must-have.<br /><br />Warning... Be careful buying this movie, because some prints have fogging on the graphic sex scenes and extreme gore, especially the copies from the Japanese release.",
         "1"
        ],
        [
         "7",
         "I caught this film on AZN on cable. It sounded like it would be a good film, a Japanese \"Green Card\". I can't say I've ever disliked an Asian film, quite the contrary. Some of the most incredible horror films of all time are Japanese and Korean, and I am a HUGE fan of John Woo's Hong Kong films. I an not adverse to a light hearted films, like Tampopo or Chung King Express (two of my favourites), so I thought I would like this. Well, I would rather slit my wrists and drink my own blood than watch this laborious, badly acted film ever again.<br /><br />I think the director Steven Okazaki must have spiked the water with Quaalude, because no one in this film had a personality. And when any of the characters DID try to act, as opposed to mumbling a line or two, their performance came across as forced and incredibly fake. I honestly did not think that anyone had ever acted before...the ONLY person who sounded genuine was Brenda Aoki.. I find it amazing that this is promoted as a comedy, because I didn't laugh once. Even MORE surprising is that CBS morning news called this \"a refreshing breath of comedy\". It was neither refreshing, nor a breath of comedy. And the ending was very predictable, the previous reviewer must be an idiot to think such things.<br /><br />AVOID this film unless you want to see a boring predictable plot line and wooden acting. I actually think that \"Spike of Bensonhurst\" is a better acted film than this...and I walked out half way through that film!",
         "0"
        ],
        [
         "8",
         "It may be the remake of 1987 Autumn's Tale after eleven years, as the director Mabel Cheung claimed. Mabel employs rock music as the medium in this movie to express her personal attitude to life, in which love, desire and the consequential frustration play significantly crucial roles. Rock music may not be the best vehicle to convey the profound sentiment, and yet it is not too inappropriate to utilize it as the life of underground rock musicians is bitterly more intense than an ordinary one. The director focuses on the depiction of subtle affection and ultimate vanity of life rather than mere rock music. The love between father and son, lovers, and friends is delicately and touchingly delivered through the fine performance. Mabel does not attempt to beautify rock musicians as artists at all, instead, she tries to reproduce a true life on screen, making huge efforts of years' working on this project and gathering information in Beijing underground pubs.<br /><br />Daniel has given probably the best performance in all his movies made so far. His innate dispiritedness and reticence fit the blue mood of the film perfectly.",
         "1"
        ],
        [
         "9",
         "My Super Ex Girlfriend turned out to be a pleasant surprise for me, I was really expecting a horrible movie that would probably be stupid and predictable, and you know what? It was! But this movie did have so many wonderful laughs and a fun plot that anyone could get a kick out of. I know that this was a very cheesy movie, but Uma and Anna were just so cool and Steve was such a great addition along with a great cast that looked like they had so much fun and that's what made the movie really work.<br /><br />Jenny Johnson(scary, that's my best friend's actual name) is not your typical average librarian looking woman, when Matt, your average male, asks her out, he's in for more than he expected, he's asked G-Girl out on a date, the super hero of the world! But when he finds out what a jealous and crazy girl she really is and decides that it may be a good idea that they spend some time apart, but Jenny won't have it since he's fallen for another girl, Hannah, and she will make his life a living hell, I mean, let's face it, he couldn't have chosen a better girl to break up with.<br /><br />The effect were corny, but you seriously move past them quickly, the story and cast made the story really work and I loved Uma in this movie, it was such a step up from Prime. My Super Ex Girlfriend is a fun movie that you shouldn't really take seriously, it's just a cute romantic comedy that I think if I could get a laugh out of it, anyone could.<br /><br />7/10",
         "1"
        ],
        [
         "10",
         "I can't believe people are looking for a plot in this film. This is Laural and Hardy. Lighten up already. These two were a riot. Their comic genius is as funny today as it was 70 years ago. Not a filthy word out of either mouth and they were able to keep audiences in stitches. Their comedy wasn't sophisticated by any stretch. If a whoopee cushion can't make you grin, there's no reason to watch any of the stuff these guys did. It was a simpler time, and people laughed at stuff that was funny without a plot. I guess it takes a simple mind to enjoy this stuff, so I qualify. Two man comedy teams don't compute, We're just too sophisticated... Aren't we fortunate?",
         "1"
        ],
        [
         "11",
         "If you haven't seen the gong show TV series then you won't like this movie much at all, not that knowing the series makes this a great movie. <br /><br />I give it a 5 out of 10 because a few things make it kind of amusing that help make up for its obvious problems.<br /><br />1) It's a funny snapshot of the era it was made in, the late 1970's and early 1980's. 2) You get a lot of funny cameos of people you've seen on the show. 3) It's interesting to see Chuck (the host) when he isn't doing his on air TV personality. 4) You get to see a lot of bizarre people doing all sorts of weirdness just like you see on the TV show.<br /><br />I won't list all the bad things because there's a lot of them, but here's a few of the most prominent.<br /><br />1) The Gong Show Movie has a lot of the actual TV show clips which gets tired at movie length. 2) The movie's story line outside of the clip segments is very weak and basically is made up of just one plot point. 3) Chuck is actually halfway decent as an actor, but most of the rest of the actors are doing typical way over the top 1970's flatness.<br /><br />It's a good movie to watch when you don't have an hour and a half you want to watch all at once. Watch 20 minutes at a time and it's not so bad. But even then it's not so good either. ;)",
         "0"
        ],
        [
         "12",
         "I have always been a huge fan of \"Homicide: Life On The Street\" so when I heard there was a reunion movie coming up, I couldn't wait.<br /><br />Let me just say, I was not disappointed at all. It was one of the most powerful 2 hours of television I've ever seen. It was great to see everyone back again, but the biggest pleasure of all was to have Andre Braugher back, because the relationship between Pembleton and Bayliss was always the strongest part of an all-together great show.",
         "1"
        ],
        [
         "13",
         "Greg Davis and Bryan Daly take some crazed statements by a terrorists, add some commentary by a bunch of uber-right reactionaries, ascribe the most extreme positions of the most fundamentalist Moslems on the planet to everyone who calls themselves a Moslem, and presents this as the theology of Islam. Maybe their next film will involve interviewing Fred Phelps and the congregation of the Westboro Baptist Church, adding commentary by some militant atheist \"scholars, and call their film \"What the World Needs to Know About Christianity.\" Ultimately, this film suffers from both poor production values and lack of attention to the most basic standards of journalism. Don't waste your time and money; just turn on your AM radio and listen to Rush Limbaugh for a couple of days for free and you'll get the same message with the same level of intellectual analysis.",
         "0"
        ],
        [
         "14",
         "A half-hearted attempt to bring Elvis Presley into the modern day, but despite a sexy little shower scene and a pseudo-Playboy magazine subplot, Presley is surrounded by the same old coy, winking clichés. A woman picks E.P. up on the beach and then proceeds to take over his life--and he doesn't seem to care! Dick Sargent is grueling in another sidebar, but Don Porter and Rudy Vallee (!) try hard as Elvis' two bosses (he's moonlighting, you see). Some of the songs are quite good, especially \"Almost in Love\", but if you want to see a looser, hipper, updated Elvis sex-comedy--look elsewhere. When Elvis and his Fatal Attraction get into bed together, there's actually a wooden board in between them! Get real. ** from ****",
         "0"
        ],
        [
         "15",
         "If you want a fun romp with loads of subtle humor, then you will enjoy this flick.<br /><br />I don't understand why anyone wouldn't enjoy this one. Take it for what it is: a vehicle for Dennis Hopper to mess with your head and make you laugh. It ain't Shakespeare, but it is well done. Ericka Eleniak is absolutely beautiful and holds her own in this one - Better than any episode of Baywatch - and shows a knack for subtle humor. Too bad she hasn't had many opportunities to expand on that.<br /><br />Tom Berenger fits his role of \"real Navy\" perfectly and William McNamara does a solid job as a hustler.<br /><br />Throw in a walk-on by Hopper in the middle of the chase for \"the Cherry on this Sundae\" and you've got a movie that kept my attention and kept me laughing. I bought this one as soon as it was available.<br /><br />Brain-candy.",
         "1"
        ],
        [
         "16",
         "I really wanted to be able to give this film a 10. I've long thought it was my favorite of the four modern live-action Batman films to date (and maybe it still will be--I have yet to watch the Schumacher films again). I'm also starting to become concerned about whether I'm somehow subconsciously being contrarian. You see, I always liked the Schumacher films. As far as I can remember, they were either 9s or 10s to me. But the conventional wisdom is that the two Tim Burton directed films are far superior. I had serious problems with the first Burton Batman this time around--I ended up giving it a 7--and apologize as I might, I just couldn't help feel that Batman Returns just has too many small direction, plot and script problems scattered throughout to justify a 10.<br /><br />But Burton _almost_ trumps the problems with sheer force of style, and even though there are a lot of small flaws, Batman Returns is still a great film, especially if you're a Burton fan, as Batman Returns has just as much in common with The Nightmare Before Christmas (1993) and Edward Scissorhands (1990) as it does with anything else in the Batman universe.<br /><br />The film begins strongly, with the Cobblepots having a baby. We see their dismay--people walk out of the birthing room with horror on their faces, ready to vomit. Later, they have the baby in a small cage. Finally they take it out for an evening stroll and dump it in the Gotham City River. The baby ends up becoming Batman villain The Penguin (Danny DeVito).<br /><br />Meanwhile, Max Shreck (Christopher Walken) is the film's \"evil capitalist\", comparable to Grissom (Jack Palance) in Batman. He is planning on duping Gotham City in various ways, and we see him emotionally abusing his secretary, the timid Selina Kyle (Michelle Pfeiffer). When Kyle discovers one of the nefarious plots, Grissom tries to get rid of her, but she is rescued by cats, becoming Catwoman.<br /><br />While all of this is going on, The Penguin, who has long been only rumored to exist and who is thought to be dangerous, begins a scheme to be presented to the public as a good guy, despite having less than benevolent, ulterior motives.<br /><br />Before re-watching Burton's Batman films this time, I didn't remember just how little the films are about Batman (Michael Keaton). It's almost as if Burton didn't feel the character was interesting enough to focus on. The focus here is much more on the villains, especially The Penguin. Batman doesn't appear very often, especially in the beginning of the film, and surprisingly often, we're watching him watching The Penguin.<br /><br />Although some viewers necessarily count the above as a flaw, I can't say that I do, even if I'd like to know more about Batman and follow his story more. The villains' stories are interesting, too, and as an \"origin story\" for two major Batman villains, Batman Returns is already more than complex in terms of plot.<br /><br />However, there are some character problems that I do count as a flaw. The Penguin has a cadre of circus performers who do his bidding, but even though they're frequently on screen, we never get to learn anything about them. Burton has a core of characters as intriguing as those in Tod Browning's Freaks (1932) available, with actors as interesting as Vincent Schiavelli, but he just doesn't have the space to use them.<br /><br />For that matter, he hardly has space to explore Catwoman. The film plays as if Catwoman may have been as developed and featured in as many scenes as The Penguin, but that cut of the film would have been 4 hours long. So the bulk of the Catwoman scenes had to be excised. Of course, all of this barely leaves any room for Batman. Burton has Batman turn very dark in the public's eye in this film, and unusually, he never bothers to resolve this. As far as we know, at the end, Gothamites still think that Batman is a murdering lunatic. That's an interesting development, but unfortunately it ended up being dropped between this film and the next.<br /><br />As for the script, although there are minor problems including some non-sequiturs and bizarre decisions (in terms of logic) made by characters, it's clear that Burton and writers Sam Hamm and Daniel Waters are not exactly trying to tell a traditional story. A lot of the dialogue is pun-oriented, but often this is fairly subtle and/or complex (of course, sometimes it is very blatant or transparent, too). It helps to look at Batman Returns as a more \"poetic\" film, as I believe was the intention. This also carries over into more general plot and directorial decisions--plenty of odd character actions, including from minor characters, are done in service of a general mood or style, and that style works very well.<br /><br />\"Dark\" is the easiest way to sum up Batman Returns in a word, and whether that's a positive or negative depends on your disposition. Anyone who knows me knows that I love dark. So for me, Burton's style largely transcends the flaws in the plot and the script. In many ways, Batman Returns is like an insane, campy horror film, with beautifully eerie production design. Like Batman, Burton is still making many references to other films, but instead of Vertigo (1958) and Star Wars (1977) (well, there's still a slight Star Wars reference), he invokes films like Nosferatu (1922) (including that \"Max Schreck\" was the name of the actor who played the Dracula-like character there), Motel Hell (1980), the aforementioned Freaks, Willy Wonka and the Chocolate Factory (1971) (which has a surreal, dark edge to it) and zombie films--made most explicit in The Penguin's final scene.<br /><br />In terms of visuals and general atmosphere--and that includes the general \"feel\" of the story, the characters and so on--this couldn't be a stronger 10.",
         "1"
        ],
        [
         "17",
         "The main problem with \"Power\" is that it features way too may pointless characters and subplots that add absolutely nothing to the movie whatsoever. It gets boring after awhile, sitting around waiting through scenes that don't connect to find something that drives the movie forward. You could probably pass it all off as character development, but all of them are either recycled from earlier scenes in the movie, or are just simply to flat and uninteresting. Lumet never gives enough time to let any of the supporting cast blossom. He should have cut a few of the characters (hackman, the wife) and concentrated harder on others (Billings). It could have been a great, hard political thriller instead of a jumbled mess that loses any message in a sea of bad writing and acting, a fact that amazed me considering the cast. Even Gene Hackman performance wasn't up to par. Denzel Washington is the only real actor of note here. Gere and the others have all done much better performances elsewhere. <br /><br />Sidney Lumet needs to go back to the fierce one man shows he did in the seventies (i.e, Serpico) and stop trying to recapture his success with \"12 Angry Men\" and \"Fail Safe\". It hasn't worked yet Sidney, and it most likely never will. leave the ensemble dramas to Altman. <br /><br />3/10<br /><br />* / * * * *",
         "0"
        ],
        [
         "18",
         "The folks at Disney have a lot to explain. First and foremost, why anyone thought this lesser-sitcom material would ever make even a half-decent motion picture. In the kooky 60's teleplay, the unique idea of Martians among us had not yet been given the sophisticated X-Files treatment. Quaint visions of little green men have long since been dispelled by the likes of E.T., CLOSE ENCOUNTERS and ALIENS 1-3.<br /><br />Any charm the property had was mainly due to the endearing relationship created between the late Bill Bixby as Tim and Ray Walston as the unworldly visitor. The conceit that Martians have antenna seemed dopey back then. Now it seems positively idiotic. Yet, Christopher Lloyd's Uncle Martin sports the metallic appendages. In an early shot, the antenna on a sign for the TV station Tim works at is supposed to make us think \"martian\"! When's the last time you saw a TV with rabbit ears, eh?<br /><br />Disney doesn't trust quaint or relationships and crams this flick with youth-wooing special effects that include a talking space suit named Zoot! Yes, you read that correctly - Uncle Martin's silver space suit speaks. He is supposed to be a real hilarious cut-up! Figure again. I got stretch socks that are funnier than Zoot. Whenever the action lags (and it lags constantly), computer graphics are put into play to liven things up. Tim is here played by the amiable Jeff Daniels, who can't (or won't) do anything to save this floudering mess. Zesty Christine Ebersole brings some comic zeal to her neighbor lady role. Even Ray Walston himself is dragged painfully into the procedings - all to no avail. This alien visitor is dead on arrival.<br /><br />Constant talk of sitcoms turning to screen makes me only hope that the I DREAM OF JEANNIE movie won't feature a talking harem outfit. I pray that Samantha's cat in the movie BEWITCHED doesn't have lines. I live in fear that I LOVE LUCY - THE MOVIE will proudly feature a CG Conga Drum named Bongo.<br /><br />Paging Michael Eisner! Mickey Mouse - take me to your leader.",
         "0"
        ],
        [
         "19",
         "A friend told me of John Fante last summer after we got into a conversation about Charles Bukowski. I did not know that Fante was a favorite writer of Bukowski's - an author with similar edge and humor except from one generation earlier. 'Ask the Dust' was the first Fante book I read, and it remains one of my favorite novels. The novel was a brilliant piece of writing about a sad, frightened young writer posing to himself and the outside world as an overconfident, masterfully talented author who had no idea how to write about the real world experiences he had none of. In the novel the protagonist is a virgin, with no idea how to win the graces of the women he desperately wants to write about in magazines. The story of his bizarre relationship with Camilla, how he settles for his first sexual experience with a 'wounded' admirer, and how he eventually is left with nothing but the story of his failed attempts at love is biting and real, with no touching Hollywood ending. The film adaptation stays true to the book for a while, but meanders into the cinematic trap of love persevering through racism, sickness and death. The heart of this story lies in the fact that Bandini is a jerk and Camilla is f-ing crazy, and their love never was and never would be the real thing, no matter how much either of them wanted to find it in each other. This movie tore out the real meaning of the story out and replaced it with schlock. I can't believe the man who wrote Chinatown could read this book and make a movie about it that got it so wrong.",
         "0"
        ],
        [
         "20",
         "Ever since I heard of the Ralph Bakshi version of \"The Lord of the Rings\" I wondered: What the hell is 'rotoscope' animation?!!! Well... I finally found out... I saw this movie about three years ago not having any idea who Ralph Bakshi is... And I liked it... a lot... Very good story line... it even has a little character development which is great for a cartoon... See it if you get bored with contemporary animation.... Don't get me wrong... I'm not saying it's just a nice cartoon... It's a pretty good movie too...",
         "1"
        ],
        [
         "21",
         "I sat through this film and i have to say it only just managed to keep my attention. The film would have been a bit more bearable if i did not have to watch the awful CGI, for future reference to the industry if your going to use CGI watch this so you know what to avoid.<br /><br />Apparently this is supposed to be a graphic novel for the screen but all i saw was a bad movie which bears no resemblance to a graphic novel whatsoever.<br /><br />All in all, the story was not as bad as the CGI, i was quite impressed with the acting and thought the casting was good and little more character info would have been nice as it did get a little confusing for me on occasion but that's not surprising as like i said it only just kept my attention, but in all honestly i wish i had given this one a miss.",
         "0"
        ],
        [
         "22",
         "I don't care if some people voted this movie to be bad. If you want the Truth this is a Very Good Movie! It has every thing a movie should have. You really should Get this one.",
         "1"
        ],
        [
         "23",
         "I never really understood the controversy and hype this movie caused. Especially in French and the neighboring countries (in Belgium, where I am located, for example), \"Baise-Moi\" was announced as THE most shocking and THE most thought-provoking social drama you could ever experience. Yeah right! It might be a little shocking, maybe (how often do you see someone getting shot up the arse?), but the weak and pointless plot surely didn't cause me to think much. \"Baise-Moi\" is another one of those \"blame everything that goes wrong on society\"-films and they're generally not very convincing. About 99% of the people functions perfectly well in this society so why would you blame this exact same society for the vile and hopeless acts of two deranged nymph-girls? The two main characters and their miserable lives are introduced separately and in flashes. Nadine just killed her roommate; Manu shot her brother and the two meet in an abandoned train-station, late at night. They decide to travel around France together, leaving a trail of sex and blood behind wherever they made a stop. Although we're constantly exposed to pornography and violence, this film is very boring to sit through. Like the girls are indicating themselves all the time, the dialogues are lame and the people they run into (and kill) are very uninteresting. If people want to make porno movies, that's fine by me, but please don't pretend that it's art-house film-making. If you leave out the swearing and the hip camera-work, all there is to see is (not so) arousing pornography. Cool soundtrack, though!",
         "0"
        ],
        [
         "24",
         "Sweet, entertaining tale of a young 17 1/2 year old boy, controlled by by an overbearing religious mother and withdrawn father, and how he finds himself through his work with a retired, eccentric and tragic actress. Very well acted, especially by Julie Walters. Rupert Grint plays the role of the teenage boy well, showing his talent will last longer than the Harry Potter series of films. Laura Linney plays his ruthlessly strict mother without a hint of redemption, so there's no room to like her at all. But the film is a very entertaining film, made well by the British in the style of the likes of Keeping Mum and Calendar Girls.",
         "1"
        ],
        [
         "25",
         "First, I should mention that I really enjoyed ISHII Katsuhito's previous film \"Samehada Otoko to Momojiri Onna\" (\"Shark Skin Man and Peach Hip Girl\"). Although it owed a debt to Tarentino's \"Pulp Fiction\", Ishii's cast was up to the task of carrying the story, and the entire film crackled with energy. The scenes between ASANO Tadanobu and GASHUIN Tatsuya were particularly engaging. There was action, intrigue, bizarre characterizations, enough sex to keep things interesting, and an utterly unpredictable story line.<br /><br />So it was with a certain amount of anticipation and optimism that I began to watch \"Party 7\". And my enthusiasm was certainly piqued with the opening credits, which left my wife and I actually stunned by how dynamic and exciting they were; the mix of anime and live-action work was brilliant! Then, the actual movie started. Actually, it didn't so much \"start\" as sort of shuffle in the side door and stand there, fumbling through its pockets, looking uncomfortable.<br /><br />The entire film takes place in three rooms. One is a futuristic voyeur's paradise (borrowed a bit from \"Shark Skin Man...\"), another is a travel agent's office, and the third (and far the most used) is a seedy hotel room. In that room, a cast of seven characters meets and...does approximately nothing. Really. I'm no stranger to \"talking\" films. One of my all-time favorites is \"My Dinner with Andre\", the talkiest of all talking films. \"My Dinner with Andre\" is far more exciting, and it just has two middle-aged men discussing their lives over dinner. The key is that Andre Gregory and Wallace Shawn tell interesting stories. The cast of \"Party 7\" literally just whine at each other for the entire film. \"No, you don't!\" \"Yes, I do!\" \"No, you really don't!\" \"Yes, I really do!\" \"No, you really, really don't!\" Yes, I really...\" you get the idea, I hope. I wish the directer had.<br /><br />\"Party 7 is an unbelievably unengaging film. There is only the flimsiest of plots (money stolen from the Yakuza, just like in \"Shark Skin Man...\"), accompanied by almost no action. There is no interesting dialog. The characters are largely uninteresting. It was as if Ishii took the throwaway conversational moments from Tarentino's films and built an entire film around them. But Tarentino's conversations always have their own internal logic and wit (\"They call it a 'Royale, with cheese'\"). Not so with the dialog here, which is duller than you can imagine. If it weren't for the brief, hilarious cameo from Gashuin (who is always marvelous) and a low-key performance from the awesome ASANO Tadanobu, I would've given \"Party 7\" a single star. It really was chore to make it all the way through.",
         "0"
        ],
        [
         "26",
         "The Argentinian music poet, Atahualpa Yupanqui, once said that some folk music repeats similarly at any country of the world. They look the same but everybody consider them as their own folk music...<br /><br />This film, as I feel it, is about the same music that repeats all over the world at some time of each country's history. First, a few listen it playing and try to make the others hear it. Then some, believe that they hear it, but they don't. Then, nobody says anything and some people appear to listen to it. And others recognize that they have heard it, but didn't think that others might be hearing it. Finally, everybody listen to the same music, and suddenly it doesn't sound any more...<br /><br />Love and poetry, as a real nationalism and the legacy of a father to his children...<br /><br />Why would he call the film, The Dead when nobody dies? The Spanish translation of the title refused to follow the same rule and we call it Dubliners, following James Joyce's title...<br /><br />A nice 1900 Irish filmed postcard!",
         "1"
        ],
        [
         "27",
         "I saw this film by chance on the small box. It has a fantastic and chilling scene about poisonous gas. A lot about fanatical patriotism. A bit of eroticism. I can't believe it's still waiting for 5 votes!!",
         "1"
        ],
        [
         "28",
         "The small California town of Diablo is plagued with mysterious deaths after sheriff Robert Lopez unearths an ancient box.Legend has it that the box holds the sixteenth-century Mexican demon named Azar.FBI agent Gil Vega is sent to investigate the murders and joins forces with the sheriff's daughters,Dominique and Mary to fight with evil and bloodthirsty demon.\"The Legend of Diablo\" is an absolute garbage.The film lacks scares and gore,the acting is amateurish and the direction is bad.The animation is the only one aspect of the film I enjoyed.I'm a big fan of indie horror flicks,for example I loved \"Torched\",\"Live Feed\",\"Bone Sickness\" or \"Neighborhood Watch\",unfortunately \"The Legend of Diablo\" is a huge misfire.Definitely one to avoid.",
         "0"
        ],
        [
         "29",
         "It's good to see that Vintage Film Buff have correctly categorized their excellent DVD release as a \"musical\", for that's what this film is, pure and simple. Like its unofficial remake, Murder at the Windmill (1949), the murder plot is just an excuse for an elaborate girlie show with Kitty Carlisle and Gertrude Michael leading a cast of super-decorative girls including Ann Sheridan, Lucy Ball, Beryl Wallace, Gwenllian Gill, Gladys Young, Barbara Fritchie, Wanda Perry and Dorothy White. Carl Brisson is also on hand to lend his strong voice to \"Cocktails for Two\". Undoubtedly the movie's most popular song, it is heard no less than four times. However, it's Gertrude Michael who steals the show, not only with her rendition of \"Sweet Marijauna\" but her strong performance as the hero's rejected girlfriend. As for the rest of the cast, we could have done without Jack Oakie and Victor McLaglen altogether. The only good thing about Oakie's role is his weak running gag with cult icon, Toby Wing. In fact, to give you an idea as to how far the rest of the comedy is over-indulged and over-strained, super-dumb Inspector McLaglen simply cannot put his hands on the killer even though, would you believe, in this instance it happens to be the person you most suspect. Director Mitch Leisen actually goes to great pains to point the killer out to even the dumbest member of the cinema audience by giving the player concerned close-up after close-up.",
         "1"
        ],
        [
         "30",
         "I saw this film via one of the actors' agents, and it surely conforms with a great deal that comes out of Sth. Australia in terms of the overall *tone,* which is rightly dark and moody.<br /><br />I thought the little boy in the film was excellent. Mostly kid actors are *hammed up* and embarrassing but not in this case. He was really very good. In terms of the *surrealism* thingy mentioned by jingo, well, I just think this film is plain 'weird.' It's a real weirdo film, with weirdo locations, storyline, weird stuff going on the whole time. But 'good' weird as opposed to 'bad'.<br /><br />Its hard to think of other movies like it, but its not at all like CARS ATE Paris, maybe more like a REPULSION, but actually I think more like a Hammer movie from the 60's. Its certainly has an interesting mind working behind it.<br /><br />JINGO, My question is also about the title. Why Modern Love?? Anyone? Also, jingo, what did you mean by \"god Forsaken\" when you were talking about Australia, hmmm? Just curious",
         "1"
        ],
        [
         "31",
         "During the Civil War, there were many cases of divided loyalties; obviously, many occurred \"In the Border States\", where North met South by happenstance of geography. From the border, young father Owen Moore goes off to join the Union Army. Shortly, Confederate soldier Henry B. Walthall, separated from his regimen, wanders onto the enemy's property, desperate for water; he finds a supply where the Unionist's young daughter Gladys Egan sits. When the Yankee soldiers track him down, Little Gladys innocently helps the Confederate hide. Later, when he returns to kill her father, the little girl's kindness is remembered. A sweet, small story from director D.W. Griffith. Location footage and humanity are lovingly displayed. <br /><br />**** In the Border States (6/13/10) D.W. Griffith ~ Henry B. Walthall, Owen Moore, Gladys Egan",
         "0"
        ],
        [
         "32",
         "How could they take such a beautifully animated gem like Don Bluth's All Dogs go to Heaven and bastardize it with a charmless, cheesy, uninspired sequel. The haunting music and delightful characters are gone, now replaced with tacky animation and an unimaginative plot.<br /><br />The Pros: Charlie Sheen is sometimes fun as Charlie, but he lacks the charming tough guy attitude that brought him to life by Burt Reynolds. I did particularly enjoy the songs \"I will always be with you\" and \"It's too Heavenly here\".<br /><br />The Cons: There seems to be no connection between this and the original. In the beginning Charlie is chums with Carface, but wait a minute. Isn't this the same character who was responsible for Charlie's murder and kidnapped the sweet little orphan he loved? I guess that all changes in Heaven but why isn't Anne-Marie even mentioned? If Itchy makes it to Heaven, wouldn't Flo and Killer make it too? What is with Annabelle the whippet's voice? In the original it sounded feminine and charming and in the sequel it sounds like a whiny, bitchy, parrot. The new characters aren't all that great (except Sasha). And the animation is better compared to a generic Saturday morning cartoon. The constant cartoony \"humor\" is flat and unfunny and the \"heart\" just doesn't work when compare to the original, which had such a moving unsubtle touch that makes me cry every time.<br /><br />All Dogs go to Heaven is one of my all-time favorite films. How Don Bluth allowed this sequel to be made is beyond me.<br /><br />BOTTOM LINE: Not all sequels go to Heaven.",
         "0"
        ],
        [
         "33",
         "First off let me say that this is probably in my opinion one of the 10 most underrated movies since this came out in 72. I absolutely loved this movie, it's very urban, gritty, no real Hollywood glam added to it.. you can actually feel for all of the characters in here, i love the blood just splattering abound in here. Joe Pesci was pretty good in here, but to me it seems like he was definitely outdone by the lead character Joe Cortese, now i don't know anything about him , but boy can he really act.. I believe this movie is probably true, because living in New Jersey,, living close to Philly, you here this kinda thing all the time. i think that if the movie had a bigger budget , and say Robert deniro as jerry's boss you would have a perfect movie, but hey who am i to argue, i was so engrossed by this film, that it is already up there in my mind, with Mean Streets. I wish Hollywood would go back to this urbanized, gritty display of movie making: it would serve them very well to do so. this movie is a great drama with great actors in it. and i highly recommend it to anyone.",
         "1"
        ],
        [
         "34",
         "In a way this is the disaster Fellini has been working towards all his life. The line between absurd masterpiece and free association bullshit is very small, and what category a film will ultimately fit in will often just depend on personal feelings. That said, \"Casanova\" left me in cold admiration for its sets and little more that cannot be summed up more adequately by Bukowski: <br /><br />\"Casanova died too, just an old guy with a big cock and a long tongue and no guts at all. to say that he lived well is true; to say I could spit on his grave without feeling is also true. the ladies usually go for the biggest fool they can find; that is why the human race stands where it does today: we have bred the clever and lasting Casanovas, all hollow inside, like the Easter bunnies we foster upon our poor children.\" <br /><br />As far as I could make it out, this is the position Fellini takes regarding his subject; granted, with more empathy, but disgusted nonetheless.<br /><br />Casanova's environment is made from decay and incestuous behavior, themes Fellini dealt with more pointedly in \"Satyricon\". The succession of plot is characteristic of soft porn, just without the coherence; and Donald Sutherland is ugly and slimy to the point of distraction.<br /><br />Yet, there might just be a point in portraying Casanova as an unsightly fool. And I challenge anybody to formulate this point without being obvious; Fellini couldn't. More than ever he seems here like a dirty old man - a maestro, for sure, but one whose impulses satisfy himself more than anybody else. I find it hard imagine an audience who enjoys this film. It was a story not worth telling.",
         "0"
        ],
        [
         "35",
         "Three writers made a valiant attempt to adapt Jane Stanton Hitchcock's novel for the tube, yet this television movie has ultimately been injected with too much melodrama and just doesn't know when to quit. Struggling artist Meg Tilly suddenly finds herself employed by wealthy, enigmatic Ellen Burstyn, who desires a mural painted on the walls of her unused ballroom. After learning about the last gathering held there--Ellen's daughter's coming-out party--Tilly decides on her artistic theme, never dreaming the daughter died mysteriously before the function even began, nor that she and the deceased bore a striking resemblance to one another! Two superb actresses lend their services to an incredible yarn which doesn't bear close scrutiny, one that fails to match either lady in emotional intensity. Burstyn's role teeters on camp, while Tilly gets stuck doing the dreamy-eyed-waif routine. Only one sequence late in the film (the morning after the mural is finished) is charged with honest feeling, anger and betrayal. The rest is piffle.",
         "0"
        ],
        [
         "36",
         "Well, I only caught the tail end of this film on HBO, just the final 10 minutes or so, but I must say that it contains probably the most laughable depiction of distance running EVER put on film! I'm a serious distance runner and a dedicated fan of the sport, and I've sat through many painful demonstrations in movies before. However, nothing could have ever prepared me for what is shown on screen in the final 10 minutes of this movie, it literally defies belief! The depiction of the runners is even more ironic considering that African runners completely dominate the sport, and they are elegant and graceful. The female protagonist shuffles along like an overweight pregnant woman, and her \"highly trained\" male supporters are no better. Well into the race this alleged world class runner is surrounded by pudgy, overweight people, many of whom are WALKING! I find it interesting that the director decided to have her lead the female competition, yet near the end she is shown passing people who look like they're staggering along on two broken legs! Are we to believe that this amazing stellar athlete has only overtaken a crippled person at the very end of the race? Maybe the director just thinks that female runners can't run faster than 12 minute miles, and he has obviously never heard of athletes like Paula Radcliffe or Tirunesh Dibaba.<br /><br />Even if you aren't a running fan you'll be astonished by the insanely inaccurate portrayal of running, and this movie is only watchable as unintentional comedy. Here is a note to the director: The next time you decide to make a movie about a sport, it might be worth it to hire at least one person who actually has observed that sport in action.",
         "0"
        ],
        [
         "37",
         "A feminist tract in which if you the viewer believe that: i) wild animals are seldom tamed by singing but instead attack, kill and eat (the line that grizzlies never attack unless provoked was a hoot - unless \"provoked\" means that it sees flesh); ii) homosexuality is both immoral per se -- and its acceptance almost always associated throughout history with signs of a society's dissolution and decay iii) few women are bisexual (in this one, virtually every woman is presented as having no preference for men or women) iv) divorce is far worse than infidelity v) land is there for human beings to use, develop and enjoy vi) it is as incumbent upon a mother of an adult son to keep in touch as it is upon the son vii) a mother raising her son alone is an unfortunate and real tragedy for the child viii) the idolization of a parent for worthwhile ideals is a good and healthy thing ix) adults continue to bear a responsibility for their sexual behavior, no matter their age, and the duty to engage in this most intimate and giving of acts only within the most intimate and openly sacrificial of relationships: marriage -- believe me, you are NOT going to like this film! Essentially it's a Howard Stern sort of fellow who is brought down by a Jane Fonda sort of woman (think The Electric Horseman). It's ugly stuff because the values, the ideals, of the screenplay are all so harmful.<br /><br />I share the other objections about the odd things in the writing: a) why would this man lose every girlfriend he has -- because he refuses to reveal that his mother's death and funeral caused him to be unable to keep dates with them? It's a mystery why he just keeps saying \"it was personal\" when faced with angry and disappointed women. HUH? <br /><br />b) there's an enormous inconsistency (i.e., the screenwriter wants to have it both ways) by telling us that the protagonist's mother loved the father with everything she had - and then later we're told that there was only one great love in her life - her lesbian girlfriend.<br /><br />c) the underlying legal assumptions are nonsense. We're never told that the executor has any right to live at the property - merely that she shall determine the timing of the sole heir's title and right to occupy the property. Yet somehow the film makes it appear that the executor is the rightful occupant - which is crazy. (Try to think of any executor of any will who uses the decedent's property before the will's bequests are fulfilled - it doesn't happen).<br /><br />d) the assumption throughout this film is that women are equally drawn to men and women - it's just absurd. Thus, we're told: i) that Penelope Ann Miller's character is dating other men near the end of the film - after having been with the decedent for five years - and before that in a fulfilling relationship with the protagonist, ii) that the protagonist's housekeeper after being devoted throughout her adult life to her kind husband - is now dating another woman iii) that one girlfriend upset with the protagonist would now therefore \"like to try a woman\".<br /><br />iv) that a male transsexual is eager to date the protagonist v) that Mary Kay Place's character naturally looked at other women in college (\"and they looked back\" she says with an idiotic triumphal flip of the head).<br /><br />This is all just ridiculous.<br /><br />I agree with others about the sound of the DVD (I had to keep it at maximum volume and repeatedly rewind to understand names, phrases).<br /><br />This is a film by someone who really despises traditional heroics by any man, hates the notion that a man is needed to raise a child, loathes the idea that there is any necessary connection between marriage and sex. The film is out to preach - and that kind of propaganda of false messages doesn't sit well.",
         "0"
        ],
        [
         "38",
         "SUcks. That's all I got to say about this sorry excuse for a film. Sucks. Sucks. Sucks. I mean, what the hell were they thinking? The idiots involved should never be allowed to make another films. The acting was so bad that it even failed to entertain on a bad level. The attempt at a \"lesbian scene\" was sad. I felt so bad for the ladies involved. This movie sucks! Sucks! Sucks!<br /><br />I heard rumors of a sequel.<br /><br />God<br /><br />Help<br /><br />Us<br /><br />All",
         "0"
        ],
        [
         "39",
         "Superman II - The Richard Donner Cut should be a fan's dream come true. At long last, footage only seen in photos and scenes that only existed on the printed page would finally come to life. A director that was unable to complete his vision would have the opportunity to have his vision restored. It seems like a winning situation. And then you start watching this assembly of footage and you realize this \"esoteric dream\" is a very real nightmare of sloppiness and incompetence. While it's entirely possible that no movie could compete with the finished perfect version each of us has imagined over the years it really should have been a thrill to finally see this project. And it is only a very few times.<br /><br />You know things are shaky when the very first bit of text on screen looks like home brew computer graphics. But then we start seeing new footage (alternates from Superman - The Movie for the trial) and that first bit of hesitation fades away. Hey, this is pretty neat! Things are alright for these few fleeting moments until we see footage from STM intermixed with new effects for this project, and it doesn't convince at all. And from this point on, it never ever lets up. It's probably not right to judge a movie because of bad visual effects, but when this is supposedly the direct follow up to a movie whose tag line was \"You'll Believe A Man Can Fly\" it's difficult to believe anything shown on screen here. The best effects in this are from the original productions.<br /><br />Another issue with this re-cut. A lot of it just doesn't make sense. The only reason any of it really works is because we've all seen the theatrical version of Superman II, a movie that does make sense. Lester's Superman II fills in the holes of this assembly. Part of this could be because Donner didn't get to complete shooting, the other part could be because the makers of this project were intent on using as little Lester material as possible. What we end up with is an assembly of footage that makes Superman IV look airtight and coherent.<br /><br />After viewing this, one gets the sense that while Lester was faithful and comfortable using Donner material, Michael Thau and his team were extremely disrespectful towards anything filmed by Lester. The best scenes in The Donner Cut are the ones lifted relatively intact from the released version of Superman II. That includes the moon sequence and the diner sequence, not ironically, both were filmed by Donner. But anything else from that movie filmed by Lester is re-edited in such a hasty fashion, that it now makes Lester seem like a ham fisted know nothing. While Lester honored the Donner material, Lester here is thrown under the bus.<br /><br />So is there anything good in this release? Well Marlon Brando is in it, and that's neat to see. In fact watching any of the material shot by Donner is neat since it was all filmed at the same time as Superman - The Movie. But that only highlights the problems of this release. Any of the major scenes (really just Lois jumping and scenes with Marlon Brando) would have been better served as completed scenes in a deleted scenes section. Instead they are shoe horned into a nonsensical narrative with inferior performances (many alternate takes from familiar scenes are used) sloppy edits and bad decisions.<br /><br />Watch the opening scene at the Daily Planet. Why are we looking at Jackie Cooper's back as he calls for Lois and Clark? At the end why do we have Lois walking into her dark apartment only to have that followed by Jackie Cooper walking into a dark bathroom turning the lights on? I was initially confused by this, because I expected to see Lois. The entire assembly is filled with questionable choices like this.<br /><br />Battle scenes are a mess too, with no geography between cuts. It's just random action. Of course, the major action scenes were shot by Lester and his material is only used as a bridge to the next set of Donner outtakes or alternates. They should have used more of Lester's footage, but probably had too much pride to admit that.<br /><br />The sloppiness extends to the military missile as well. As noted elsewhere, the missile shown in The Donner Cut bears the designation \"XK 10\" while we all know it's the \"XK 101\"! A blind man in STM knows that! The producers of this assembly, who tried so hard to honor the original film, dropped the ball less than five minutes in and that mistake is indicative of the quality of the entire production. For all the supposed care that was put into this, the final product has an air of shoddiness to it that is inescapable.<br /><br />The entire affair would probably be easier to digest if Warner's didn't make this a separate release here in the states. As it is, we're expected to pay for what is essentially a bonus disc of deleted scenes with a \"Play All\" option. It's really only worth one viewing so that we can finally see the legendary cut scenes, but after that initial viewing, I expect that this will be an excellent magnet for dust and little else. I know after my experience of watching this, I had new respect for Lester's version. It's by no means perfect, but Lester realized the deficiencies that were in the script that stand out here in bold relief. He managed to make a movie that has entertained for many years and will continue to do so, while this new re-cut will most likely only be remembered as a footnote in that films history.",
         "0"
        ],
        [
         "40",
         "Doll Master is an example of a lousy horror film, fallen somewhere in the space with it's two not so well established genres, a horror film and an emotional drama film. Seems like The Doll Master tries very hard to be a very scary horror film, but it fails. The noise of the dolls while moving is like taken from the croak of Kayako in Ju-On, and the crawls are like sadako esquire. The killing dolls will remember you a cute version of \"Chucky\". But compared to Child's Play, this film is more superb. But the story seems a nothing, the brilliant camera shots and the brilliance of acting was taken away cause of the plot.<br /><br />Don' watch this if you are expecting great shocks.",
         "0"
        ],
        [
         "41",
         "Doesn't this seem somewhat familiar? Oh wait, that's right.. 90% of the jokes in this movie have already been done in the TV series. What's the point in repeating yourself, you may ask? Is it for the benefit of the Americans who haven't seen the programme? Did the scriptwriters run out of inspiration? Or maybe everyone on set suffered a sudden attack of amnesia, and forgot they'd covered this ground already? Either way, for someone who has sat through the first three series, this was just really boring. I had to turn it off during the 'tablets that turn your water green' part.. yes it is very funny, but give us something original for goodness sake! Actually, if the best new stuff you can come up with is Leonard Rossiter's take on Saturday Night Fever, you can forget it.<br /><br />The guy they got to replace the late Richard Beckinsale is a lookalike alright, but not half the actor. Personally I would exorcised the role, as a mark of respect to him. Or better yet, not bothered making the film at all, and just let the hilarity of the TV series speak for itself. But no, they couldn't do that.. not as long as there was money to be made. Sad, really. 4/10",
         "0"
        ],
        [
         "42",
         "In Extramarital we see B-actress Traci Lords at her very best. She's all wrapped in horror & suspense here, a type of role that suits her very well.<br /><br />This mainstream movie lends a lot of its atmosphere from Paul Verhoeven's 'Basic Instinct' (1992), by the way. However, there are differences between the main female characters of Traci Lords ('99) and that of Sharon Stone ('92). For instance, in Extramarital Traci adds some tiny elements from her porn-past. We also shouldn't forget mentioning Extramarital's three main actors. By putting down a convincing performance, each of them greatly contributes to the overall quality of this movie. <br /><br />All this makes Extramarital into a very enjoyable B-movie. Its storyline shows a good build-up, its tense being well-spread from start to finish. This movie keeps you at the edge of your seat, until its unexpected end.",
         "1"
        ],
        [
         "43",
         "I'm not sure what HK movies the other reviewers have been watching, but Enter the Eagles is nowhere near the top of the heap in HK action. Michael \"Fitz\" Wong should be glad he can get acting jobs in HK, because he couldn't act his way out of a wet paper bag in English. Shannon Lee looks good and is a fantastic fighter (even better with the leg fighting than her dad), but her acting skills are also sub-par. In fact, all the English dialog (90% of the movie--even more than in Gen-Y Cops) is so bad that I switched to Mandarin audio just to spare myself the misery of the bad dialog delivery and the redundancy of the English subs. Sure, there are some decent gunfights (but nothing we haven't already seen before) and good cinematography, but the cheesy visual effects really spoil the action.<br /><br />That said, it's worth the price of admission to watch Shannon and Benny \"The Jet\" Urquidez go at it. Spectacular, and almost worth watching the rest of the movie for.<br /><br />Finally, you might notice some scenes that seem \"familiar\" to you, notably a shootout at an outdoor market (think Matrix) and Fitz diving out of a helicopter wearing black fatigues (think MI:2). Guess someone thought at least a few things in this flick were worth ripping off.",
         "0"
        ],
        [
         "44",
         "Three of the things you can say about Spalding Gray are: he certainly marched to the beat of his own \"drummer;\" he was never at a loss for words; and he obviously felt that those watching and listening to him would be interested in every aspect of his life, experiences and thoughts - no matter how trivial at times.<br /><br />Most of us are not quite as far \"off the wall\" as he was. Most of us aren't as interested in sharing the most minute parts of ourselves with others - even one-on-one or in small groups, let alone on stage.<br /><br />But that doesn't make it any less-interesting to watch and listen to this erudite, unusual man. And after seeing one of his performances, on reflection, we can find many of his articulate musings were perhaps more relevant to our own lives and thoughts than we may have first thought.<br /><br />Granted, he was a \"New York/avant-garde\" type of personality, and undeniably a bit \"strange.\" (There are those who would maintain describing someone as \"New York\" and strange\" was being unnecessarily redundant.)<br /><br />I give him a \"10\" for the talent he presents in this genre which is his specialty.",
         "1"
        ],
        [
         "45",
         "I like Brad Pitt enormously. He is an actor with brains and wit, not to mention face, pectorals and all the rest. Since I saw him in \"Thelma and Louise\" a thought has been bothering me, who does he remind me of? \"Troy\" did it for me. He is the new Brigitte Bardot. The differences are obvious of course. Male, American etc but Brigitte Bardot comes to mind nonetheless. He is so beautiful that he is at his most effective when he plays against it. \"Kalifornia\" \"12 Monkeys\" \"Fight Club\" \"Snatch\" His self deprecating humor makes him human, almost accessible. Fortunately \"Troy\" will soon be forgotten. Only still photographs with Pitt, semi naked in ravishing sprint positions will decorate the walls of legions of salivating fans. Strange, \"Das Boot\" is one of the great films of the second part of the 20th Century. What is Wolfgang Petersen doing directing this? Well, I suppose it would be very hard to say no at the chance of working with the new Brigitte Bardot.",
         "0"
        ],
        [
         "46",
         "Have you ever found yourself watching a film or documentary and having to hold yourself back from screaming things like \"No! Don't do it!\"? No? Well it's time you do. And undoubtedly DEEP WATER is the one to get you started.<br /><br />The story is based on that of Donald Crowhurst and his entry into the first round-the-world yacht race to be undertaken by individuals in 1968. That word \"individuals\" is important, as the men who set off on this nearly suicidal escapade head out alone.<br /><br />Most of the men are well-knowns in the sea-faring communities of England (where they launch from), but one of them is the \"unknown dark horse,\" and his name was Donald Crowhurst. Struggling financially, Crowhurst enlists a backer who can take everything from him should he fail to at least attempt to make it through a large portion of the race. He could take his home, his property, everything.<br /><br />Crowhurst now finds himself between a rock and ...well ...deep water: either attempt the race with an unproven ship and an unproven captain, or lose everything you own (which was significant since Crowhurst had a wife and several children). You'll note the term \"unproven captain\" in there, too. Not only was he unproven, he'd never been out on the open sea! Did I mention suicidal? Flicking between archival footage of the pre- and post-race, and those of Crowhurst's friends, family, and acquaintances of today, Deep Water is put together masterfully. Initially seen as a poor sap who got in over his head, the film gradually shows you the limited choices Crowhurst had after months and months out on the water. His ship leaks. Equipment breaks. Psyche stretched to the breaking point (and beyond). Crowhurst finds himself lost in an internal struggle with no successful way out. It is interesting, too, to see the psychological breaks that other racers have as they deal with their solitary confinement on-board their respective boats.<br /><br />The wave-like emotions that you'll feel as you watch this astounding documentary may make you a bit ill (not unlike trying to get your sea-legs). And you'll probably be frustrated at the choices being made; perhaps just as frustrated as poor Mr. Crowhurst.<br /><br />The ending is also amazing in that we get to see the actual ship that Crowhurst sailed, sitting deserted and rotting on a Caribbean beach ...not unlike other things that felt deserted and rotting toward the end of this poorly thought-out race.<br /><br />Incredible.",
         "1"
        ],
        [
         "47",
         "The worst movie I have seen in a while. Yeah its fun to fantasize, but if that is what you are looking for, I suggest you see Brewsters Millions. This was just terrible and corny and terrible at being corny. Unless you are five or like terrible movies, don't see this one.",
         "0"
        ],
        [
         "48",
         "This was the second Cinemascope spectacle that Fox produced after the Robe. Notice how some of the Roman sets are redressed to pass for Egyptian sets. The film is produced with all first class elements, beautiful photography, stirring soundtrack (Alfred Newman and Bernard Herrmann - see if you can tell which composer scored specific scenes). However, the principal acting is a bit weak. Edmund Purdom seems to have a limited range of emotions and is uninteresting to watch. The best performances come from Peter Ustinov as the one-eyed slave and Polish actress Bella Darvi as the Babylonian temptress \"Nefer\". I find this movie in general to be strong on plot which is rare for these large spectacles produced at the time. All in all, the film does an interesting and entertaining job of social commentary on what Egyptian society might have looked like.",
         "1"
        ],
        [
         "49",
         "The movie was certainly true to the real life story on which it was based. It was hard for me to find newspaper articles about the actual facts, but when I located them, I could see that truth, in this case, was stranger than fiction. Judith Light was frighteningly evil in her role as the mother in this movie, so much so that it was difficult to separate her from the role, the mark I think of an excellent performance. Rick Schroder was appropriately clueless as her son who also defended her in court, an example of how hard it can be in some circumstances for a child to accept the actions of a parent, no matter how criminal they may be. One can find fault with the movie, but not with its treatment of the reality on which it was based.",
         "1"
        ]
       ],
       "shape": {
        "columns": 2,
        "rows": 40000
       }
      },
      "text/html": [
       "<div>\n",
       "<style scoped>\n",
       "    .dataframe tbody tr th:only-of-type {\n",
       "        vertical-align: middle;\n",
       "    }\n",
       "\n",
       "    .dataframe tbody tr th {\n",
       "        vertical-align: top;\n",
       "    }\n",
       "\n",
       "    .dataframe thead th {\n",
       "        text-align: right;\n",
       "    }\n",
       "</style>\n",
       "<table border=\"1\" class=\"dataframe\">\n",
       "  <thead>\n",
       "    <tr style=\"text-align: right;\">\n",
       "      <th></th>\n",
       "      <th>text</th>\n",
       "      <th>label</th>\n",
       "    </tr>\n",
       "  </thead>\n",
       "  <tbody>\n",
       "    <tr>\n",
       "      <th>0</th>\n",
       "      <td>I grew up (b. 1965) watching and loving the Th...</td>\n",
       "      <td>0</td>\n",
       "    </tr>\n",
       "    <tr>\n",
       "      <th>1</th>\n",
       "      <td>When I put this movie in my DVD player, and sa...</td>\n",
       "      <td>0</td>\n",
       "    </tr>\n",
       "    <tr>\n",
       "      <th>2</th>\n",
       "      <td>Why do people who do not know what a particula...</td>\n",
       "      <td>0</td>\n",
       "    </tr>\n",
       "    <tr>\n",
       "      <th>3</th>\n",
       "      <td>Even though I have great interest in Biblical ...</td>\n",
       "      <td>0</td>\n",
       "    </tr>\n",
       "    <tr>\n",
       "      <th>4</th>\n",
       "      <td>Im a die hard Dads Army fan and nothing will e...</td>\n",
       "      <td>1</td>\n",
       "    </tr>\n",
       "    <tr>\n",
       "      <th>...</th>\n",
       "      <td>...</td>\n",
       "      <td>...</td>\n",
       "    </tr>\n",
       "    <tr>\n",
       "      <th>39995</th>\n",
       "      <td>\"Western Union\" is something of a forgotten cl...</td>\n",
       "      <td>1</td>\n",
       "    </tr>\n",
       "    <tr>\n",
       "      <th>39996</th>\n",
       "      <td>This movie is an incredible piece of work. It ...</td>\n",
       "      <td>1</td>\n",
       "    </tr>\n",
       "    <tr>\n",
       "      <th>39997</th>\n",
       "      <td>My wife and I watched this movie because we pl...</td>\n",
       "      <td>0</td>\n",
       "    </tr>\n",
       "    <tr>\n",
       "      <th>39998</th>\n",
       "      <td>When I first watched Flatliners, I was amazed....</td>\n",
       "      <td>1</td>\n",
       "    </tr>\n",
       "    <tr>\n",
       "      <th>39999</th>\n",
       "      <td>Why would this film be so good, but only gross...</td>\n",
       "      <td>1</td>\n",
       "    </tr>\n",
       "  </tbody>\n",
       "</table>\n",
       "<p>40000 rows × 2 columns</p>\n",
       "</div>"
      ],
      "text/plain": [
       "                                                    text  label\n",
       "0      I grew up (b. 1965) watching and loving the Th...      0\n",
       "1      When I put this movie in my DVD player, and sa...      0\n",
       "2      Why do people who do not know what a particula...      0\n",
       "3      Even though I have great interest in Biblical ...      0\n",
       "4      Im a die hard Dads Army fan and nothing will e...      1\n",
       "...                                                  ...    ...\n",
       "39995  \"Western Union\" is something of a forgotten cl...      1\n",
       "39996  This movie is an incredible piece of work. It ...      1\n",
       "39997  My wife and I watched this movie because we pl...      0\n",
       "39998  When I first watched Flatliners, I was amazed....      1\n",
       "39999  Why would this film be so good, but only gross...      1\n",
       "\n",
       "[40000 rows x 2 columns]"
      ]
     },
     "execution_count": 3,
     "metadata": {},
     "output_type": "execute_result"
    }
   ],
   "source": [
    "df"
   ]
  },
  {
   "cell_type": "code",
   "execution_count": 4,
   "id": "5f6e4f8f",
   "metadata": {},
   "outputs": [
    {
     "data": {
      "text/plain": [
       "np.int64(277)"
      ]
     },
     "execution_count": 4,
     "metadata": {},
     "output_type": "execute_result"
    }
   ],
   "source": [
    "df.duplicated().sum()"
   ]
  },
  {
   "cell_type": "code",
   "execution_count": 5,
   "id": "916cbc52",
   "metadata": {},
   "outputs": [],
   "source": [
    "df.drop_duplicates(inplace= True)"
   ]
  },
  {
   "cell_type": "code",
   "execution_count": 6,
   "id": "c733eb7b",
   "metadata": {},
   "outputs": [
    {
     "data": {
      "text/plain": [
       "text     0\n",
       "label    0\n",
       "dtype: int64"
      ]
     },
     "execution_count": 6,
     "metadata": {},
     "output_type": "execute_result"
    }
   ],
   "source": [
    "df.isna().sum()"
   ]
  },
  {
   "cell_type": "code",
   "execution_count": 7,
   "id": "d3da558a",
   "metadata": {},
   "outputs": [],
   "source": [
    "def clean_str(text):\n",
    "    #text = contractions.fix(text)\n",
    "    text=re.sub(r\"(\\w+)-\\n(\\w+)\",r\"\\1\\2\",text)\n",
    "    text=re.sub(r\"\\s*\\n\\s*\",\"\",text)\n",
    "    text=re.sub(r\"http\\S+|www\\S+|https\\S+\",'',text)\n",
    "    text=text.lower()\n",
    "    text=re.sub(r\"[^\\w\\s]\",'',text)\n",
    "    tokeniser = RegexpTokenizer(r'\\b[a-zA-Z]{2,}\\b')\n",
    "    return text"
   ]
  },
  {
   "cell_type": "code",
   "execution_count": 8,
   "id": "abc4c29b",
   "metadata": {},
   "outputs": [],
   "source": [
    "df['text_clean']= df.text.apply(lambda text: clean_str(text))"
   ]
  },
  {
   "cell_type": "code",
   "execution_count": 9,
   "id": "e70a1e6d",
   "metadata": {},
   "outputs": [
    {
     "data": {
      "application/vnd.microsoft.datawrangler.viewer.v0+json": {
       "columns": [
        {
         "name": "index",
         "rawType": "int64",
         "type": "integer"
        },
        {
         "name": "label",
         "rawType": "int64",
         "type": "integer"
        },
        {
         "name": "text_clean",
         "rawType": "object",
         "type": "string"
        }
       ],
       "conversionMethod": "pd.DataFrame",
       "ref": "c56a29a9-410d-4ea9-8f0d-80c3609843bc",
       "rows": [
        [
         "0",
         "0",
         "i grew up b 1965 watching and loving the thunderbirds all my mates at school watched we played thunderbirds before school during lunch and after school we all wanted to be virgil or scott no one wanted to be alan counting down from 5 became an art form i took my children to see the movie hoping they would get a glimpse of what i loved as a child how bitterly disappointing the only high point was the snappy theme tune not that it could compare with the original score of the thunderbirds thankfully early saturday mornings one television channel still plays reruns of the series gerry anderson and his wife created jonatha frakes should hand in his directors chair his version was completely hopeless a waste of film utter rubbish a cgi remake may be acceptable but replacing marionettes with homo sapiens subsp sapiens was a huge error of judgment"
        ],
        [
         "1",
         "0",
         "when i put this movie in my dvd player and sat down with a coke and some chips i had some expectations i was hoping that this movie would contain some of the strongpoints of the first movie awsome animation good flowing story excellent voice cast funny comedy and a kickass soundtrack but to my disappointment not any of this is to be found in atlantis milos return had i read some reviews first i might not have been so let down the following paragraph will be directed to those who have seen the first movie and who enjoyed it primarily for the points mentionedbr br when the first scene appears your in for a shock if you just picked atlantis milos return from the displaycase at your local videoshop or whatever and had the expectations i had the music feels as a bad imitation of the first movie and the voice cast has been replaced by a not so fitting one with the exception of a few characters like the voice of sweet the actual drawings isnt that bad but the animation in particular is a sad sight the storyline is also pretty weak as its more like three episodes of schoobydoo than the single adventurous story we got the last time but dont misunderstand its not very good schoobydoo episodes i didnt laugh a single time although i might have sniggered once or twicebr br to the audience who havent seen the first movie or dont especially care for a similar sequel here is a fast review of this movie as a standalone product if you liked schoobydoo you might like this movie if you didnt you could still enjoy this movie if you have nothing else to do and i suspect it might be a good kids movie but i wouldnt know it might have been better if milos return had been a threeepisode series on a cartoon channel or on breakfast tv"
        ],
        [
         "2",
         "0",
         "why do people who do not know what a particular time in the past was like feel the need to try to define that time for others replace woodstock with the civil war and the apollo moonlanding with the titanic sinking and youve got as realistic a flick as this formulaic soap opera populated entirely by lowlife trash is this what kids who were too young to be allowed to go to woodstock and who failed grade school composition do ill show those old meanies ill put out my own movie and prove that you dont have to know nuttin about your topic to still make money yeah we already know that the one thing watching this film did for me was to give me a little insight into underclass thinking the next time i see a slut in a bar who looks like diane lane im running the other way its child abuse to let parents that worthless raise kids its audience abuse to simply stick woodstock and the moonlanding into a flick as if that ipso facto means the film portrays 1969"
        ],
        [
         "3",
         "0",
         "even though i have great interest in biblical movies i was bored to death every minute of the movie everything is bad the movie is too long the acting is most of the time a joke and the script is horrible i did not get the point in mixing the story about abraham and noah together so if you value your time and sanity stay away from this horror"
        ],
        [
         "4",
         "1",
         "im a die hard dads army fan and nothing will ever change that i got all the tapes dvds and audiobooks and every time i watchlisten to them its brand new br br the film the film is a re run of certain episodes man and the hour enemy within the gates battle school and numerous others with a different edge introduction of a new general instead of captain square was a brilliant move  especially when he wouldnt cash the cheque something that is rarely done nowbr br it follows through the early years of getting equipment and uniforms starting up and training all in all its a great film for a boring sunday afternoon br br two draw backs one is the germans bogus dodgy accents come one germans cant pronounced the letter w like us and two the casting of liz frazer instead of the familiar janet davis i like liz in other films like the carry ons but she doesnt carry it correctly in this and janet davis would have been the better choice"
        ],
        [
         "5",
         "0",
         "a terrible movie as everyone has said what made me laugh was the cameo appearance by scott mcnealy giving an award to one of the murdered programmers in front of a wall of sun logos mcnealy is the ceo of sun microsystem a company that practically defines itself by its hatred of microsoft they have been instrumental in filing antitrust complaints against microsoft so were they silly enough to think this bad movie would add fuel to that firebr br theres no public record i see of suns involvement but clearly the makers of this movie know scott mcnealy an interesting mystery"
        ],
        [
         "6",
         "1",
         "finally watched this shocking movie last night and what a disturbing mindfker it is and unbelievably bloody and some unforgettable scenes and a total assault on the senses looks like a movie from the minds of lynch specifically eraserhead buttgereit and even a little of begotten what this guy does to his pregnant sister is beyond belief but then again did it really happen or is it his brains left and right sides doing battle thats the main theme of this piece of art to draw a fine line between fantasy and reality and what would happen if the right side of the brain that dreams and fantasizes overtakes the reasoning and logical left side and the music in this movie is unbelievable a kind of electronic score that is absolutely perfect even though this movie is totally shocking and pretty disgusting in some of the most extreme scenes including hard core sex you will ever see in any movie i viewed it as a work of art and loved it and that music still amazes me i have to try and find the soundtrack if is available watching subconscious cruelty is a real event and not something the viewer will easily forget and a note to gorehounds this is a musthavebr br warning be careful buying this movie because some prints have fogging on the graphic sex scenes and extreme gore especially the copies from the japanese release"
        ],
        [
         "7",
         "0",
         "i caught this film on azn on cable it sounded like it would be a good film a japanese green card i cant say ive ever disliked an asian film quite the contrary some of the most incredible horror films of all time are japanese and korean and i am a huge fan of john woos hong kong films i an not adverse to a light hearted films like tampopo or chung king express two of my favourites so i thought i would like this well i would rather slit my wrists and drink my own blood than watch this laborious badly acted film ever againbr br i think the director steven okazaki must have spiked the water with quaalude because no one in this film had a personality and when any of the characters did try to act as opposed to mumbling a line or two their performance came across as forced and incredibly fake i honestly did not think that anyone had ever acted beforethe only person who sounded genuine was brenda aoki i find it amazing that this is promoted as a comedy because i didnt laugh once even more surprising is that cbs morning news called this a refreshing breath of comedy it was neither refreshing nor a breath of comedy and the ending was very predictable the previous reviewer must be an idiot to think such thingsbr br avoid this film unless you want to see a boring predictable plot line and wooden acting i actually think that spike of bensonhurst is a better acted film than thisand i walked out half way through that film"
        ],
        [
         "8",
         "1",
         "it may be the remake of 1987 autumns tale after eleven years as the director mabel cheung claimed mabel employs rock music as the medium in this movie to express her personal attitude to life in which love desire and the consequential frustration play significantly crucial roles rock music may not be the best vehicle to convey the profound sentiment and yet it is not too inappropriate to utilize it as the life of underground rock musicians is bitterly more intense than an ordinary one the director focuses on the depiction of subtle affection and ultimate vanity of life rather than mere rock music the love between father and son lovers and friends is delicately and touchingly delivered through the fine performance mabel does not attempt to beautify rock musicians as artists at all instead she tries to reproduce a true life on screen making huge efforts of years working on this project and gathering information in beijing underground pubsbr br daniel has given probably the best performance in all his movies made so far his innate dispiritedness and reticence fit the blue mood of the film perfectly"
        ],
        [
         "9",
         "1",
         "my super ex girlfriend turned out to be a pleasant surprise for me i was really expecting a horrible movie that would probably be stupid and predictable and you know what it was but this movie did have so many wonderful laughs and a fun plot that anyone could get a kick out of i know that this was a very cheesy movie but uma and anna were just so cool and steve was such a great addition along with a great cast that looked like they had so much fun and thats what made the movie really workbr br jenny johnsonscary thats my best friends actual name is not your typical average librarian looking woman when matt your average male asks her out hes in for more than he expected hes asked ggirl out on a date the super hero of the world but when he finds out what a jealous and crazy girl she really is and decides that it may be a good idea that they spend some time apart but jenny wont have it since hes fallen for another girl hannah and she will make his life a living hell i mean lets face it he couldnt have chosen a better girl to break up withbr br the effect were corny but you seriously move past them quickly the story and cast made the story really work and i loved uma in this movie it was such a step up from prime my super ex girlfriend is a fun movie that you shouldnt really take seriously its just a cute romantic comedy that i think if i could get a laugh out of it anyone couldbr br 710"
        ],
        [
         "10",
         "1",
         "i cant believe people are looking for a plot in this film this is laural and hardy lighten up already these two were a riot their comic genius is as funny today as it was 70 years ago not a filthy word out of either mouth and they were able to keep audiences in stitches their comedy wasnt sophisticated by any stretch if a whoopee cushion cant make you grin theres no reason to watch any of the stuff these guys did it was a simpler time and people laughed at stuff that was funny without a plot i guess it takes a simple mind to enjoy this stuff so i qualify two man comedy teams dont compute were just too sophisticated arent we fortunate"
        ],
        [
         "11",
         "0",
         "if you havent seen the gong show tv series then you wont like this movie much at all not that knowing the series makes this a great movie br br i give it a 5 out of 10 because a few things make it kind of amusing that help make up for its obvious problemsbr br 1 its a funny snapshot of the era it was made in the late 1970s and early 1980s 2 you get a lot of funny cameos of people youve seen on the show 3 its interesting to see chuck the host when he isnt doing his on air tv personality 4 you get to see a lot of bizarre people doing all sorts of weirdness just like you see on the tv showbr br i wont list all the bad things because theres a lot of them but heres a few of the most prominentbr br 1 the gong show movie has a lot of the actual tv show clips which gets tired at movie length 2 the movies story line outside of the clip segments is very weak and basically is made up of just one plot point 3 chuck is actually halfway decent as an actor but most of the rest of the actors are doing typical way over the top 1970s flatnessbr br its a good movie to watch when you dont have an hour and a half you want to watch all at once watch 20 minutes at a time and its not so bad but even then its not so good either "
        ],
        [
         "12",
         "1",
         "i have always been a huge fan of homicide life on the street so when i heard there was a reunion movie coming up i couldnt waitbr br let me just say i was not disappointed at all it was one of the most powerful 2 hours of television ive ever seen it was great to see everyone back again but the biggest pleasure of all was to have andre braugher back because the relationship between pembleton and bayliss was always the strongest part of an alltogether great show"
        ],
        [
         "13",
         "0",
         "greg davis and bryan daly take some crazed statements by a terrorists add some commentary by a bunch of uberright reactionaries ascribe the most extreme positions of the most fundamentalist moslems on the planet to everyone who calls themselves a moslem and presents this as the theology of islam maybe their next film will involve interviewing fred phelps and the congregation of the westboro baptist church adding commentary by some militant atheist scholars and call their film what the world needs to know about christianity ultimately this film suffers from both poor production values and lack of attention to the most basic standards of journalism dont waste your time and money just turn on your am radio and listen to rush limbaugh for a couple of days for free and youll get the same message with the same level of intellectual analysis"
        ],
        [
         "14",
         "0",
         "a halfhearted attempt to bring elvis presley into the modern day but despite a sexy little shower scene and a pseudoplayboy magazine subplot presley is surrounded by the same old coy winking clichés a woman picks ep up on the beach and then proceeds to take over his lifeand he doesnt seem to care dick sargent is grueling in another sidebar but don porter and rudy vallee  try hard as elvis two bosses hes moonlighting you see some of the songs are quite good especially almost in love but if you want to see a looser hipper updated elvis sexcomedylook elsewhere when elvis and his fatal attraction get into bed together theres actually a wooden board in between them get real  from "
        ],
        [
         "15",
         "1",
         "if you want a fun romp with loads of subtle humor then you will enjoy this flickbr br i dont understand why anyone wouldnt enjoy this one take it for what it is a vehicle for dennis hopper to mess with your head and make you laugh it aint shakespeare but it is well done ericka eleniak is absolutely beautiful and holds her own in this one  better than any episode of baywatch  and shows a knack for subtle humor too bad she hasnt had many opportunities to expand on thatbr br tom berenger fits his role of real navy perfectly and william mcnamara does a solid job as a hustlerbr br throw in a walkon by hopper in the middle of the chase for the cherry on this sundae and youve got a movie that kept my attention and kept me laughing i bought this one as soon as it was availablebr br braincandy"
        ],
        [
         "16",
         "1",
         "i really wanted to be able to give this film a 10 ive long thought it was my favorite of the four modern liveaction batman films to date and maybe it still will bei have yet to watch the schumacher films again im also starting to become concerned about whether im somehow subconsciously being contrarian you see i always liked the schumacher films as far as i can remember they were either 9s or 10s to me but the conventional wisdom is that the two tim burton directed films are far superior i had serious problems with the first burton batman this time aroundi ended up giving it a 7and apologize as i might i just couldnt help feel that batman returns just has too many small direction plot and script problems scattered throughout to justify a 10br br but burton _almost_ trumps the problems with sheer force of style and even though there are a lot of small flaws batman returns is still a great film especially if youre a burton fan as batman returns has just as much in common with the nightmare before christmas 1993 and edward scissorhands 1990 as it does with anything else in the batman universebr br the film begins strongly with the cobblepots having a baby we see their dismaypeople walk out of the birthing room with horror on their faces ready to vomit later they have the baby in a small cage finally they take it out for an evening stroll and dump it in the gotham city river the baby ends up becoming batman villain the penguin danny devitobr br meanwhile max shreck christopher walken is the films evil capitalist comparable to grissom jack palance in batman he is planning on duping gotham city in various ways and we see him emotionally abusing his secretary the timid selina kyle michelle pfeiffer when kyle discovers one of the nefarious plots grissom tries to get rid of her but she is rescued by cats becoming catwomanbr br while all of this is going on the penguin who has long been only rumored to exist and who is thought to be dangerous begins a scheme to be presented to the public as a good guy despite having less than benevolent ulterior motivesbr br before rewatching burtons batman films this time i didnt remember just how little the films are about batman michael keaton its almost as if burton didnt feel the character was interesting enough to focus on the focus here is much more on the villains especially the penguin batman doesnt appear very often especially in the beginning of the film and surprisingly often were watching him watching the penguinbr br although some viewers necessarily count the above as a flaw i cant say that i do even if id like to know more about batman and follow his story more the villains stories are interesting too and as an origin story for two major batman villains batman returns is already more than complex in terms of plotbr br however there are some character problems that i do count as a flaw the penguin has a cadre of circus performers who do his bidding but even though theyre frequently on screen we never get to learn anything about them burton has a core of characters as intriguing as those in tod brownings freaks 1932 available with actors as interesting as vincent schiavelli but he just doesnt have the space to use thembr br for that matter he hardly has space to explore catwoman the film plays as if catwoman may have been as developed and featured in as many scenes as the penguin but that cut of the film would have been 4 hours long so the bulk of the catwoman scenes had to be excised of course all of this barely leaves any room for batman burton has batman turn very dark in the publics eye in this film and unusually he never bothers to resolve this as far as we know at the end gothamites still think that batman is a murdering lunatic thats an interesting development but unfortunately it ended up being dropped between this film and the nextbr br as for the script although there are minor problems including some nonsequiturs and bizarre decisions in terms of logic made by characters its clear that burton and writers sam hamm and daniel waters are not exactly trying to tell a traditional story a lot of the dialogue is punoriented but often this is fairly subtle andor complex of course sometimes it is very blatant or transparent too it helps to look at batman returns as a more poetic film as i believe was the intention this also carries over into more general plot and directorial decisionsplenty of odd character actions including from minor characters are done in service of a general mood or style and that style works very wellbr br dark is the easiest way to sum up batman returns in a word and whether thats a positive or negative depends on your disposition anyone who knows me knows that i love dark so for me burtons style largely transcends the flaws in the plot and the script in many ways batman returns is like an insane campy horror film with beautifully eerie production design like batman burton is still making many references to other films but instead of vertigo 1958 and star wars 1977 well theres still a slight star wars reference he invokes films like nosferatu 1922 including that max schreck was the name of the actor who played the draculalike character there motel hell 1980 the aforementioned freaks willy wonka and the chocolate factory 1971 which has a surreal dark edge to it and zombie filmsmade most explicit in the penguins final scenebr br in terms of visuals and general atmosphereand that includes the general feel of the story the characters and so onthis couldnt be a stronger 10"
        ],
        [
         "17",
         "0",
         "the main problem with power is that it features way too may pointless characters and subplots that add absolutely nothing to the movie whatsoever it gets boring after awhile sitting around waiting through scenes that dont connect to find something that drives the movie forward you could probably pass it all off as character development but all of them are either recycled from earlier scenes in the movie or are just simply to flat and uninteresting lumet never gives enough time to let any of the supporting cast blossom he should have cut a few of the characters hackman the wife and concentrated harder on others billings it could have been a great hard political thriller instead of a jumbled mess that loses any message in a sea of bad writing and acting a fact that amazed me considering the cast even gene hackman performance wasnt up to par denzel washington is the only real actor of note here gere and the others have all done much better performances elsewhere br br sidney lumet needs to go back to the fierce one man shows he did in the seventies ie serpico and stop trying to recapture his success with 12 angry men and fail safe it hasnt worked yet sidney and it most likely never will leave the ensemble dramas to altman br br 310br br      "
        ],
        [
         "18",
         "0",
         "the folks at disney have a lot to explain first and foremost why anyone thought this lessersitcom material would ever make even a halfdecent motion picture in the kooky 60s teleplay the unique idea of martians among us had not yet been given the sophisticated xfiles treatment quaint visions of little green men have long since been dispelled by the likes of et close encounters and aliens 13br br any charm the property had was mainly due to the endearing relationship created between the late bill bixby as tim and ray walston as the unworldly visitor the conceit that martians have antenna seemed dopey back then now it seems positively idiotic yet christopher lloyds uncle martin sports the metallic appendages in an early shot the antenna on a sign for the tv station tim works at is supposed to make us think martian whens the last time you saw a tv with rabbit ears ehbr br disney doesnt trust quaint or relationships and crams this flick with youthwooing special effects that include a talking space suit named zoot yes you read that correctly  uncle martins silver space suit speaks he is supposed to be a real hilarious cutup figure again i got stretch socks that are funnier than zoot whenever the action lags and it lags constantly computer graphics are put into play to liven things up tim is here played by the amiable jeff daniels who cant or wont do anything to save this floudering mess zesty christine ebersole brings some comic zeal to her neighbor lady role even ray walston himself is dragged painfully into the procedings  all to no avail this alien visitor is dead on arrivalbr br constant talk of sitcoms turning to screen makes me only hope that the i dream of jeannie movie wont feature a talking harem outfit i pray that samanthas cat in the movie bewitched doesnt have lines i live in fear that i love lucy  the movie will proudly feature a cg conga drum named bongobr br paging michael eisner mickey mouse  take me to your leader"
        ],
        [
         "19",
         "0",
         "a friend told me of john fante last summer after we got into a conversation about charles bukowski i did not know that fante was a favorite writer of bukowskis  an author with similar edge and humor except from one generation earlier ask the dust was the first fante book i read and it remains one of my favorite novels the novel was a brilliant piece of writing about a sad frightened young writer posing to himself and the outside world as an overconfident masterfully talented author who had no idea how to write about the real world experiences he had none of in the novel the protagonist is a virgin with no idea how to win the graces of the women he desperately wants to write about in magazines the story of his bizarre relationship with camilla how he settles for his first sexual experience with a wounded admirer and how he eventually is left with nothing but the story of his failed attempts at love is biting and real with no touching hollywood ending the film adaptation stays true to the book for a while but meanders into the cinematic trap of love persevering through racism sickness and death the heart of this story lies in the fact that bandini is a jerk and camilla is fing crazy and their love never was and never would be the real thing no matter how much either of them wanted to find it in each other this movie tore out the real meaning of the story out and replaced it with schlock i cant believe the man who wrote chinatown could read this book and make a movie about it that got it so wrong"
        ],
        [
         "20",
         "1",
         "ever since i heard of the ralph bakshi version of the lord of the rings i wondered what the hell is rotoscope animation well i finally found out i saw this movie about three years ago not having any idea who ralph bakshi is and i liked it a lot very good story line it even has a little character development which is great for a cartoon see it if you get bored with contemporary animation dont get me wrong im not saying its just a nice cartoon its a pretty good movie too"
        ],
        [
         "21",
         "0",
         "i sat through this film and i have to say it only just managed to keep my attention the film would have been a bit more bearable if i did not have to watch the awful cgi for future reference to the industry if your going to use cgi watch this so you know what to avoidbr br apparently this is supposed to be a graphic novel for the screen but all i saw was a bad movie which bears no resemblance to a graphic novel whatsoeverbr br all in all the story was not as bad as the cgi i was quite impressed with the acting and thought the casting was good and little more character info would have been nice as it did get a little confusing for me on occasion but thats not surprising as like i said it only just kept my attention but in all honestly i wish i had given this one a miss"
        ],
        [
         "22",
         "1",
         "i dont care if some people voted this movie to be bad if you want the truth this is a very good movie it has every thing a movie should have you really should get this one"
        ],
        [
         "23",
         "0",
         "i never really understood the controversy and hype this movie caused especially in french and the neighboring countries in belgium where i am located for example baisemoi was announced as the most shocking and the most thoughtprovoking social drama you could ever experience yeah right it might be a little shocking maybe how often do you see someone getting shot up the arse but the weak and pointless plot surely didnt cause me to think much baisemoi is another one of those blame everything that goes wrong on societyfilms and theyre generally not very convincing about 99 of the people functions perfectly well in this society so why would you blame this exact same society for the vile and hopeless acts of two deranged nymphgirls the two main characters and their miserable lives are introduced separately and in flashes nadine just killed her roommate manu shot her brother and the two meet in an abandoned trainstation late at night they decide to travel around france together leaving a trail of sex and blood behind wherever they made a stop although were constantly exposed to pornography and violence this film is very boring to sit through like the girls are indicating themselves all the time the dialogues are lame and the people they run into and kill are very uninteresting if people want to make porno movies thats fine by me but please dont pretend that its arthouse filmmaking if you leave out the swearing and the hip camerawork all there is to see is not so arousing pornography cool soundtrack though"
        ],
        [
         "24",
         "1",
         "sweet entertaining tale of a young 17 12 year old boy controlled by by an overbearing religious mother and withdrawn father and how he finds himself through his work with a retired eccentric and tragic actress very well acted especially by julie walters rupert grint plays the role of the teenage boy well showing his talent will last longer than the harry potter series of films laura linney plays his ruthlessly strict mother without a hint of redemption so theres no room to like her at all but the film is a very entertaining film made well by the british in the style of the likes of keeping mum and calendar girls"
        ],
        [
         "25",
         "0",
         "first i should mention that i really enjoyed ishii katsuhitos previous film samehada otoko to momojiri onna shark skin man and peach hip girl although it owed a debt to tarentinos pulp fiction ishiis cast was up to the task of carrying the story and the entire film crackled with energy the scenes between asano tadanobu and gashuin tatsuya were particularly engaging there was action intrigue bizarre characterizations enough sex to keep things interesting and an utterly unpredictable story linebr br so it was with a certain amount of anticipation and optimism that i began to watch party 7 and my enthusiasm was certainly piqued with the opening credits which left my wife and i actually stunned by how dynamic and exciting they were the mix of anime and liveaction work was brilliant then the actual movie started actually it didnt so much start as sort of shuffle in the side door and stand there fumbling through its pockets looking uncomfortablebr br the entire film takes place in three rooms one is a futuristic voyeurs paradise borrowed a bit from shark skin man another is a travel agents office and the third and far the most used is a seedy hotel room in that room a cast of seven characters meets anddoes approximately nothing really im no stranger to talking films one of my alltime favorites is my dinner with andre the talkiest of all talking films my dinner with andre is far more exciting and it just has two middleaged men discussing their lives over dinner the key is that andre gregory and wallace shawn tell interesting stories the cast of party 7 literally just whine at each other for the entire film no you dont yes i do no you really dont yes i really do no you really really dont yes i really you get the idea i hope i wish the directer hadbr br party 7 is an unbelievably unengaging film there is only the flimsiest of plots money stolen from the yakuza just like in shark skin man accompanied by almost no action there is no interesting dialog the characters are largely uninteresting it was as if ishii took the throwaway conversational moments from tarentinos films and built an entire film around them but tarentinos conversations always have their own internal logic and wit they call it a royale with cheese not so with the dialog here which is duller than you can imagine if it werent for the brief hilarious cameo from gashuin who is always marvelous and a lowkey performance from the awesome asano tadanobu i wouldve given party 7 a single star it really was chore to make it all the way through"
        ],
        [
         "26",
         "1",
         "the argentinian music poet atahualpa yupanqui once said that some folk music repeats similarly at any country of the world they look the same but everybody consider them as their own folk musicbr br this film as i feel it is about the same music that repeats all over the world at some time of each countrys history first a few listen it playing and try to make the others hear it then some believe that they hear it but they dont then nobody says anything and some people appear to listen to it and others recognize that they have heard it but didnt think that others might be hearing it finally everybody listen to the same music and suddenly it doesnt sound any morebr br love and poetry as a real nationalism and the legacy of a father to his childrenbr br why would he call the film the dead when nobody dies the spanish translation of the title refused to follow the same rule and we call it dubliners following james joyces titlebr br a nice 1900 irish filmed postcard"
        ],
        [
         "27",
         "1",
         "i saw this film by chance on the small box it has a fantastic and chilling scene about poisonous gas a lot about fanatical patriotism a bit of eroticism i cant believe its still waiting for 5 votes"
        ],
        [
         "28",
         "0",
         "the small california town of diablo is plagued with mysterious deaths after sheriff robert lopez unearths an ancient boxlegend has it that the box holds the sixteenthcentury mexican demon named azarfbi agent gil vega is sent to investigate the murders and joins forces with the sheriffs daughtersdominique and mary to fight with evil and bloodthirsty demonthe legend of diablo is an absolute garbagethe film lacks scares and gorethe acting is amateurish and the direction is badthe animation is the only one aspect of the film i enjoyedim a big fan of indie horror flicksfor example i loved torchedlive feedbone sickness or neighborhood watchunfortunately the legend of diablo is a huge misfiredefinitely one to avoid"
        ],
        [
         "29",
         "1",
         "its good to see that vintage film buff have correctly categorized their excellent dvd release as a musical for thats what this film is pure and simple like its unofficial remake murder at the windmill 1949 the murder plot is just an excuse for an elaborate girlie show with kitty carlisle and gertrude michael leading a cast of superdecorative girls including ann sheridan lucy ball beryl wallace gwenllian gill gladys young barbara fritchie wanda perry and dorothy white carl brisson is also on hand to lend his strong voice to cocktails for two undoubtedly the movies most popular song it is heard no less than four times however its gertrude michael who steals the show not only with her rendition of sweet marijauna but her strong performance as the heros rejected girlfriend as for the rest of the cast we could have done without jack oakie and victor mclaglen altogether the only good thing about oakies role is his weak running gag with cult icon toby wing in fact to give you an idea as to how far the rest of the comedy is overindulged and overstrained superdumb inspector mclaglen simply cannot put his hands on the killer even though would you believe in this instance it happens to be the person you most suspect director mitch leisen actually goes to great pains to point the killer out to even the dumbest member of the cinema audience by giving the player concerned closeup after closeup"
        ],
        [
         "30",
         "1",
         "i saw this film via one of the actors agents and it surely conforms with a great deal that comes out of sth australia in terms of the overall tone which is rightly dark and moodybr br i thought the little boy in the film was excellent mostly kid actors are hammed up and embarrassing but not in this case he was really very good in terms of the surrealism thingy mentioned by jingo well i just think this film is plain weird its a real weirdo film with weirdo locations storyline weird stuff going on the whole time but good weird as opposed to badbr br its hard to think of other movies like it but its not at all like cars ate paris maybe more like a repulsion but actually i think more like a hammer movie from the 60s its certainly has an interesting mind working behind itbr br jingo my question is also about the title why modern love anyone also jingo what did you mean by god forsaken when you were talking about australia hmmm just curious"
        ],
        [
         "31",
         "0",
         "during the civil war there were many cases of divided loyalties obviously many occurred in the border states where north met south by happenstance of geography from the border young father owen moore goes off to join the union army shortly confederate soldier henry b walthall separated from his regimen wanders onto the enemys property desperate for water he finds a supply where the unionists young daughter gladys egan sits when the yankee soldiers track him down little gladys innocently helps the confederate hide later when he returns to kill her father the little girls kindness is remembered a sweet small story from director dw griffith location footage and humanity are lovingly displayed br br  in the border states 61310 dw griffith  henry b walthall owen moore gladys egan"
        ],
        [
         "32",
         "0",
         "how could they take such a beautifully animated gem like don bluths all dogs go to heaven and bastardize it with a charmless cheesy uninspired sequel the haunting music and delightful characters are gone now replaced with tacky animation and an unimaginative plotbr br the pros charlie sheen is sometimes fun as charlie but he lacks the charming tough guy attitude that brought him to life by burt reynolds i did particularly enjoy the songs i will always be with you and its too heavenly herebr br the cons there seems to be no connection between this and the original in the beginning charlie is chums with carface but wait a minute isnt this the same character who was responsible for charlies murder and kidnapped the sweet little orphan he loved i guess that all changes in heaven but why isnt annemarie even mentioned if itchy makes it to heaven wouldnt flo and killer make it too what is with annabelle the whippets voice in the original it sounded feminine and charming and in the sequel it sounds like a whiny bitchy parrot the new characters arent all that great except sasha and the animation is better compared to a generic saturday morning cartoon the constant cartoony humor is flat and unfunny and the heart just doesnt work when compare to the original which had such a moving unsubtle touch that makes me cry every timebr br all dogs go to heaven is one of my alltime favorite films how don bluth allowed this sequel to be made is beyond mebr br bottom line not all sequels go to heaven"
        ],
        [
         "33",
         "1",
         "first off let me say that this is probably in my opinion one of the 10 most underrated movies since this came out in 72 i absolutely loved this movie its very urban gritty no real hollywood glam added to it you can actually feel for all of the characters in here i love the blood just splattering abound in here joe pesci was pretty good in here but to me it seems like he was definitely outdone by the lead character joe cortese now i dont know anything about him  but boy can he really act i believe this movie is probably true because living in new jersey living close to philly you here this kinda thing all the time i think that if the movie had a bigger budget  and say robert deniro as jerrys boss you would have a perfect movie but hey who am i to argue i was so engrossed by this film that it is already up there in my mind with mean streets i wish hollywood would go back to this urbanized gritty display of movie making it would serve them very well to do so this movie is a great drama with great actors in it and i highly recommend it to anyone"
        ],
        [
         "34",
         "0",
         "in a way this is the disaster fellini has been working towards all his life the line between absurd masterpiece and free association bullshit is very small and what category a film will ultimately fit in will often just depend on personal feelings that said casanova left me in cold admiration for its sets and little more that cannot be summed up more adequately by bukowski br br casanova died too just an old guy with a big cock and a long tongue and no guts at all to say that he lived well is true to say i could spit on his grave without feeling is also true the ladies usually go for the biggest fool they can find that is why the human race stands where it does today we have bred the clever and lasting casanovas all hollow inside like the easter bunnies we foster upon our poor children br br as far as i could make it out this is the position fellini takes regarding his subject granted with more empathy but disgusted nonethelessbr br casanovas environment is made from decay and incestuous behavior themes fellini dealt with more pointedly in satyricon the succession of plot is characteristic of soft porn just without the coherence and donald sutherland is ugly and slimy to the point of distractionbr br yet there might just be a point in portraying casanova as an unsightly fool and i challenge anybody to formulate this point without being obvious fellini couldnt more than ever he seems here like a dirty old man  a maestro for sure but one whose impulses satisfy himself more than anybody else i find it hard imagine an audience who enjoys this film it was a story not worth telling"
        ],
        [
         "35",
         "0",
         "three writers made a valiant attempt to adapt jane stanton hitchcocks novel for the tube yet this television movie has ultimately been injected with too much melodrama and just doesnt know when to quit struggling artist meg tilly suddenly finds herself employed by wealthy enigmatic ellen burstyn who desires a mural painted on the walls of her unused ballroom after learning about the last gathering held thereellens daughters comingout partytilly decides on her artistic theme never dreaming the daughter died mysteriously before the function even began nor that she and the deceased bore a striking resemblance to one another two superb actresses lend their services to an incredible yarn which doesnt bear close scrutiny one that fails to match either lady in emotional intensity burstyns role teeters on camp while tilly gets stuck doing the dreamyeyedwaif routine only one sequence late in the film the morning after the mural is finished is charged with honest feeling anger and betrayal the rest is piffle"
        ],
        [
         "36",
         "0",
         "well i only caught the tail end of this film on hbo just the final 10 minutes or so but i must say that it contains probably the most laughable depiction of distance running ever put on film im a serious distance runner and a dedicated fan of the sport and ive sat through many painful demonstrations in movies before however nothing could have ever prepared me for what is shown on screen in the final 10 minutes of this movie it literally defies belief the depiction of the runners is even more ironic considering that african runners completely dominate the sport and they are elegant and graceful the female protagonist shuffles along like an overweight pregnant woman and her highly trained male supporters are no better well into the race this alleged world class runner is surrounded by pudgy overweight people many of whom are walking i find it interesting that the director decided to have her lead the female competition yet near the end she is shown passing people who look like theyre staggering along on two broken legs are we to believe that this amazing stellar athlete has only overtaken a crippled person at the very end of the race maybe the director just thinks that female runners cant run faster than 12 minute miles and he has obviously never heard of athletes like paula radcliffe or tirunesh dibababr br even if you arent a running fan youll be astonished by the insanely inaccurate portrayal of running and this movie is only watchable as unintentional comedy here is a note to the director the next time you decide to make a movie about a sport it might be worth it to hire at least one person who actually has observed that sport in action"
        ],
        [
         "37",
         "0",
         "a feminist tract in which if you the viewer believe that i wild animals are seldom tamed by singing but instead attack kill and eat the line that grizzlies never attack unless provoked was a hoot  unless provoked means that it sees flesh ii homosexuality is both immoral per se  and its acceptance almost always associated throughout history with signs of a societys dissolution and decay iii few women are bisexual in this one virtually every woman is presented as having no preference for men or women iv divorce is far worse than infidelity v land is there for human beings to use develop and enjoy vi it is as incumbent upon a mother of an adult son to keep in touch as it is upon the son vii a mother raising her son alone is an unfortunate and real tragedy for the child viii the idolization of a parent for worthwhile ideals is a good and healthy thing ix adults continue to bear a responsibility for their sexual behavior no matter their age and the duty to engage in this most intimate and giving of acts only within the most intimate and openly sacrificial of relationships marriage  believe me you are not going to like this film essentially its a howard stern sort of fellow who is brought down by a jane fonda sort of woman think the electric horseman its ugly stuff because the values the ideals of the screenplay are all so harmfulbr br i share the other objections about the odd things in the writing a why would this man lose every girlfriend he has  because he refuses to reveal that his mothers death and funeral caused him to be unable to keep dates with them its a mystery why he just keeps saying it was personal when faced with angry and disappointed women huh br br b theres an enormous inconsistency ie the screenwriter wants to have it both ways by telling us that the protagonists mother loved the father with everything she had  and then later were told that there was only one great love in her life  her lesbian girlfriendbr br c the underlying legal assumptions are nonsense were never told that the executor has any right to live at the property  merely that she shall determine the timing of the sole heirs title and right to occupy the property yet somehow the film makes it appear that the executor is the rightful occupant  which is crazy try to think of any executor of any will who uses the decedents property before the wills bequests are fulfilled  it doesnt happenbr br d the assumption throughout this film is that women are equally drawn to men and women  its just absurd thus were told i that penelope ann millers character is dating other men near the end of the film  after having been with the decedent for five years  and before that in a fulfilling relationship with the protagonist ii that the protagonists housekeeper after being devoted throughout her adult life to her kind husband  is now dating another woman iii that one girlfriend upset with the protagonist would now therefore like to try a womanbr br iv that a male transsexual is eager to date the protagonist v that mary kay places character naturally looked at other women in college and they looked back she says with an idiotic triumphal flip of the headbr br this is all just ridiculousbr br i agree with others about the sound of the dvd i had to keep it at maximum volume and repeatedly rewind to understand names phrasesbr br this is a film by someone who really despises traditional heroics by any man hates the notion that a man is needed to raise a child loathes the idea that there is any necessary connection between marriage and sex the film is out to preach  and that kind of propaganda of false messages doesnt sit well"
        ],
        [
         "38",
         "0",
         "sucks thats all i got to say about this sorry excuse for a film sucks sucks sucks i mean what the hell were they thinking the idiots involved should never be allowed to make another films the acting was so bad that it even failed to entertain on a bad level the attempt at a lesbian scene was sad i felt so bad for the ladies involved this movie sucks sucks sucksbr br i heard rumors of a sequelbr br godbr br helpbr br usbr br all"
        ],
        [
         "39",
         "0",
         "superman ii  the richard donner cut should be a fans dream come true at long last footage only seen in photos and scenes that only existed on the printed page would finally come to life a director that was unable to complete his vision would have the opportunity to have his vision restored it seems like a winning situation and then you start watching this assembly of footage and you realize this esoteric dream is a very real nightmare of sloppiness and incompetence while its entirely possible that no movie could compete with the finished perfect version each of us has imagined over the years it really should have been a thrill to finally see this project and it is only a very few timesbr br you know things are shaky when the very first bit of text on screen looks like home brew computer graphics but then we start seeing new footage alternates from superman  the movie for the trial and that first bit of hesitation fades away hey this is pretty neat things are alright for these few fleeting moments until we see footage from stm intermixed with new effects for this project and it doesnt convince at all and from this point on it never ever lets up its probably not right to judge a movie because of bad visual effects but when this is supposedly the direct follow up to a movie whose tag line was youll believe a man can fly its difficult to believe anything shown on screen here the best effects in this are from the original productionsbr br another issue with this recut a lot of it just doesnt make sense the only reason any of it really works is because weve all seen the theatrical version of superman ii a movie that does make sense lesters superman ii fills in the holes of this assembly part of this could be because donner didnt get to complete shooting the other part could be because the makers of this project were intent on using as little lester material as possible what we end up with is an assembly of footage that makes superman iv look airtight and coherentbr br after viewing this one gets the sense that while lester was faithful and comfortable using donner material michael thau and his team were extremely disrespectful towards anything filmed by lester the best scenes in the donner cut are the ones lifted relatively intact from the released version of superman ii that includes the moon sequence and the diner sequence not ironically both were filmed by donner but anything else from that movie filmed by lester is reedited in such a hasty fashion that it now makes lester seem like a ham fisted know nothing while lester honored the donner material lester here is thrown under the busbr br so is there anything good in this release well marlon brando is in it and thats neat to see in fact watching any of the material shot by donner is neat since it was all filmed at the same time as superman  the movie but that only highlights the problems of this release any of the major scenes really just lois jumping and scenes with marlon brando would have been better served as completed scenes in a deleted scenes section instead they are shoe horned into a nonsensical narrative with inferior performances many alternate takes from familiar scenes are used sloppy edits and bad decisionsbr br watch the opening scene at the daily planet why are we looking at jackie coopers back as he calls for lois and clark at the end why do we have lois walking into her dark apartment only to have that followed by jackie cooper walking into a dark bathroom turning the lights on i was initially confused by this because i expected to see lois the entire assembly is filled with questionable choices like thisbr br battle scenes are a mess too with no geography between cuts its just random action of course the major action scenes were shot by lester and his material is only used as a bridge to the next set of donner outtakes or alternates they should have used more of lesters footage but probably had too much pride to admit thatbr br the sloppiness extends to the military missile as well as noted elsewhere the missile shown in the donner cut bears the designation xk 10 while we all know its the xk 101 a blind man in stm knows that the producers of this assembly who tried so hard to honor the original film dropped the ball less than five minutes in and that mistake is indicative of the quality of the entire production for all the supposed care that was put into this the final product has an air of shoddiness to it that is inescapablebr br the entire affair would probably be easier to digest if warners didnt make this a separate release here in the states as it is were expected to pay for what is essentially a bonus disc of deleted scenes with a play all option its really only worth one viewing so that we can finally see the legendary cut scenes but after that initial viewing i expect that this will be an excellent magnet for dust and little else i know after my experience of watching this i had new respect for lesters version its by no means perfect but lester realized the deficiencies that were in the script that stand out here in bold relief he managed to make a movie that has entertained for many years and will continue to do so while this new recut will most likely only be remembered as a footnote in that films history"
        ],
        [
         "40",
         "0",
         "doll master is an example of a lousy horror film fallen somewhere in the space with its two not so well established genres a horror film and an emotional drama film seems like the doll master tries very hard to be a very scary horror film but it fails the noise of the dolls while moving is like taken from the croak of kayako in juon and the crawls are like sadako esquire the killing dolls will remember you a cute version of chucky but compared to childs play this film is more superb but the story seems a nothing the brilliant camera shots and the brilliance of acting was taken away cause of the plotbr br don watch this if you are expecting great shocks"
        ],
        [
         "41",
         "0",
         "doesnt this seem somewhat familiar oh wait thats right 90 of the jokes in this movie have already been done in the tv series whats the point in repeating yourself you may ask is it for the benefit of the americans who havent seen the programme did the scriptwriters run out of inspiration or maybe everyone on set suffered a sudden attack of amnesia and forgot theyd covered this ground already either way for someone who has sat through the first three series this was just really boring i had to turn it off during the tablets that turn your water green part yes it is very funny but give us something original for goodness sake actually if the best new stuff you can come up with is leonard rossiters take on saturday night fever you can forget itbr br the guy they got to replace the late richard beckinsale is a lookalike alright but not half the actor personally i would exorcised the role as a mark of respect to him or better yet not bothered making the film at all and just let the hilarity of the tv series speak for itself but no they couldnt do that not as long as there was money to be made sad really 410"
        ],
        [
         "42",
         "1",
         "in extramarital we see bactress traci lords at her very best shes all wrapped in horror  suspense here a type of role that suits her very wellbr br this mainstream movie lends a lot of its atmosphere from paul verhoevens basic instinct 1992 by the way however there are differences between the main female characters of traci lords 99 and that of sharon stone 92 for instance in extramarital traci adds some tiny elements from her pornpast we also shouldnt forget mentioning extramaritals three main actors by putting down a convincing performance each of them greatly contributes to the overall quality of this movie br br all this makes extramarital into a very enjoyable bmovie its storyline shows a good buildup its tense being wellspread from start to finish this movie keeps you at the edge of your seat until its unexpected end"
        ],
        [
         "43",
         "0",
         "im not sure what hk movies the other reviewers have been watching but enter the eagles is nowhere near the top of the heap in hk action michael fitz wong should be glad he can get acting jobs in hk because he couldnt act his way out of a wet paper bag in english shannon lee looks good and is a fantastic fighter even better with the leg fighting than her dad but her acting skills are also subpar in fact all the english dialog 90 of the movieeven more than in geny cops is so bad that i switched to mandarin audio just to spare myself the misery of the bad dialog delivery and the redundancy of the english subs sure there are some decent gunfights but nothing we havent already seen before and good cinematography but the cheesy visual effects really spoil the actionbr br that said its worth the price of admission to watch shannon and benny the jet urquidez go at it spectacular and almost worth watching the rest of the movie forbr br finally you might notice some scenes that seem familiar to you notably a shootout at an outdoor market think matrix and fitz diving out of a helicopter wearing black fatigues think mi2 guess someone thought at least a few things in this flick were worth ripping off"
        ],
        [
         "44",
         "1",
         "three of the things you can say about spalding gray are he certainly marched to the beat of his own drummer he was never at a loss for words and he obviously felt that those watching and listening to him would be interested in every aspect of his life experiences and thoughts  no matter how trivial at timesbr br most of us are not quite as far off the wall as he was most of us arent as interested in sharing the most minute parts of ourselves with others  even oneonone or in small groups let alone on stagebr br but that doesnt make it any lessinteresting to watch and listen to this erudite unusual man and after seeing one of his performances on reflection we can find many of his articulate musings were perhaps more relevant to our own lives and thoughts than we may have first thoughtbr br granted he was a new yorkavantgarde type of personality and undeniably a bit strange there are those who would maintain describing someone as new york and strange was being unnecessarily redundantbr br i give him a 10 for the talent he presents in this genre which is his specialty"
        ],
        [
         "45",
         "0",
         "i like brad pitt enormously he is an actor with brains and wit not to mention face pectorals and all the rest since i saw him in thelma and louise a thought has been bothering me who does he remind me of troy did it for me he is the new brigitte bardot the differences are obvious of course male american etc but brigitte bardot comes to mind nonetheless he is so beautiful that he is at his most effective when he plays against it kalifornia 12 monkeys fight club snatch his self deprecating humor makes him human almost accessible fortunately troy will soon be forgotten only still photographs with pitt semi naked in ravishing sprint positions will decorate the walls of legions of salivating fans strange das boot is one of the great films of the second part of the 20th century what is wolfgang petersen doing directing this well i suppose it would be very hard to say no at the chance of working with the new brigitte bardot"
        ],
        [
         "46",
         "1",
         "have you ever found yourself watching a film or documentary and having to hold yourself back from screaming things like no dont do it no well its time you do and undoubtedly deep water is the one to get you startedbr br the story is based on that of donald crowhurst and his entry into the first roundtheworld yacht race to be undertaken by individuals in 1968 that word individuals is important as the men who set off on this nearly suicidal escapade head out alonebr br most of the men are wellknowns in the seafaring communities of england where they launch from but one of them is the unknown dark horse and his name was donald crowhurst struggling financially crowhurst enlists a backer who can take everything from him should he fail to at least attempt to make it through a large portion of the race he could take his home his property everythingbr br crowhurst now finds himself between a rock and well deep water either attempt the race with an unproven ship and an unproven captain or lose everything you own which was significant since crowhurst had a wife and several children youll note the term unproven captain in there too not only was he unproven hed never been out on the open sea did i mention suicidal flicking between archival footage of the pre and postrace and those of crowhursts friends family and acquaintances of today deep water is put together masterfully initially seen as a poor sap who got in over his head the film gradually shows you the limited choices crowhurst had after months and months out on the water his ship leaks equipment breaks psyche stretched to the breaking point and beyond crowhurst finds himself lost in an internal struggle with no successful way out it is interesting too to see the psychological breaks that other racers have as they deal with their solitary confinement onboard their respective boatsbr br the wavelike emotions that youll feel as you watch this astounding documentary may make you a bit ill not unlike trying to get your sealegs and youll probably be frustrated at the choices being made perhaps just as frustrated as poor mr crowhurstbr br the ending is also amazing in that we get to see the actual ship that crowhurst sailed sitting deserted and rotting on a caribbean beach not unlike other things that felt deserted and rotting toward the end of this poorly thoughtout racebr br incredible"
        ],
        [
         "47",
         "0",
         "the worst movie i have seen in a while yeah its fun to fantasize but if that is what you are looking for i suggest you see brewsters millions this was just terrible and corny and terrible at being corny unless you are five or like terrible movies dont see this one"
        ],
        [
         "48",
         "1",
         "this was the second cinemascope spectacle that fox produced after the robe notice how some of the roman sets are redressed to pass for egyptian sets the film is produced with all first class elements beautiful photography stirring soundtrack alfred newman and bernard herrmann  see if you can tell which composer scored specific scenes however the principal acting is a bit weak edmund purdom seems to have a limited range of emotions and is uninteresting to watch the best performances come from peter ustinov as the oneeyed slave and polish actress bella darvi as the babylonian temptress nefer i find this movie in general to be strong on plot which is rare for these large spectacles produced at the time all in all the film does an interesting and entertaining job of social commentary on what egyptian society might have looked like"
        ],
        [
         "49",
         "1",
         "the movie was certainly true to the real life story on which it was based it was hard for me to find newspaper articles about the actual facts but when i located them i could see that truth in this case was stranger than fiction judith light was frighteningly evil in her role as the mother in this movie so much so that it was difficult to separate her from the role the mark i think of an excellent performance rick schroder was appropriately clueless as her son who also defended her in court an example of how hard it can be in some circumstances for a child to accept the actions of a parent no matter how criminal they may be one can find fault with the movie but not with its treatment of the reality on which it was based"
        ]
       ],
       "shape": {
        "columns": 2,
        "rows": 39723
       }
      },
      "text/html": [
       "<div>\n",
       "<style scoped>\n",
       "    .dataframe tbody tr th:only-of-type {\n",
       "        vertical-align: middle;\n",
       "    }\n",
       "\n",
       "    .dataframe tbody tr th {\n",
       "        vertical-align: top;\n",
       "    }\n",
       "\n",
       "    .dataframe thead th {\n",
       "        text-align: right;\n",
       "    }\n",
       "</style>\n",
       "<table border=\"1\" class=\"dataframe\">\n",
       "  <thead>\n",
       "    <tr style=\"text-align: right;\">\n",
       "      <th></th>\n",
       "      <th>label</th>\n",
       "      <th>text_clean</th>\n",
       "    </tr>\n",
       "  </thead>\n",
       "  <tbody>\n",
       "    <tr>\n",
       "      <th>0</th>\n",
       "      <td>0</td>\n",
       "      <td>i grew up b 1965 watching and loving the thund...</td>\n",
       "    </tr>\n",
       "    <tr>\n",
       "      <th>1</th>\n",
       "      <td>0</td>\n",
       "      <td>when i put this movie in my dvd player and sat...</td>\n",
       "    </tr>\n",
       "    <tr>\n",
       "      <th>2</th>\n",
       "      <td>0</td>\n",
       "      <td>why do people who do not know what a particula...</td>\n",
       "    </tr>\n",
       "    <tr>\n",
       "      <th>3</th>\n",
       "      <td>0</td>\n",
       "      <td>even though i have great interest in biblical ...</td>\n",
       "    </tr>\n",
       "    <tr>\n",
       "      <th>4</th>\n",
       "      <td>1</td>\n",
       "      <td>im a die hard dads army fan and nothing will e...</td>\n",
       "    </tr>\n",
       "    <tr>\n",
       "      <th>...</th>\n",
       "      <td>...</td>\n",
       "      <td>...</td>\n",
       "    </tr>\n",
       "    <tr>\n",
       "      <th>39995</th>\n",
       "      <td>1</td>\n",
       "      <td>western union is something of a forgotten clas...</td>\n",
       "    </tr>\n",
       "    <tr>\n",
       "      <th>39996</th>\n",
       "      <td>1</td>\n",
       "      <td>this movie is an incredible piece of work it e...</td>\n",
       "    </tr>\n",
       "    <tr>\n",
       "      <th>39997</th>\n",
       "      <td>0</td>\n",
       "      <td>my wife and i watched this movie because we pl...</td>\n",
       "    </tr>\n",
       "    <tr>\n",
       "      <th>39998</th>\n",
       "      <td>1</td>\n",
       "      <td>when i first watched flatliners i was amazed i...</td>\n",
       "    </tr>\n",
       "    <tr>\n",
       "      <th>39999</th>\n",
       "      <td>1</td>\n",
       "      <td>why would this film be so good but only gross ...</td>\n",
       "    </tr>\n",
       "  </tbody>\n",
       "</table>\n",
       "<p>39723 rows × 2 columns</p>\n",
       "</div>"
      ],
      "text/plain": [
       "       label                                         text_clean\n",
       "0          0  i grew up b 1965 watching and loving the thund...\n",
       "1          0  when i put this movie in my dvd player and sat...\n",
       "2          0  why do people who do not know what a particula...\n",
       "3          0  even though i have great interest in biblical ...\n",
       "4          1  im a die hard dads army fan and nothing will e...\n",
       "...      ...                                                ...\n",
       "39995      1  western union is something of a forgotten clas...\n",
       "39996      1  this movie is an incredible piece of work it e...\n",
       "39997      0  my wife and i watched this movie because we pl...\n",
       "39998      1  when i first watched flatliners i was amazed i...\n",
       "39999      1  why would this film be so good but only gross ...\n",
       "\n",
       "[39723 rows x 2 columns]"
      ]
     },
     "execution_count": 9,
     "metadata": {},
     "output_type": "execute_result"
    }
   ],
   "source": [
    "df.drop('text', axis = 1)"
   ]
  },
  {
   "cell_type": "markdown",
   "id": "d311871e",
   "metadata": {},
   "source": [
    "**VECTORIZATION**"
   ]
  },
  {
   "cell_type": "code",
   "execution_count": 10,
   "id": "22665823",
   "metadata": {},
   "outputs": [],
   "source": [
    "vectoriser = TfidfVectorizer(stop_words='english') "
   ]
  },
  {
   "cell_type": "code",
   "execution_count": 11,
   "id": "bc1f4351",
   "metadata": {},
   "outputs": [],
   "source": [
    "X = vectoriser.fit_transform(df['text_clean'])\n",
    "y = df['label']"
   ]
  },
  {
   "cell_type": "code",
   "execution_count": 12,
   "id": "88fb5124",
   "metadata": {},
   "outputs": [],
   "source": [
    "X_train,X_test,y_train,y_test= train_test_split(X,y, random_state= 42, test_size= 0.2)"
   ]
  },
  {
   "cell_type": "code",
   "execution_count": 13,
   "id": "2d6421e0",
   "metadata": {},
   "outputs": [
    {
     "data": {
      "text/plain": [
       "<Compressed Sparse Row sparse matrix of dtype 'float64'\n",
       "\twith 2859671 stored elements and shape (31778, 159316)>"
      ]
     },
     "execution_count": 13,
     "metadata": {},
     "output_type": "execute_result"
    }
   ],
   "source": [
    "X_train"
   ]
  },
  {
   "cell_type": "code",
   "execution_count": null,
   "id": "ee6b74ed",
   "metadata": {},
   "outputs": [],
   "source": [
    "%%time\n",
    "model = SVC(kernel= \"linear\")\n",
    "model.fit(X_train,y_train)"
   ]
  },
  {
   "cell_type": "code",
   "execution_count": null,
   "id": "7e21c68a",
   "metadata": {},
   "outputs": [],
   "source": [
    "pred = model.predict(X_test)\n",
    "print(classification_report(y_test,pred))"
   ]
  },
  {
   "cell_type": "code",
   "execution_count": null,
   "id": "bb5127e6",
   "metadata": {},
   "outputs": [],
   "source": []
  }
 ],
 "metadata": {
  "kernelspec": {
   "display_name": ".venv",
   "language": "python",
   "name": "python3"
  },
  "language_info": {
   "codemirror_mode": {
    "name": "ipython",
    "version": 3
   },
   "file_extension": ".py",
   "mimetype": "text/x-python",
   "name": "python",
   "nbconvert_exporter": "python",
   "pygments_lexer": "ipython3",
   "version": "3.12.3"
  }
 },
 "nbformat": 4,
 "nbformat_minor": 5
}
