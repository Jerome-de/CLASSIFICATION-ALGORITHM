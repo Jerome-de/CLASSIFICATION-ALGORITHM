{
 "cells": [
  {
   "cell_type": "code",
   "execution_count": 1,
   "id": "c1846a89",
   "metadata": {},
   "outputs": [],
   "source": [
    "import pandas as pd\n",
    "import seaborn as sns\n",
    "import matplotlib.pyplot as plt\n",
    "import numpy as np"
   ]
  },
  {
   "cell_type": "code",
   "execution_count": 2,
   "id": "efb884b0",
   "metadata": {},
   "outputs": [],
   "source": [
    "df = pd.read_csv('/home/jerome/Documents/CSV FILE/healthcare-dataset-stroke-data.csv')"
   ]
  },
  {
   "cell_type": "code",
   "execution_count": 3,
   "id": "0d91ad4c",
   "metadata": {},
   "outputs": [
    {
     "data": {
      "application/vnd.microsoft.datawrangler.viewer.v0+json": {
       "columns": [
        {
         "name": "index",
         "rawType": "int64",
         "type": "integer"
        },
        {
         "name": "id",
         "rawType": "int64",
         "type": "integer"
        },
        {
         "name": "gender",
         "rawType": "object",
         "type": "string"
        },
        {
         "name": "age",
         "rawType": "float64",
         "type": "float"
        },
        {
         "name": "hypertension",
         "rawType": "int64",
         "type": "integer"
        },
        {
         "name": "heart_disease",
         "rawType": "int64",
         "type": "integer"
        },
        {
         "name": "ever_married",
         "rawType": "object",
         "type": "string"
        },
        {
         "name": "work_type",
         "rawType": "object",
         "type": "string"
        },
        {
         "name": "Residence_type",
         "rawType": "object",
         "type": "string"
        },
        {
         "name": "avg_glucose_level",
         "rawType": "float64",
         "type": "float"
        },
        {
         "name": "bmi",
         "rawType": "float64",
         "type": "float"
        },
        {
         "name": "smoking_status",
         "rawType": "object",
         "type": "string"
        },
        {
         "name": "stroke",
         "rawType": "int64",
         "type": "integer"
        }
       ],
       "ref": "eacab69e-7f2c-423f-9ee8-8422a32ea091",
       "rows": [
        [
         "0",
         "9046",
         "Male",
         "67.0",
         "0",
         "1",
         "Yes",
         "Private",
         "Urban",
         "228.69",
         "36.6",
         "formerly smoked",
         "1"
        ],
        [
         "1",
         "51676",
         "Female",
         "61.0",
         "0",
         "0",
         "Yes",
         "Self-employed",
         "Rural",
         "202.21",
         null,
         "never smoked",
         "1"
        ],
        [
         "2",
         "31112",
         "Male",
         "80.0",
         "0",
         "1",
         "Yes",
         "Private",
         "Rural",
         "105.92",
         "32.5",
         "never smoked",
         "1"
        ],
        [
         "3",
         "60182",
         "Female",
         "49.0",
         "0",
         "0",
         "Yes",
         "Private",
         "Urban",
         "171.23",
         "34.4",
         "smokes",
         "1"
        ],
        [
         "4",
         "1665",
         "Female",
         "79.0",
         "1",
         "0",
         "Yes",
         "Self-employed",
         "Rural",
         "174.12",
         "24.0",
         "never smoked",
         "1"
        ],
        [
         "5",
         "56669",
         "Male",
         "81.0",
         "0",
         "0",
         "Yes",
         "Private",
         "Urban",
         "186.21",
         "29.0",
         "formerly smoked",
         "1"
        ],
        [
         "6",
         "53882",
         "Male",
         "74.0",
         "1",
         "1",
         "Yes",
         "Private",
         "Rural",
         "70.09",
         "27.4",
         "never smoked",
         "1"
        ],
        [
         "7",
         "10434",
         "Female",
         "69.0",
         "0",
         "0",
         "No",
         "Private",
         "Urban",
         "94.39",
         "22.8",
         "never smoked",
         "1"
        ],
        [
         "8",
         "27419",
         "Female",
         "59.0",
         "0",
         "0",
         "Yes",
         "Private",
         "Rural",
         "76.15",
         null,
         "Unknown",
         "1"
        ],
        [
         "9",
         "60491",
         "Female",
         "78.0",
         "0",
         "0",
         "Yes",
         "Private",
         "Urban",
         "58.57",
         "24.2",
         "Unknown",
         "1"
        ],
        [
         "10",
         "12109",
         "Female",
         "81.0",
         "1",
         "0",
         "Yes",
         "Private",
         "Rural",
         "80.43",
         "29.7",
         "never smoked",
         "1"
        ],
        [
         "11",
         "12095",
         "Female",
         "61.0",
         "0",
         "1",
         "Yes",
         "Govt_job",
         "Rural",
         "120.46",
         "36.8",
         "smokes",
         "1"
        ],
        [
         "12",
         "12175",
         "Female",
         "54.0",
         "0",
         "0",
         "Yes",
         "Private",
         "Urban",
         "104.51",
         "27.3",
         "smokes",
         "1"
        ],
        [
         "13",
         "8213",
         "Male",
         "78.0",
         "0",
         "1",
         "Yes",
         "Private",
         "Urban",
         "219.84",
         null,
         "Unknown",
         "1"
        ],
        [
         "14",
         "5317",
         "Female",
         "79.0",
         "0",
         "1",
         "Yes",
         "Private",
         "Urban",
         "214.09",
         "28.2",
         "never smoked",
         "1"
        ],
        [
         "15",
         "58202",
         "Female",
         "50.0",
         "1",
         "0",
         "Yes",
         "Self-employed",
         "Rural",
         "167.41",
         "30.9",
         "never smoked",
         "1"
        ],
        [
         "16",
         "56112",
         "Male",
         "64.0",
         "0",
         "1",
         "Yes",
         "Private",
         "Urban",
         "191.61",
         "37.5",
         "smokes",
         "1"
        ],
        [
         "17",
         "34120",
         "Male",
         "75.0",
         "1",
         "0",
         "Yes",
         "Private",
         "Urban",
         "221.29",
         "25.8",
         "smokes",
         "1"
        ],
        [
         "18",
         "27458",
         "Female",
         "60.0",
         "0",
         "0",
         "No",
         "Private",
         "Urban",
         "89.22",
         "37.8",
         "never smoked",
         "1"
        ],
        [
         "19",
         "25226",
         "Male",
         "57.0",
         "0",
         "1",
         "No",
         "Govt_job",
         "Urban",
         "217.08",
         null,
         "Unknown",
         "1"
        ],
        [
         "20",
         "70630",
         "Female",
         "71.0",
         "0",
         "0",
         "Yes",
         "Govt_job",
         "Rural",
         "193.94",
         "22.4",
         "smokes",
         "1"
        ],
        [
         "21",
         "13861",
         "Female",
         "52.0",
         "1",
         "0",
         "Yes",
         "Self-employed",
         "Urban",
         "233.29",
         "48.9",
         "never smoked",
         "1"
        ],
        [
         "22",
         "68794",
         "Female",
         "79.0",
         "0",
         "0",
         "Yes",
         "Self-employed",
         "Urban",
         "228.7",
         "26.6",
         "never smoked",
         "1"
        ],
        [
         "23",
         "64778",
         "Male",
         "82.0",
         "0",
         "1",
         "Yes",
         "Private",
         "Rural",
         "208.3",
         "32.5",
         "Unknown",
         "1"
        ],
        [
         "24",
         "4219",
         "Male",
         "71.0",
         "0",
         "0",
         "Yes",
         "Private",
         "Urban",
         "102.87",
         "27.2",
         "formerly smoked",
         "1"
        ],
        [
         "25",
         "70822",
         "Male",
         "80.0",
         "0",
         "0",
         "Yes",
         "Self-employed",
         "Rural",
         "104.12",
         "23.5",
         "never smoked",
         "1"
        ],
        [
         "26",
         "38047",
         "Female",
         "65.0",
         "0",
         "0",
         "Yes",
         "Private",
         "Rural",
         "100.98",
         "28.2",
         "formerly smoked",
         "1"
        ],
        [
         "27",
         "61843",
         "Male",
         "58.0",
         "0",
         "0",
         "Yes",
         "Private",
         "Rural",
         "189.84",
         null,
         "Unknown",
         "1"
        ],
        [
         "28",
         "54827",
         "Male",
         "69.0",
         "0",
         "1",
         "Yes",
         "Self-employed",
         "Urban",
         "195.23",
         "28.3",
         "smokes",
         "1"
        ],
        [
         "29",
         "69160",
         "Male",
         "59.0",
         "0",
         "0",
         "Yes",
         "Private",
         "Rural",
         "211.78",
         null,
         "formerly smoked",
         "1"
        ],
        [
         "30",
         "43717",
         "Male",
         "57.0",
         "1",
         "0",
         "Yes",
         "Private",
         "Urban",
         "212.08",
         "44.2",
         "smokes",
         "1"
        ],
        [
         "31",
         "33879",
         "Male",
         "42.0",
         "0",
         "0",
         "Yes",
         "Private",
         "Rural",
         "83.41",
         "25.4",
         "Unknown",
         "1"
        ],
        [
         "32",
         "39373",
         "Female",
         "82.0",
         "1",
         "0",
         "Yes",
         "Self-employed",
         "Urban",
         "196.92",
         "22.2",
         "never smoked",
         "1"
        ],
        [
         "33",
         "54401",
         "Male",
         "80.0",
         "0",
         "1",
         "Yes",
         "Self-employed",
         "Urban",
         "252.72",
         "30.5",
         "formerly smoked",
         "1"
        ],
        [
         "34",
         "14248",
         "Male",
         "48.0",
         "0",
         "0",
         "No",
         "Govt_job",
         "Urban",
         "84.2",
         "29.7",
         "never smoked",
         "1"
        ],
        [
         "35",
         "712",
         "Female",
         "82.0",
         "1",
         "1",
         "No",
         "Private",
         "Rural",
         "84.03",
         "26.5",
         "formerly smoked",
         "1"
        ],
        [
         "36",
         "47269",
         "Male",
         "74.0",
         "0",
         "0",
         "Yes",
         "Private",
         "Rural",
         "219.72",
         "33.7",
         "formerly smoked",
         "1"
        ],
        [
         "37",
         "24977",
         "Female",
         "72.0",
         "1",
         "0",
         "Yes",
         "Private",
         "Rural",
         "74.63",
         "23.1",
         "formerly smoked",
         "1"
        ],
        [
         "38",
         "47306",
         "Male",
         "58.0",
         "0",
         "0",
         "No",
         "Private",
         "Rural",
         "92.62",
         "32.0",
         "Unknown",
         "1"
        ],
        [
         "39",
         "62602",
         "Female",
         "49.0",
         "0",
         "0",
         "Yes",
         "Private",
         "Urban",
         "60.91",
         "29.9",
         "never smoked",
         "1"
        ],
        [
         "40",
         "4651",
         "Male",
         "78.0",
         "0",
         "0",
         "Yes",
         "Private",
         "Rural",
         "78.03",
         "23.9",
         "formerly smoked",
         "1"
        ],
        [
         "41",
         "1261",
         "Male",
         "54.0",
         "0",
         "0",
         "Yes",
         "Private",
         "Urban",
         "71.22",
         "28.5",
         "never smoked",
         "1"
        ],
        [
         "42",
         "61960",
         "Male",
         "82.0",
         "0",
         "1",
         "Yes",
         "Private",
         "Urban",
         "144.9",
         "26.4",
         "smokes",
         "1"
        ],
        [
         "43",
         "1845",
         "Female",
         "63.0",
         "0",
         "0",
         "Yes",
         "Private",
         "Urban",
         "90.9",
         null,
         "formerly smoked",
         "1"
        ],
        [
         "44",
         "7937",
         "Male",
         "60.0",
         "1",
         "0",
         "Yes",
         "Govt_job",
         "Urban",
         "213.03",
         "20.2",
         "smokes",
         "1"
        ],
        [
         "45",
         "19824",
         "Male",
         "76.0",
         "1",
         "0",
         "Yes",
         "Private",
         "Rural",
         "243.58",
         "33.6",
         "never smoked",
         "1"
        ],
        [
         "46",
         "37937",
         "Female",
         "75.0",
         "0",
         "1",
         "No",
         "Self-employed",
         "Urban",
         "109.78",
         null,
         "Unknown",
         "1"
        ],
        [
         "47",
         "47472",
         "Female",
         "58.0",
         "0",
         "0",
         "Yes",
         "Private",
         "Urban",
         "107.26",
         "38.6",
         "formerly smoked",
         "1"
        ],
        [
         "48",
         "35626",
         "Male",
         "81.0",
         "0",
         "0",
         "Yes",
         "Self-employed",
         "Urban",
         "99.33",
         "33.7",
         "never smoked",
         "1"
        ],
        [
         "49",
         "36338",
         "Female",
         "39.0",
         "1",
         "0",
         "Yes",
         "Private",
         "Rural",
         "58.09",
         "39.2",
         "smokes",
         "1"
        ]
       ],
       "shape": {
        "columns": 12,
        "rows": 5110
       }
      },
      "text/html": [
       "<div>\n",
       "<style scoped>\n",
       "    .dataframe tbody tr th:only-of-type {\n",
       "        vertical-align: middle;\n",
       "    }\n",
       "\n",
       "    .dataframe tbody tr th {\n",
       "        vertical-align: top;\n",
       "    }\n",
       "\n",
       "    .dataframe thead th {\n",
       "        text-align: right;\n",
       "    }\n",
       "</style>\n",
       "<table border=\"1\" class=\"dataframe\">\n",
       "  <thead>\n",
       "    <tr style=\"text-align: right;\">\n",
       "      <th></th>\n",
       "      <th>id</th>\n",
       "      <th>gender</th>\n",
       "      <th>age</th>\n",
       "      <th>hypertension</th>\n",
       "      <th>heart_disease</th>\n",
       "      <th>ever_married</th>\n",
       "      <th>work_type</th>\n",
       "      <th>Residence_type</th>\n",
       "      <th>avg_glucose_level</th>\n",
       "      <th>bmi</th>\n",
       "      <th>smoking_status</th>\n",
       "      <th>stroke</th>\n",
       "    </tr>\n",
       "  </thead>\n",
       "  <tbody>\n",
       "    <tr>\n",
       "      <th>0</th>\n",
       "      <td>9046</td>\n",
       "      <td>Male</td>\n",
       "      <td>67.0</td>\n",
       "      <td>0</td>\n",
       "      <td>1</td>\n",
       "      <td>Yes</td>\n",
       "      <td>Private</td>\n",
       "      <td>Urban</td>\n",
       "      <td>228.69</td>\n",
       "      <td>36.6</td>\n",
       "      <td>formerly smoked</td>\n",
       "      <td>1</td>\n",
       "    </tr>\n",
       "    <tr>\n",
       "      <th>1</th>\n",
       "      <td>51676</td>\n",
       "      <td>Female</td>\n",
       "      <td>61.0</td>\n",
       "      <td>0</td>\n",
       "      <td>0</td>\n",
       "      <td>Yes</td>\n",
       "      <td>Self-employed</td>\n",
       "      <td>Rural</td>\n",
       "      <td>202.21</td>\n",
       "      <td>NaN</td>\n",
       "      <td>never smoked</td>\n",
       "      <td>1</td>\n",
       "    </tr>\n",
       "    <tr>\n",
       "      <th>2</th>\n",
       "      <td>31112</td>\n",
       "      <td>Male</td>\n",
       "      <td>80.0</td>\n",
       "      <td>0</td>\n",
       "      <td>1</td>\n",
       "      <td>Yes</td>\n",
       "      <td>Private</td>\n",
       "      <td>Rural</td>\n",
       "      <td>105.92</td>\n",
       "      <td>32.5</td>\n",
       "      <td>never smoked</td>\n",
       "      <td>1</td>\n",
       "    </tr>\n",
       "    <tr>\n",
       "      <th>3</th>\n",
       "      <td>60182</td>\n",
       "      <td>Female</td>\n",
       "      <td>49.0</td>\n",
       "      <td>0</td>\n",
       "      <td>0</td>\n",
       "      <td>Yes</td>\n",
       "      <td>Private</td>\n",
       "      <td>Urban</td>\n",
       "      <td>171.23</td>\n",
       "      <td>34.4</td>\n",
       "      <td>smokes</td>\n",
       "      <td>1</td>\n",
       "    </tr>\n",
       "    <tr>\n",
       "      <th>4</th>\n",
       "      <td>1665</td>\n",
       "      <td>Female</td>\n",
       "      <td>79.0</td>\n",
       "      <td>1</td>\n",
       "      <td>0</td>\n",
       "      <td>Yes</td>\n",
       "      <td>Self-employed</td>\n",
       "      <td>Rural</td>\n",
       "      <td>174.12</td>\n",
       "      <td>24.0</td>\n",
       "      <td>never smoked</td>\n",
       "      <td>1</td>\n",
       "    </tr>\n",
       "    <tr>\n",
       "      <th>...</th>\n",
       "      <td>...</td>\n",
       "      <td>...</td>\n",
       "      <td>...</td>\n",
       "      <td>...</td>\n",
       "      <td>...</td>\n",
       "      <td>...</td>\n",
       "      <td>...</td>\n",
       "      <td>...</td>\n",
       "      <td>...</td>\n",
       "      <td>...</td>\n",
       "      <td>...</td>\n",
       "      <td>...</td>\n",
       "    </tr>\n",
       "    <tr>\n",
       "      <th>5105</th>\n",
       "      <td>18234</td>\n",
       "      <td>Female</td>\n",
       "      <td>80.0</td>\n",
       "      <td>1</td>\n",
       "      <td>0</td>\n",
       "      <td>Yes</td>\n",
       "      <td>Private</td>\n",
       "      <td>Urban</td>\n",
       "      <td>83.75</td>\n",
       "      <td>NaN</td>\n",
       "      <td>never smoked</td>\n",
       "      <td>0</td>\n",
       "    </tr>\n",
       "    <tr>\n",
       "      <th>5106</th>\n",
       "      <td>44873</td>\n",
       "      <td>Female</td>\n",
       "      <td>81.0</td>\n",
       "      <td>0</td>\n",
       "      <td>0</td>\n",
       "      <td>Yes</td>\n",
       "      <td>Self-employed</td>\n",
       "      <td>Urban</td>\n",
       "      <td>125.20</td>\n",
       "      <td>40.0</td>\n",
       "      <td>never smoked</td>\n",
       "      <td>0</td>\n",
       "    </tr>\n",
       "    <tr>\n",
       "      <th>5107</th>\n",
       "      <td>19723</td>\n",
       "      <td>Female</td>\n",
       "      <td>35.0</td>\n",
       "      <td>0</td>\n",
       "      <td>0</td>\n",
       "      <td>Yes</td>\n",
       "      <td>Self-employed</td>\n",
       "      <td>Rural</td>\n",
       "      <td>82.99</td>\n",
       "      <td>30.6</td>\n",
       "      <td>never smoked</td>\n",
       "      <td>0</td>\n",
       "    </tr>\n",
       "    <tr>\n",
       "      <th>5108</th>\n",
       "      <td>37544</td>\n",
       "      <td>Male</td>\n",
       "      <td>51.0</td>\n",
       "      <td>0</td>\n",
       "      <td>0</td>\n",
       "      <td>Yes</td>\n",
       "      <td>Private</td>\n",
       "      <td>Rural</td>\n",
       "      <td>166.29</td>\n",
       "      <td>25.6</td>\n",
       "      <td>formerly smoked</td>\n",
       "      <td>0</td>\n",
       "    </tr>\n",
       "    <tr>\n",
       "      <th>5109</th>\n",
       "      <td>44679</td>\n",
       "      <td>Female</td>\n",
       "      <td>44.0</td>\n",
       "      <td>0</td>\n",
       "      <td>0</td>\n",
       "      <td>Yes</td>\n",
       "      <td>Govt_job</td>\n",
       "      <td>Urban</td>\n",
       "      <td>85.28</td>\n",
       "      <td>26.2</td>\n",
       "      <td>Unknown</td>\n",
       "      <td>0</td>\n",
       "    </tr>\n",
       "  </tbody>\n",
       "</table>\n",
       "<p>5110 rows × 12 columns</p>\n",
       "</div>"
      ],
      "text/plain": [
       "         id  gender   age  hypertension  heart_disease ever_married  \\\n",
       "0      9046    Male  67.0             0              1          Yes   \n",
       "1     51676  Female  61.0             0              0          Yes   \n",
       "2     31112    Male  80.0             0              1          Yes   \n",
       "3     60182  Female  49.0             0              0          Yes   \n",
       "4      1665  Female  79.0             1              0          Yes   \n",
       "...     ...     ...   ...           ...            ...          ...   \n",
       "5105  18234  Female  80.0             1              0          Yes   \n",
       "5106  44873  Female  81.0             0              0          Yes   \n",
       "5107  19723  Female  35.0             0              0          Yes   \n",
       "5108  37544    Male  51.0             0              0          Yes   \n",
       "5109  44679  Female  44.0             0              0          Yes   \n",
       "\n",
       "          work_type Residence_type  avg_glucose_level   bmi   smoking_status  \\\n",
       "0           Private          Urban             228.69  36.6  formerly smoked   \n",
       "1     Self-employed          Rural             202.21   NaN     never smoked   \n",
       "2           Private          Rural             105.92  32.5     never smoked   \n",
       "3           Private          Urban             171.23  34.4           smokes   \n",
       "4     Self-employed          Rural             174.12  24.0     never smoked   \n",
       "...             ...            ...                ...   ...              ...   \n",
       "5105        Private          Urban              83.75   NaN     never smoked   \n",
       "5106  Self-employed          Urban             125.20  40.0     never smoked   \n",
       "5107  Self-employed          Rural              82.99  30.6     never smoked   \n",
       "5108        Private          Rural             166.29  25.6  formerly smoked   \n",
       "5109       Govt_job          Urban              85.28  26.2          Unknown   \n",
       "\n",
       "      stroke  \n",
       "0          1  \n",
       "1          1  \n",
       "2          1  \n",
       "3          1  \n",
       "4          1  \n",
       "...      ...  \n",
       "5105       0  \n",
       "5106       0  \n",
       "5107       0  \n",
       "5108       0  \n",
       "5109       0  \n",
       "\n",
       "[5110 rows x 12 columns]"
      ]
     },
     "execution_count": 3,
     "metadata": {},
     "output_type": "execute_result"
    }
   ],
   "source": [
    "df"
   ]
  },
  {
   "cell_type": "code",
   "execution_count": 4,
   "id": "5c1703fc",
   "metadata": {},
   "outputs": [
    {
     "data": {
      "text/plain": [
       "np.int64(0)"
      ]
     },
     "execution_count": 4,
     "metadata": {},
     "output_type": "execute_result"
    }
   ],
   "source": [
    "df.duplicated().sum()"
   ]
  },
  {
   "cell_type": "code",
   "execution_count": 5,
   "id": "35e5ac40",
   "metadata": {},
   "outputs": [
    {
     "data": {
      "application/vnd.microsoft.datawrangler.viewer.v0+json": {
       "columns": [
        {
         "name": "index",
         "rawType": "object",
         "type": "string"
        },
        {
         "name": "0",
         "rawType": "int64",
         "type": "integer"
        }
       ],
       "ref": "c8cff7c0-78ba-4f6e-b969-b6c6e0506d8c",
       "rows": [
        [
         "id",
         "0"
        ],
        [
         "gender",
         "0"
        ],
        [
         "age",
         "0"
        ],
        [
         "hypertension",
         "0"
        ],
        [
         "heart_disease",
         "0"
        ],
        [
         "ever_married",
         "0"
        ],
        [
         "work_type",
         "0"
        ],
        [
         "Residence_type",
         "0"
        ],
        [
         "avg_glucose_level",
         "0"
        ],
        [
         "bmi",
         "201"
        ],
        [
         "smoking_status",
         "0"
        ],
        [
         "stroke",
         "0"
        ]
       ],
       "shape": {
        "columns": 1,
        "rows": 12
       }
      },
      "text/plain": [
       "id                     0\n",
       "gender                 0\n",
       "age                    0\n",
       "hypertension           0\n",
       "heart_disease          0\n",
       "ever_married           0\n",
       "work_type              0\n",
       "Residence_type         0\n",
       "avg_glucose_level      0\n",
       "bmi                  201\n",
       "smoking_status         0\n",
       "stroke                 0\n",
       "dtype: int64"
      ]
     },
     "execution_count": 5,
     "metadata": {},
     "output_type": "execute_result"
    }
   ],
   "source": [
    "df.isna().sum()"
   ]
  },
  {
   "cell_type": "code",
   "execution_count": 6,
   "id": "ca93c19c",
   "metadata": {},
   "outputs": [],
   "source": [
    "df.dropna(inplace= True, axis= 1)"
   ]
  },
  {
   "cell_type": "code",
   "execution_count": 7,
   "id": "81e650bd",
   "metadata": {},
   "outputs": [
    {
     "data": {
      "text/plain": [
       "5110"
      ]
     },
     "execution_count": 7,
     "metadata": {},
     "output_type": "execute_result"
    }
   ],
   "source": [
    "len(df)"
   ]
  },
  {
   "cell_type": "code",
   "execution_count": 8,
   "id": "2fedab04",
   "metadata": {},
   "outputs": [],
   "source": [
    "from sklearn.preprocessing import LabelEncoder\n",
    "le = LabelEncoder()\n",
    "for i in df.columns:\n",
    "    df[i] = le.fit_transform(df[i])"
   ]
  },
  {
   "cell_type": "code",
   "execution_count": 9,
   "id": "ca3a4a70",
   "metadata": {},
   "outputs": [],
   "source": [
    "from sklearn.model_selection import train_test_split\n",
    "X = df.drop('stroke', axis = 1)\n",
    "y = df['stroke']\n"
   ]
  },
  {
   "cell_type": "code",
   "execution_count": 10,
   "id": "ff9ce0a1",
   "metadata": {},
   "outputs": [],
   "source": [
    "X_train, X_test, y_train, y_test = train_test_split(X, y, test_size=0.3, random_state=42, stratify= y)"
   ]
  },
  {
   "cell_type": "code",
   "execution_count": 11,
   "id": "fb4ab6cb",
   "metadata": {},
   "outputs": [
    {
     "data": {
      "application/vnd.microsoft.datawrangler.viewer.v0+json": {
       "columns": [
        {
         "name": "stroke",
         "rawType": "int64",
         "type": "integer"
        },
        {
         "name": "proportion",
         "rawType": "float64",
         "type": "float"
        }
       ],
       "ref": "ac1da06b-bb8b-4332-8d47-614f50435626",
       "rows": [
        [
         "0",
         "0.9512720156555773"
        ],
        [
         "1",
         "0.0487279843444227"
        ]
       ],
       "shape": {
        "columns": 1,
        "rows": 2
       }
      },
      "text/plain": [
       "stroke\n",
       "0    0.951272\n",
       "1    0.048728\n",
       "Name: proportion, dtype: float64"
      ]
     },
     "execution_count": 11,
     "metadata": {},
     "output_type": "execute_result"
    }
   ],
   "source": [
    "df['stroke'].value_counts(normalize= True)"
   ]
  },
  {
   "cell_type": "code",
   "execution_count": 12,
   "id": "cd3904c3",
   "metadata": {},
   "outputs": [
    {
     "name": "stdout",
     "output_type": "stream",
     "text": [
      "0.9073711676451403\n",
      "              precision    recall  f1-score   support\n",
      "\n",
      "           0       0.96      0.95      0.95      1458\n",
      "           1       0.11      0.13      0.12        75\n",
      "\n",
      "    accuracy                           0.91      1533\n",
      "   macro avg       0.53      0.54      0.54      1533\n",
      "weighted avg       0.91      0.91      0.91      1533\n",
      "\n"
     ]
    }
   ],
   "source": [
    "from sklearn.tree import DecisionTreeClassifier\n",
    "from sklearn.metrics import accuracy_score,classification_report\n",
    "Model = DecisionTreeClassifier()\n",
    "Model.fit(X_train,y_train)\n",
    "pred = Model.predict(X_test)\n",
    "\n",
    "print(accuracy_score(y_test,pred))\n",
    "print(classification_report(y_test,pred))"
   ]
  },
  {
   "cell_type": "code",
   "execution_count": 13,
   "id": "f411a109",
   "metadata": {},
   "outputs": [],
   "source": [
    "from imblearn.over_sampling import RandomOverSampler\n",
    "from sklearn.utils import resample\n",
    "\n",
    "random = RandomOverSampler(sampling_strategy= {1:2500}, random_state= 42)\n",
    "X_resampled,y_resampled = random.fit_resample(X,y)"
   ]
  },
  {
   "cell_type": "code",
   "execution_count": 14,
   "id": "ac39e1ce",
   "metadata": {},
   "outputs": [
    {
     "data": {
      "application/vnd.microsoft.datawrangler.viewer.v0+json": {
       "columns": [
        {
         "name": "stroke",
         "rawType": "int64",
         "type": "integer"
        },
        {
         "name": "count",
         "rawType": "int64",
         "type": "integer"
        }
       ],
       "ref": "0e41fb89-9fdb-4b40-826e-59580293cedb",
       "rows": [
        [
         "0",
         "4861"
        ],
        [
         "1",
         "2500"
        ]
       ],
       "shape": {
        "columns": 1,
        "rows": 2
       }
      },
      "text/plain": [
       "stroke\n",
       "0    4861\n",
       "1    2500\n",
       "Name: count, dtype: int64"
      ]
     },
     "execution_count": 14,
     "metadata": {},
     "output_type": "execute_result"
    }
   ],
   "source": [
    "y_resampled.value_counts()"
   ]
  },
  {
   "cell_type": "code",
   "execution_count": 15,
   "id": "861ee7d7",
   "metadata": {},
   "outputs": [
    {
     "data": {
      "text/plain": [
       "(7361, 10)"
      ]
     },
     "execution_count": 15,
     "metadata": {},
     "output_type": "execute_result"
    }
   ],
   "source": [
    "X_resampled.shape"
   ]
  },
  {
   "cell_type": "code",
   "execution_count": 16,
   "id": "8f903710",
   "metadata": {},
   "outputs": [],
   "source": [
    "X_new = pd.DataFrame(X_resampled)\n",
    "X_new['stroke'] = y_resampled"
   ]
  },
  {
   "cell_type": "code",
   "execution_count": 17,
   "id": "9f6ef54f",
   "metadata": {},
   "outputs": [
    {
     "data": {
      "application/vnd.microsoft.datawrangler.viewer.v0+json": {
       "columns": [
        {
         "name": "index",
         "rawType": "int64",
         "type": "integer"
        },
        {
         "name": "id",
         "rawType": "int64",
         "type": "integer"
        },
        {
         "name": "gender",
         "rawType": "int64",
         "type": "integer"
        },
        {
         "name": "age",
         "rawType": "int64",
         "type": "integer"
        },
        {
         "name": "hypertension",
         "rawType": "int64",
         "type": "integer"
        },
        {
         "name": "heart_disease",
         "rawType": "int64",
         "type": "integer"
        },
        {
         "name": "ever_married",
         "rawType": "int64",
         "type": "integer"
        },
        {
         "name": "work_type",
         "rawType": "int64",
         "type": "integer"
        },
        {
         "name": "Residence_type",
         "rawType": "int64",
         "type": "integer"
        },
        {
         "name": "avg_glucose_level",
         "rawType": "int64",
         "type": "integer"
        },
        {
         "name": "smoking_status",
         "rawType": "int64",
         "type": "integer"
        },
        {
         "name": "stroke",
         "rawType": "int64",
         "type": "integer"
        }
       ],
       "ref": "d28979b0-9352-417c-a851-42c2736fc9e7",
       "rows": [
        [
         "0",
         "671",
         "1",
         "88",
         "0",
         "1",
         "1",
         "2",
         "1",
         "3850",
         "1",
         "1"
        ],
        [
         "1",
         "3610",
         "0",
         "82",
         "0",
         "0",
         "1",
         "3",
         "0",
         "3588",
         "2",
         "1"
        ],
        [
         "2",
         "2151",
         "1",
         "101",
         "0",
         "1",
         "1",
         "2",
         "0",
         "2483",
         "2",
         "1"
        ],
        [
         "3",
         "4226",
         "0",
         "70",
         "0",
         "0",
         "1",
         "2",
         "1",
         "3385",
         "3",
         "1"
        ],
        [
         "4",
         "114",
         "0",
         "100",
         "1",
         "0",
         "1",
         "3",
         "0",
         "3394",
         "2",
         "1"
        ]
       ],
       "shape": {
        "columns": 11,
        "rows": 5
       }
      },
      "text/html": [
       "<div>\n",
       "<style scoped>\n",
       "    .dataframe tbody tr th:only-of-type {\n",
       "        vertical-align: middle;\n",
       "    }\n",
       "\n",
       "    .dataframe tbody tr th {\n",
       "        vertical-align: top;\n",
       "    }\n",
       "\n",
       "    .dataframe thead th {\n",
       "        text-align: right;\n",
       "    }\n",
       "</style>\n",
       "<table border=\"1\" class=\"dataframe\">\n",
       "  <thead>\n",
       "    <tr style=\"text-align: right;\">\n",
       "      <th></th>\n",
       "      <th>id</th>\n",
       "      <th>gender</th>\n",
       "      <th>age</th>\n",
       "      <th>hypertension</th>\n",
       "      <th>heart_disease</th>\n",
       "      <th>ever_married</th>\n",
       "      <th>work_type</th>\n",
       "      <th>Residence_type</th>\n",
       "      <th>avg_glucose_level</th>\n",
       "      <th>smoking_status</th>\n",
       "      <th>stroke</th>\n",
       "    </tr>\n",
       "  </thead>\n",
       "  <tbody>\n",
       "    <tr>\n",
       "      <th>0</th>\n",
       "      <td>671</td>\n",
       "      <td>1</td>\n",
       "      <td>88</td>\n",
       "      <td>0</td>\n",
       "      <td>1</td>\n",
       "      <td>1</td>\n",
       "      <td>2</td>\n",
       "      <td>1</td>\n",
       "      <td>3850</td>\n",
       "      <td>1</td>\n",
       "      <td>1</td>\n",
       "    </tr>\n",
       "    <tr>\n",
       "      <th>1</th>\n",
       "      <td>3610</td>\n",
       "      <td>0</td>\n",
       "      <td>82</td>\n",
       "      <td>0</td>\n",
       "      <td>0</td>\n",
       "      <td>1</td>\n",
       "      <td>3</td>\n",
       "      <td>0</td>\n",
       "      <td>3588</td>\n",
       "      <td>2</td>\n",
       "      <td>1</td>\n",
       "    </tr>\n",
       "    <tr>\n",
       "      <th>2</th>\n",
       "      <td>2151</td>\n",
       "      <td>1</td>\n",
       "      <td>101</td>\n",
       "      <td>0</td>\n",
       "      <td>1</td>\n",
       "      <td>1</td>\n",
       "      <td>2</td>\n",
       "      <td>0</td>\n",
       "      <td>2483</td>\n",
       "      <td>2</td>\n",
       "      <td>1</td>\n",
       "    </tr>\n",
       "    <tr>\n",
       "      <th>3</th>\n",
       "      <td>4226</td>\n",
       "      <td>0</td>\n",
       "      <td>70</td>\n",
       "      <td>0</td>\n",
       "      <td>0</td>\n",
       "      <td>1</td>\n",
       "      <td>2</td>\n",
       "      <td>1</td>\n",
       "      <td>3385</td>\n",
       "      <td>3</td>\n",
       "      <td>1</td>\n",
       "    </tr>\n",
       "    <tr>\n",
       "      <th>4</th>\n",
       "      <td>114</td>\n",
       "      <td>0</td>\n",
       "      <td>100</td>\n",
       "      <td>1</td>\n",
       "      <td>0</td>\n",
       "      <td>1</td>\n",
       "      <td>3</td>\n",
       "      <td>0</td>\n",
       "      <td>3394</td>\n",
       "      <td>2</td>\n",
       "      <td>1</td>\n",
       "    </tr>\n",
       "  </tbody>\n",
       "</table>\n",
       "</div>"
      ],
      "text/plain": [
       "     id  gender  age  hypertension  heart_disease  ever_married  work_type  \\\n",
       "0   671       1   88             0              1             1          2   \n",
       "1  3610       0   82             0              0             1          3   \n",
       "2  2151       1  101             0              1             1          2   \n",
       "3  4226       0   70             0              0             1          2   \n",
       "4   114       0  100             1              0             1          3   \n",
       "\n",
       "   Residence_type  avg_glucose_level  smoking_status  stroke  \n",
       "0               1               3850               1       1  \n",
       "1               0               3588               2       1  \n",
       "2               0               2483               2       1  \n",
       "3               1               3385               3       1  \n",
       "4               0               3394               2       1  "
      ]
     },
     "execution_count": 17,
     "metadata": {},
     "output_type": "execute_result"
    }
   ],
   "source": [
    "X_new.head()"
   ]
  },
  {
   "cell_type": "code",
   "execution_count": 18,
   "id": "e53dd9ce",
   "metadata": {},
   "outputs": [
    {
     "data": {
      "application/vnd.microsoft.datawrangler.viewer.v0+json": {
       "columns": [
        {
         "name": "index",
         "rawType": "int64",
         "type": "integer"
        },
        {
         "name": "id",
         "rawType": "int64",
         "type": "integer"
        },
        {
         "name": "gender",
         "rawType": "int64",
         "type": "integer"
        },
        {
         "name": "age",
         "rawType": "int64",
         "type": "integer"
        },
        {
         "name": "hypertension",
         "rawType": "int64",
         "type": "integer"
        },
        {
         "name": "heart_disease",
         "rawType": "int64",
         "type": "integer"
        },
        {
         "name": "ever_married",
         "rawType": "int64",
         "type": "integer"
        },
        {
         "name": "work_type",
         "rawType": "int64",
         "type": "integer"
        },
        {
         "name": "Residence_type",
         "rawType": "int64",
         "type": "integer"
        },
        {
         "name": "avg_glucose_level",
         "rawType": "int64",
         "type": "integer"
        },
        {
         "name": "smoking_status",
         "rawType": "int64",
         "type": "integer"
        },
        {
         "name": "stroke",
         "rawType": "int64",
         "type": "integer"
        }
       ],
       "ref": "fe120f10-dc1d-4db9-a055-49c7e89f753a",
       "rows": [
        [
         "249",
         "2124",
         "1",
         "24",
         "0",
         "0",
         "0",
         "4",
         "0",
         "1986",
         "0",
         "0"
        ],
        [
         "250",
         "2110",
         "1",
         "79",
         "1",
         "0",
         "1",
         "2",
         "1",
         "1604",
         "2",
         "0"
        ],
        [
         "251",
         "1187",
         "0",
         "29",
         "0",
         "0",
         "0",
         "2",
         "1",
         "2663",
         "0",
         "0"
        ],
        [
         "252",
         "3955",
         "0",
         "91",
         "0",
         "0",
         "1",
         "2",
         "0",
         "528",
         "1",
         "0"
        ],
        [
         "253",
         "3199",
         "1",
         "35",
         "0",
         "0",
         "0",
         "1",
         "0",
         "3340",
         "0",
         "0"
        ],
        [
         "254",
         "2246",
         "0",
         "68",
         "0",
         "0",
         "1",
         "2",
         "1",
         "3677",
         "0",
         "0"
        ],
        [
         "255",
         "3695",
         "0",
         "73",
         "0",
         "0",
         "1",
         "2",
         "1",
         "992",
         "1",
         "0"
        ],
        [
         "256",
         "2872",
         "0",
         "96",
         "0",
         "1",
         "1",
         "3",
         "0",
         "3937",
         "2",
         "0"
        ],
        [
         "257",
         "1101",
         "0",
         "53",
         "0",
         "0",
         "1",
         "2",
         "0",
         "997",
         "3",
         "0"
        ],
        [
         "258",
         "1995",
         "0",
         "95",
         "1",
         "0",
         "1",
         "3",
         "1",
         "3624",
         "2",
         "0"
        ],
        [
         "259",
         "752",
         "0",
         "100",
         "0",
         "0",
         "1",
         "0",
         "1",
         "962",
         "0",
         "0"
        ],
        [
         "260",
         "4538",
         "1",
         "100",
         "0",
         "1",
         "1",
         "2",
         "1",
         "69",
         "1",
         "0"
        ],
        [
         "261",
         "4478",
         "0",
         "58",
         "0",
         "0",
         "1",
         "2",
         "0",
         "3349",
         "2",
         "0"
        ],
        [
         "262",
         "2628",
         "0",
         "58",
         "0",
         "0",
         "1",
         "2",
         "0",
         "756",
         "1",
         "0"
        ],
        [
         "263",
         "4748",
         "0",
         "61",
         "0",
         "0",
         "1",
         "2",
         "0",
         "1981",
         "2",
         "0"
        ],
        [
         "264",
         "1796",
         "1",
         "56",
         "0",
         "0",
         "0",
         "2",
         "0",
         "1458",
         "2",
         "0"
        ],
        [
         "265",
         "1387",
         "0",
         "41",
         "0",
         "0",
         "0",
         "2",
         "1",
         "1417",
         "3",
         "0"
        ],
        [
         "266",
         "1713",
         "0",
         "63",
         "0",
         "0",
         "1",
         "2",
         "0",
         "1295",
         "2",
         "0"
        ],
        [
         "267",
         "3439",
         "0",
         "65",
         "0",
         "0",
         "1",
         "0",
         "1",
         "78",
         "3",
         "0"
        ],
        [
         "268",
         "1293",
         "0",
         "100",
         "0",
         "1",
         "1",
         "3",
         "1",
         "476",
         "3",
         "0"
        ],
        [
         "269",
         "2030",
         "0",
         "86",
         "1",
         "0",
         "1",
         "2",
         "0",
         "883",
         "0",
         "0"
        ],
        [
         "270",
         "5105",
         "0",
         "78",
         "1",
         "0",
         "1",
         "2",
         "0",
         "3089",
         "3",
         "0"
        ],
        [
         "271",
         "3262",
         "0",
         "70",
         "0",
         "0",
         "1",
         "2",
         "0",
         "186",
         "3",
         "0"
        ],
        [
         "272",
         "289",
         "1",
         "92",
         "0",
         "0",
         "1",
         "2",
         "1",
         "3544",
         "1",
         "0"
        ],
        [
         "273",
         "3367",
         "0",
         "80",
         "0",
         "0",
         "1",
         "2",
         "1",
         "2625",
         "2",
         "0"
        ],
        [
         "274",
         "4923",
         "0",
         "46",
         "0",
         "0",
         "1",
         "2",
         "1",
         "209",
         "2",
         "0"
        ],
        [
         "275",
         "4681",
         "0",
         "88",
         "0",
         "0",
         "1",
         "0",
         "0",
         "1960",
         "3",
         "0"
        ],
        [
         "276",
         "3175",
         "0",
         "59",
         "0",
         "0",
         "0",
         "2",
         "0",
         "2109",
         "2",
         "0"
        ],
        [
         "277",
         "2502",
         "0",
         "75",
         "0",
         "0",
         "1",
         "2",
         "0",
         "3637",
         "2",
         "0"
        ],
        [
         "278",
         "827",
         "0",
         "91",
         "0",
         "0",
         "1",
         "3",
         "0",
         "3711",
         "2",
         "0"
        ],
        [
         "279",
         "4708",
         "1",
         "48",
         "0",
         "0",
         "1",
         "3",
         "1",
         "1309",
         "0",
         "0"
        ],
        [
         "280",
         "2076",
         "0",
         "68",
         "0",
         "0",
         "1",
         "2",
         "1",
         "2383",
         "0",
         "0"
        ],
        [
         "281",
         "3126",
         "1",
         "79",
         "1",
         "0",
         "0",
         "2",
         "1",
         "24",
         "3",
         "0"
        ],
        [
         "282",
         "2339",
         "0",
         "24",
         "0",
         "0",
         "0",
         "4",
         "1",
         "772",
         "0",
         "0"
        ],
        [
         "283",
         "2793",
         "0",
         "79",
         "0",
         "0",
         "1",
         "2",
         "1",
         "3270",
         "0",
         "0"
        ],
        [
         "284",
         "1838",
         "1",
         "35",
         "0",
         "0",
         "0",
         "0",
         "1",
         "1271",
         "0",
         "0"
        ],
        [
         "285",
         "4584",
         "0",
         "53",
         "0",
         "0",
         "1",
         "2",
         "0",
         "269",
         "1",
         "0"
        ],
        [
         "286",
         "2542",
         "0",
         "44",
         "0",
         "0",
         "0",
         "2",
         "1",
         "1931",
         "2",
         "0"
        ],
        [
         "287",
         "5027",
         "0",
         "76",
         "0",
         "0",
         "1",
         "2",
         "1",
         "12",
         "0",
         "0"
        ],
        [
         "288",
         "4967",
         "0",
         "38",
         "0",
         "0",
         "0",
         "3",
         "1",
         "1258",
         "0",
         "0"
        ],
        [
         "289",
         "2929",
         "1",
         "80",
         "0",
         "0",
         "1",
         "2",
         "1",
         "2880",
         "3",
         "0"
        ],
        [
         "290",
         "3898",
         "1",
         "34",
         "0",
         "0",
         "0",
         "4",
         "1",
         "2808",
         "0",
         "0"
        ],
        [
         "291",
         "791",
         "1",
         "25",
         "0",
         "0",
         "0",
         "4",
         "0",
         "1084",
         "0",
         "0"
        ],
        [
         "292",
         "3066",
         "0",
         "37",
         "0",
         "0",
         "0",
         "4",
         "0",
         "2651",
         "0",
         "0"
        ],
        [
         "293",
         "1470",
         "1",
         "88",
         "0",
         "0",
         "1",
         "2",
         "1",
         "3475",
         "1",
         "0"
        ],
        [
         "294",
         "2425",
         "0",
         "43",
         "0",
         "0",
         "0",
         "2",
         "0",
         "1123",
         "0",
         "0"
        ],
        [
         "295",
         "4996",
         "0",
         "66",
         "0",
         "0",
         "1",
         "0",
         "1",
         "2771",
         "3",
         "0"
        ],
        [
         "296",
         "4096",
         "0",
         "87",
         "0",
         "0",
         "1",
         "2",
         "0",
         "3203",
         "2",
         "0"
        ],
        [
         "297",
         "4713",
         "1",
         "79",
         "1",
         "0",
         "1",
         "0",
         "0",
         "65",
         "3",
         "0"
        ],
        [
         "298",
         "1986",
         "1",
         "90",
         "0",
         "0",
         "1",
         "3",
         "0",
         "3597",
         "2",
         "0"
        ]
       ],
       "shape": {
        "columns": 11,
        "rows": 4861
       }
      },
      "text/html": [
       "<div>\n",
       "<style scoped>\n",
       "    .dataframe tbody tr th:only-of-type {\n",
       "        vertical-align: middle;\n",
       "    }\n",
       "\n",
       "    .dataframe tbody tr th {\n",
       "        vertical-align: top;\n",
       "    }\n",
       "\n",
       "    .dataframe thead th {\n",
       "        text-align: right;\n",
       "    }\n",
       "</style>\n",
       "<table border=\"1\" class=\"dataframe\">\n",
       "  <thead>\n",
       "    <tr style=\"text-align: right;\">\n",
       "      <th></th>\n",
       "      <th>id</th>\n",
       "      <th>gender</th>\n",
       "      <th>age</th>\n",
       "      <th>hypertension</th>\n",
       "      <th>heart_disease</th>\n",
       "      <th>ever_married</th>\n",
       "      <th>work_type</th>\n",
       "      <th>Residence_type</th>\n",
       "      <th>avg_glucose_level</th>\n",
       "      <th>smoking_status</th>\n",
       "      <th>stroke</th>\n",
       "    </tr>\n",
       "  </thead>\n",
       "  <tbody>\n",
       "    <tr>\n",
       "      <th>249</th>\n",
       "      <td>2124</td>\n",
       "      <td>1</td>\n",
       "      <td>24</td>\n",
       "      <td>0</td>\n",
       "      <td>0</td>\n",
       "      <td>0</td>\n",
       "      <td>4</td>\n",
       "      <td>0</td>\n",
       "      <td>1986</td>\n",
       "      <td>0</td>\n",
       "      <td>0</td>\n",
       "    </tr>\n",
       "    <tr>\n",
       "      <th>250</th>\n",
       "      <td>2110</td>\n",
       "      <td>1</td>\n",
       "      <td>79</td>\n",
       "      <td>1</td>\n",
       "      <td>0</td>\n",
       "      <td>1</td>\n",
       "      <td>2</td>\n",
       "      <td>1</td>\n",
       "      <td>1604</td>\n",
       "      <td>2</td>\n",
       "      <td>0</td>\n",
       "    </tr>\n",
       "    <tr>\n",
       "      <th>251</th>\n",
       "      <td>1187</td>\n",
       "      <td>0</td>\n",
       "      <td>29</td>\n",
       "      <td>0</td>\n",
       "      <td>0</td>\n",
       "      <td>0</td>\n",
       "      <td>2</td>\n",
       "      <td>1</td>\n",
       "      <td>2663</td>\n",
       "      <td>0</td>\n",
       "      <td>0</td>\n",
       "    </tr>\n",
       "    <tr>\n",
       "      <th>252</th>\n",
       "      <td>3955</td>\n",
       "      <td>0</td>\n",
       "      <td>91</td>\n",
       "      <td>0</td>\n",
       "      <td>0</td>\n",
       "      <td>1</td>\n",
       "      <td>2</td>\n",
       "      <td>0</td>\n",
       "      <td>528</td>\n",
       "      <td>1</td>\n",
       "      <td>0</td>\n",
       "    </tr>\n",
       "    <tr>\n",
       "      <th>253</th>\n",
       "      <td>3199</td>\n",
       "      <td>1</td>\n",
       "      <td>35</td>\n",
       "      <td>0</td>\n",
       "      <td>0</td>\n",
       "      <td>0</td>\n",
       "      <td>1</td>\n",
       "      <td>0</td>\n",
       "      <td>3340</td>\n",
       "      <td>0</td>\n",
       "      <td>0</td>\n",
       "    </tr>\n",
       "    <tr>\n",
       "      <th>...</th>\n",
       "      <td>...</td>\n",
       "      <td>...</td>\n",
       "      <td>...</td>\n",
       "      <td>...</td>\n",
       "      <td>...</td>\n",
       "      <td>...</td>\n",
       "      <td>...</td>\n",
       "      <td>...</td>\n",
       "      <td>...</td>\n",
       "      <td>...</td>\n",
       "      <td>...</td>\n",
       "    </tr>\n",
       "    <tr>\n",
       "      <th>5105</th>\n",
       "      <td>1312</td>\n",
       "      <td>0</td>\n",
       "      <td>101</td>\n",
       "      <td>1</td>\n",
       "      <td>0</td>\n",
       "      <td>1</td>\n",
       "      <td>2</td>\n",
       "      <td>1</td>\n",
       "      <td>1360</td>\n",
       "      <td>2</td>\n",
       "      <td>0</td>\n",
       "    </tr>\n",
       "    <tr>\n",
       "      <th>5106</th>\n",
       "      <td>3100</td>\n",
       "      <td>0</td>\n",
       "      <td>102</td>\n",
       "      <td>0</td>\n",
       "      <td>0</td>\n",
       "      <td>1</td>\n",
       "      <td>3</td>\n",
       "      <td>1</td>\n",
       "      <td>3030</td>\n",
       "      <td>2</td>\n",
       "      <td>0</td>\n",
       "    </tr>\n",
       "    <tr>\n",
       "      <th>5107</th>\n",
       "      <td>1396</td>\n",
       "      <td>0</td>\n",
       "      <td>56</td>\n",
       "      <td>0</td>\n",
       "      <td>0</td>\n",
       "      <td>1</td>\n",
       "      <td>3</td>\n",
       "      <td>0</td>\n",
       "      <td>1314</td>\n",
       "      <td>2</td>\n",
       "      <td>0</td>\n",
       "    </tr>\n",
       "    <tr>\n",
       "      <th>5108</th>\n",
       "      <td>2601</td>\n",
       "      <td>1</td>\n",
       "      <td>72</td>\n",
       "      <td>0</td>\n",
       "      <td>0</td>\n",
       "      <td>1</td>\n",
       "      <td>2</td>\n",
       "      <td>0</td>\n",
       "      <td>3363</td>\n",
       "      <td>1</td>\n",
       "      <td>0</td>\n",
       "    </tr>\n",
       "    <tr>\n",
       "      <th>5109</th>\n",
       "      <td>3089</td>\n",
       "      <td>0</td>\n",
       "      <td>65</td>\n",
       "      <td>0</td>\n",
       "      <td>0</td>\n",
       "      <td>1</td>\n",
       "      <td>0</td>\n",
       "      <td>1</td>\n",
       "      <td>1454</td>\n",
       "      <td>0</td>\n",
       "      <td>0</td>\n",
       "    </tr>\n",
       "  </tbody>\n",
       "</table>\n",
       "<p>4861 rows × 11 columns</p>\n",
       "</div>"
      ],
      "text/plain": [
       "        id  gender  age  hypertension  heart_disease  ever_married  work_type  \\\n",
       "249   2124       1   24             0              0             0          4   \n",
       "250   2110       1   79             1              0             1          2   \n",
       "251   1187       0   29             0              0             0          2   \n",
       "252   3955       0   91             0              0             1          2   \n",
       "253   3199       1   35             0              0             0          1   \n",
       "...    ...     ...  ...           ...            ...           ...        ...   \n",
       "5105  1312       0  101             1              0             1          2   \n",
       "5106  3100       0  102             0              0             1          3   \n",
       "5107  1396       0   56             0              0             1          3   \n",
       "5108  2601       1   72             0              0             1          2   \n",
       "5109  3089       0   65             0              0             1          0   \n",
       "\n",
       "      Residence_type  avg_glucose_level  smoking_status  stroke  \n",
       "249                0               1986               0       0  \n",
       "250                1               1604               2       0  \n",
       "251                1               2663               0       0  \n",
       "252                0                528               1       0  \n",
       "253                0               3340               0       0  \n",
       "...              ...                ...             ...     ...  \n",
       "5105               1               1360               2       0  \n",
       "5106               1               3030               2       0  \n",
       "5107               0               1314               2       0  \n",
       "5108               0               3363               1       0  \n",
       "5109               1               1454               0       0  \n",
       "\n",
       "[4861 rows x 11 columns]"
      ]
     },
     "execution_count": 18,
     "metadata": {},
     "output_type": "execute_result"
    }
   ],
   "source": [
    "new= df[df.stroke == 0]\n",
    "new"
   ]
  },
  {
   "cell_type": "code",
   "execution_count": 19,
   "id": "23ba2868",
   "metadata": {},
   "outputs": [],
   "source": [
    "ne = resample(new,replace = False,n_samples= 2555, random_state= 30)\n"
   ]
  },
  {
   "cell_type": "code",
   "execution_count": 20,
   "id": "9d35f46d",
   "metadata": {},
   "outputs": [
    {
     "data": {
      "text/plain": [
       "(2555, 11)"
      ]
     },
     "execution_count": 20,
     "metadata": {},
     "output_type": "execute_result"
    }
   ],
   "source": [
    "ne.shape"
   ]
  },
  {
   "cell_type": "code",
   "execution_count": 22,
   "id": "4ffde5cb",
   "metadata": {},
   "outputs": [
    {
     "ename": "TypeError",
     "evalue": "'DataFrame' object is not callable",
     "output_type": "error",
     "traceback": [
      "\u001b[31m---------------------------------------------------------------------------\u001b[39m",
      "\u001b[31mTypeError\u001b[39m                                 Traceback (most recent call last)",
      "\u001b[36mCell\u001b[39m\u001b[36m \u001b[39m\u001b[32mIn[22]\u001b[39m\u001b[32m, line 1\u001b[39m\n\u001b[32m----> \u001b[39m\u001b[32m1\u001b[39m X_n_n = \u001b[43mX_new\u001b[49m\u001b[43m(\u001b[49m\u001b[43mX_new\u001b[49m\u001b[43m,\u001b[49m\u001b[33;43m'\u001b[39;49m\u001b[33;43mstroke\u001b[39;49m\u001b[33;43m'\u001b[39;49m\u001b[43m \u001b[49m\u001b[43m==\u001b[49m\u001b[32;43m1\u001b[39;49m\u001b[43m)\u001b[49m\n\u001b[32m      2\u001b[39m X_n_n\n",
      "\u001b[31mTypeError\u001b[39m: 'DataFrame' object is not callable"
     ]
    }
   ],
   "source": [
    "X_n_n = X_new(X_new,'stroke' ==1)\n",
    "X_n_n"
   ]
  },
  {
   "cell_type": "code",
   "execution_count": null,
   "id": "70b52063",
   "metadata": {},
   "outputs": [],
   "source": [
    "ne"
   ]
  },
  {
   "cell_type": "code",
   "execution_count": null,
   "id": "912fb741",
   "metadata": {},
   "outputs": [],
   "source": [
    "last_df = pd.concat([ne,X_n_n])"
   ]
  },
  {
   "cell_type": "code",
   "execution_count": null,
   "id": "ca186547",
   "metadata": {},
   "outputs": [],
   "source": [
    "last_df = last_df.sample(frac= 1, random_state = 30).reset_index(drop= True)"
   ]
  },
  {
   "cell_type": "code",
   "execution_count": null,
   "id": "69d76f9f",
   "metadata": {},
   "outputs": [],
   "source": [
    "last_df.info()"
   ]
  },
  {
   "cell_type": "code",
   "execution_count": null,
   "id": "1416e0da",
   "metadata": {},
   "outputs": [],
   "source": [
    "last_df['stroke'].value_counts()"
   ]
  },
  {
   "cell_type": "code",
   "execution_count": null,
   "id": "e0a8d02f",
   "metadata": {},
   "outputs": [],
   "source": [
    "from sklearn.tree import train_test_split\n",
    "\n",
    "y = last_df['stroke']\n",
    "X = last_df.drop(columns=['stroke'], axis = 1)\n",
    "X_train, X_test, y_train, y_test = train_test_split(X, y, test_size=0.3, random_state=42, stratify =y)"
   ]
  },
  {
   "cell_type": "code",
   "execution_count": null,
   "id": "adb8a590",
   "metadata": {},
   "outputs": [],
   "source": [
    "tModel = DecisionTreeClassifier(random_state= 30)\n",
    "tModel.fit(X_train,y_train)"
   ]
  },
  {
   "cell_type": "code",
   "execution_count": null,
   "id": "3aadae1e",
   "metadata": {},
   "outputs": [],
   "source": [
    "pred = tModel.predict(X_test)\n",
    "print(accuracy_score(y_test,pred))\n",
    "print(classification_report(y_test,pred))"
   ]
  }
 ],
 "metadata": {
  "kernelspec": {
   "display_name": ".venv",
   "language": "python",
   "name": "python3"
  },
  "language_info": {
   "codemirror_mode": {
    "name": "ipython",
    "version": 3
   },
   "file_extension": ".py",
   "mimetype": "text/x-python",
   "name": "python",
   "nbconvert_exporter": "python",
   "pygments_lexer": "ipython3",
   "version": "3.12.3"
  }
 },
 "nbformat": 4,
 "nbformat_minor": 5
}
