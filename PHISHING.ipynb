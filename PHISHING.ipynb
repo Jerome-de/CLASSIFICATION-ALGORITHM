{
 "cells": [
  {
   "cell_type": "code",
   "execution_count": 26,
   "id": "a82810cc",
   "metadata": {},
   "outputs": [],
   "source": [
    "import pandas as pd\n",
    "import matplotlib.pyplot as plt\n",
    "import seaborn as sns\n",
    "import numpy as np\n",
    "from sklearn.preprocessing import LabelEncoder\n",
    "from sklearn.model_selection import train_test_split\n",
    "from sklearn.linear_model import LogisticRegression\n",
    "from sklearn.metrics import accuracy_score,classification_report,confusion_matrix\n",
    "from imblearn.over_sampling import SMOTE"
   ]
  },
  {
   "cell_type": "code",
   "execution_count": 27,
   "id": "18f62ff2",
   "metadata": {},
   "outputs": [],
   "source": [
    "df =  pd.read_csv(\"/home/jerome/Documents/CSV FILE/new_data_urls.csv\")"
   ]
  },
  {
   "cell_type": "code",
   "execution_count": 28,
   "id": "ddc1bd69",
   "metadata": {},
   "outputs": [
    {
     "data": {
      "application/vnd.microsoft.datawrangler.viewer.v0+json": {
       "columns": [
        {
         "name": "index",
         "rawType": "int64",
         "type": "integer"
        },
        {
         "name": "url",
         "rawType": "object",
         "type": "string"
        },
        {
         "name": "status",
         "rawType": "int64",
         "type": "integer"
        }
       ],
       "conversionMethod": "pd.DataFrame",
       "ref": "ffa90e64-e597-4268-9a85-bf209108d8b4",
       "rows": [
        [
         "0",
         "0000111servicehelpdesk.godaddysites.com",
         "0"
        ],
        [
         "1",
         "000011accesswebform.godaddysites.com",
         "0"
        ],
        [
         "2",
         "00003.online",
         "0"
        ],
        [
         "3",
         "0009servicedeskowa.godaddysites.com",
         "0"
        ],
        [
         "4",
         "000n38p.wcomhost.com",
         "0"
        ],
        [
         "5",
         "000n38t.wcomhost.com",
         "0"
        ],
        [
         "6",
         "000n8pc.wcomhost.com",
         "0"
        ],
        [
         "7",
         "000ne9r.wcomhost.com",
         "0"
        ],
        [
         "8",
         "000njep.wcomhost.com",
         "0"
        ],
        [
         "9",
         "000nku9.wcomhost.com",
         "0"
        ],
        [
         "10",
         "000nt6r.wcomhost.com",
         "0"
        ],
        [
         "11",
         "000nx2b.wcomhost.com",
         "0"
        ],
        [
         "12",
         "000o1g0.wcomhost.com",
         "0"
        ],
        [
         "13",
         "000o2ba.wcomhost.com",
         "0"
        ],
        [
         "14",
         "000o2sl.wcomhost.com",
         "0"
        ],
        [
         "15",
         "000o4d4.wcomhost.com",
         "0"
        ],
        [
         "16",
         "000o4n8.wcomhost.com",
         "0"
        ],
        [
         "17",
         "000o5eh.wcomhost.com",
         "0"
        ],
        [
         "18",
         "000o8dc.wcomhost.com",
         "0"
        ],
        [
         "19",
         "001002.xyz",
         "0"
        ],
        [
         "20",
         "0010defaulttypeds0678pailem.weebly.com",
         "0"
        ],
        [
         "21",
         "00110omeopranslateslentldetext.godaddysites.com",
         "0"
        ],
        [
         "22",
         "00432453212346.z13.web.core.windows.net",
         "0"
        ],
        [
         "23",
         "00e9e64bacce231bc2e4635333a7a68bbab82bbabbb7941b9b-apidata.googleusercontent.com",
         "0"
        ],
        [
         "24",
         "00wellsfarg.azurewebsites.net",
         "0"
        ],
        [
         "25",
         "0101-mx001.emailnetwork.uk",
         "0"
        ],
        [
         "26",
         "0132.slfrc209.com",
         "0"
        ],
        [
         "27",
         "018161955758690-dot-cjr-ksh-egy.appspot.com",
         "0"
        ],
        [
         "28",
         "0307shppsp01.fun",
         "0"
        ],
        [
         "29",
         "0331.16mb.com",
         "0"
        ],
        [
         "30",
         "0365officeonline.blob.core.windows.net",
         "0"
        ],
        [
         "31",
         "0365officeproduct.blob.core.windows.net",
         "0"
        ],
        [
         "32",
         "039282fsd.z19.web.core.windows.net",
         "0"
        ],
        [
         "33",
         "041089719357198-dot-cjr-ksh-egy.appspot.com",
         "0"
        ],
        [
         "34",
         "042019.tk",
         "0"
        ],
        [
         "35",
         "04393bf.netsolhost.com",
         "0"
        ],
        [
         "36",
         "043b689.netsolhost.com",
         "0"
        ],
        [
         "37",
         "043b791.netsolhost.com",
         "0"
        ],
        [
         "38",
         "043bccd.netsolhost.com",
         "0"
        ],
        [
         "39",
         "044088d.wcomhost.com",
         "0"
        ],
        [
         "40",
         "04df7d95-f8fb-4d90-97df-7d56dd7640ce-9d951d.netlify.com",
         "0"
        ],
        [
         "41",
         "0503.site",
         "0"
        ],
        [
         "42",
         "061093220165.ctinets.com",
         "0"
        ],
        [
         "43",
         "067f3f4d4e085681f28dee075d3bf310.gq",
         "0"
        ],
        [
         "44",
         "073zlaokta.com",
         "0"
        ],
        [
         "45",
         "08-2019-central.cloudaccess.host",
         "0"
        ],
        [
         "46",
         "08782949.624dgns34gh.pw",
         "0"
        ],
        [
         "47",
         "0879.bounceme.net",
         "0"
        ],
        [
         "48",
         "088invoice.online",
         "0"
        ],
        [
         "49",
         "08ea080b.ngrok.io",
         "0"
        ]
       ],
       "shape": {
        "columns": 2,
        "rows": 822010
       }
      },
      "text/html": [
       "<div>\n",
       "<style scoped>\n",
       "    .dataframe tbody tr th:only-of-type {\n",
       "        vertical-align: middle;\n",
       "    }\n",
       "\n",
       "    .dataframe tbody tr th {\n",
       "        vertical-align: top;\n",
       "    }\n",
       "\n",
       "    .dataframe thead th {\n",
       "        text-align: right;\n",
       "    }\n",
       "</style>\n",
       "<table border=\"1\" class=\"dataframe\">\n",
       "  <thead>\n",
       "    <tr style=\"text-align: right;\">\n",
       "      <th></th>\n",
       "      <th>url</th>\n",
       "      <th>status</th>\n",
       "    </tr>\n",
       "  </thead>\n",
       "  <tbody>\n",
       "    <tr>\n",
       "      <th>0</th>\n",
       "      <td>0000111servicehelpdesk.godaddysites.com</td>\n",
       "      <td>0</td>\n",
       "    </tr>\n",
       "    <tr>\n",
       "      <th>1</th>\n",
       "      <td>000011accesswebform.godaddysites.com</td>\n",
       "      <td>0</td>\n",
       "    </tr>\n",
       "    <tr>\n",
       "      <th>2</th>\n",
       "      <td>00003.online</td>\n",
       "      <td>0</td>\n",
       "    </tr>\n",
       "    <tr>\n",
       "      <th>3</th>\n",
       "      <td>0009servicedeskowa.godaddysites.com</td>\n",
       "      <td>0</td>\n",
       "    </tr>\n",
       "    <tr>\n",
       "      <th>4</th>\n",
       "      <td>000n38p.wcomhost.com</td>\n",
       "      <td>0</td>\n",
       "    </tr>\n",
       "    <tr>\n",
       "      <th>...</th>\n",
       "      <td>...</td>\n",
       "      <td>...</td>\n",
       "    </tr>\n",
       "    <tr>\n",
       "      <th>822005</th>\n",
       "      <td>zzufg.com</td>\n",
       "      <td>0</td>\n",
       "    </tr>\n",
       "    <tr>\n",
       "      <th>822006</th>\n",
       "      <td>zzu.li</td>\n",
       "      <td>0</td>\n",
       "    </tr>\n",
       "    <tr>\n",
       "      <th>822007</th>\n",
       "      <td>zzz.co.uk</td>\n",
       "      <td>0</td>\n",
       "    </tr>\n",
       "    <tr>\n",
       "      <th>822008</th>\n",
       "      <td>zzzoolight.co.za</td>\n",
       "      <td>0</td>\n",
       "    </tr>\n",
       "    <tr>\n",
       "      <th>822009</th>\n",
       "      <td>zzzoolight.co.za0-i-fdik.000webhostapp.com</td>\n",
       "      <td>0</td>\n",
       "    </tr>\n",
       "  </tbody>\n",
       "</table>\n",
       "<p>822010 rows × 2 columns</p>\n",
       "</div>"
      ],
      "text/plain": [
       "                                               url  status\n",
       "0          0000111servicehelpdesk.godaddysites.com       0\n",
       "1             000011accesswebform.godaddysites.com       0\n",
       "2                                     00003.online       0\n",
       "3              0009servicedeskowa.godaddysites.com       0\n",
       "4                             000n38p.wcomhost.com       0\n",
       "...                                            ...     ...\n",
       "822005                                   zzufg.com       0\n",
       "822006                                      zzu.li       0\n",
       "822007                                   zzz.co.uk       0\n",
       "822008                            zzzoolight.co.za       0\n",
       "822009  zzzoolight.co.za0-i-fdik.000webhostapp.com       0\n",
       "\n",
       "[822010 rows x 2 columns]"
      ]
     },
     "execution_count": 28,
     "metadata": {},
     "output_type": "execute_result"
    }
   ],
   "source": [
    "df"
   ]
  },
  {
   "cell_type": "code",
   "execution_count": 29,
   "id": "f8b92603",
   "metadata": {},
   "outputs": [
    {
     "name": "stdout",
     "output_type": "stream",
     "text": [
      "<class 'pandas.core.frame.DataFrame'>\n",
      "RangeIndex: 822010 entries, 0 to 822009\n",
      "Data columns (total 2 columns):\n",
      " #   Column  Non-Null Count   Dtype \n",
      "---  ------  --------------   ----- \n",
      " 0   url     822010 non-null  object\n",
      " 1   status  822010 non-null  int64 \n",
      "dtypes: int64(1), object(1)\n",
      "memory usage: 12.5+ MB\n"
     ]
    }
   ],
   "source": [
    "df.info()"
   ]
  },
  {
   "cell_type": "code",
   "execution_count": 30,
   "id": "fa852f99",
   "metadata": {},
   "outputs": [
    {
     "data": {
      "text/plain": [
       "array([0, 1])"
      ]
     },
     "execution_count": 30,
     "metadata": {},
     "output_type": "execute_result"
    }
   ],
   "source": [
    "df[\"status\"].unique()"
   ]
  },
  {
   "cell_type": "code",
   "execution_count": 31,
   "id": "074269f6",
   "metadata": {},
   "outputs": [
    {
     "data": {
      "text/plain": [
       "np.int64(13968)"
      ]
     },
     "execution_count": 31,
     "metadata": {},
     "output_type": "execute_result"
    }
   ],
   "source": [
    "df.duplicated().sum()"
   ]
  },
  {
   "cell_type": "code",
   "execution_count": 32,
   "id": "becbf703",
   "metadata": {},
   "outputs": [],
   "source": [
    "df.drop_duplicates(inplace= True)"
   ]
  },
  {
   "cell_type": "code",
   "execution_count": 33,
   "id": "1f45fc1c",
   "metadata": {},
   "outputs": [
    {
     "data": {
      "text/plain": [
       "url       0\n",
       "status    0\n",
       "dtype: int64"
      ]
     },
     "execution_count": 33,
     "metadata": {},
     "output_type": "execute_result"
    }
   ],
   "source": [
    "df.isna().sum()"
   ]
  },
  {
   "cell_type": "code",
   "execution_count": 34,
   "id": "88e2c838",
   "metadata": {},
   "outputs": [],
   "source": [
    "cat = df.select_dtypes(\"object\")"
   ]
  },
  {
   "cell_type": "code",
   "execution_count": 35,
   "id": "0c108f34",
   "metadata": {},
   "outputs": [],
   "source": [
    "le = LabelEncoder()\n",
    "for y in cat:\n",
    "    df[y] = le.fit_transform(df[y])"
   ]
  },
  {
   "cell_type": "code",
   "execution_count": 36,
   "id": "104bfbf9",
   "metadata": {},
   "outputs": [],
   "source": [
    "X = df.drop(columns=['status'])\n",
    "y = df['status']\n",
    "X_train, X_test, y_train, y_test = train_test_split(X, y, test_size=0.2, random_state=42)"
   ]
  },
  {
   "cell_type": "code",
   "execution_count": 37,
   "id": "ac6dc4d0",
   "metadata": {},
   "outputs": [],
   "source": [
    "smote = SMOTE(sampling_strategy = 'minority')\n",
    "X_resample,y_resample = smote.fit_resample(X_train,y_train)"
   ]
  },
  {
   "cell_type": "code",
   "execution_count": 38,
   "id": "d876f952",
   "metadata": {},
   "outputs": [
    {
     "name": "stdout",
     "output_type": "stream",
     "text": [
      "              precision    recall  f1-score   support\n",
      "\n",
      "           0       0.35      0.20      0.26     76221\n",
      "           1       0.48      0.66      0.56     85388\n",
      "\n",
      "    accuracy                           0.45    161609\n",
      "   macro avg       0.42      0.43      0.41    161609\n",
      "weighted avg       0.42      0.45      0.42    161609\n",
      "\n"
     ]
    }
   ],
   "source": [
    "model = LogisticRegression()\n",
    "model.fit(X_train, y_train)\n",
    "pred = model.predict(X_test)\n",
    "print(classification_report(y_test,pred))\n"
   ]
  },
  {
   "cell_type": "code",
   "execution_count": null,
   "id": "2c6ad8ea",
   "metadata": {},
   "outputs": [],
   "source": []
  }
 ],
 "metadata": {
  "kernelspec": {
   "display_name": ".venv",
   "language": "python",
   "name": "python3"
  },
  "language_info": {
   "codemirror_mode": {
    "name": "ipython",
    "version": 3
   },
   "file_extension": ".py",
   "mimetype": "text/x-python",
   "name": "python",
   "nbconvert_exporter": "python",
   "pygments_lexer": "ipython3",
   "version": "3.12.3"
  }
 },
 "nbformat": 4,
 "nbformat_minor": 5
}
