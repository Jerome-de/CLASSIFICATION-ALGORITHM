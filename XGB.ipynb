{
 "cells": [
  {
   "cell_type": "code",
   "execution_count": 22,
   "id": "a846c878",
   "metadata": {},
   "outputs": [],
   "source": [
    "import pandas as pd\n",
    "import seaborn as  sns\n",
    "import matplotlib.pyplot as plt\n",
    "import numpy as np\n",
    "from scipy.stats import zscore\n",
    "from imblearn.over_sampling import SMOTE\n",
    "from sklearn.preprocessing import LabelEncoder\n",
    "from sklearn.model_selection import train_test_split\n",
    "from xgboost import XGBClassifier"
   ]
  },
  {
   "cell_type": "code",
   "execution_count": 3,
   "id": "9a9e261d",
   "metadata": {},
   "outputs": [],
   "source": [
    "df = pd.read_csv(\"/home/jerome/Documents/CSV FILE/loan data.csv\")"
   ]
  },
  {
   "cell_type": "code",
   "execution_count": 4,
   "id": "7fb2ca0a",
   "metadata": {},
   "outputs": [
    {
     "data": {
      "application/vnd.microsoft.datawrangler.viewer.v0+json": {
       "columns": [
        {
         "name": "index",
         "rawType": "int64",
         "type": "integer"
        },
        {
         "name": "Loan_ID",
         "rawType": "object",
         "type": "string"
        },
        {
         "name": "Gender",
         "rawType": "object",
         "type": "string"
        },
        {
         "name": "Married",
         "rawType": "object",
         "type": "string"
        },
        {
         "name": "ApplicantIncome",
         "rawType": "float64",
         "type": "float"
        },
        {
         "name": "LoanAmount",
         "rawType": "float64",
         "type": "float"
        },
        {
         "name": "Loan_Status",
         "rawType": "object",
         "type": "string"
        }
       ],
       "conversionMethod": "pd.DataFrame",
       "ref": "b1838997-51ab-44a2-8c9c-f6c7e688a80f",
       "rows": [
        [
         "0",
         "LP001256",
         "Male",
         "No",
         "3750.0",
         "176.0",
         "N"
        ],
        [
         "1",
         "LP001404",
         "Female",
         "Yes",
         "3167.0",
         "154.0",
         "Y"
        ],
        [
         "2",
         "LP001370",
         "Male",
         "No",
         "7333.0",
         "120.0",
         "N"
        ],
        [
         "3",
         "LP002435",
         "Male",
         "Yes",
         "3539.0",
         "55.0",
         "N"
        ],
        [
         "4",
         "LP001877",
         "Male",
         "Yes",
         "4708.0",
         null,
         "Y"
        ],
        [
         "5",
         "LP002205",
         "Male",
         "No",
         "3062.0",
         "111.0",
         "N"
        ],
        [
         "6",
         "LP002143",
         "Female",
         "Yes",
         "2423.0",
         "130.0",
         "Y"
        ],
        [
         "7",
         "LP001854",
         "Male",
         "Yes",
         "5250.0",
         "94.0",
         "N"
        ],
        [
         "8",
         "LP002160",
         "Male",
         "Yes",
         "5167.0",
         "200.0",
         "Y"
        ],
        [
         "9",
         "LP001146",
         "Female",
         "Yes",
         "2645.0",
         "120.0",
         "N"
        ],
        [
         "10",
         "LP002098",
         "Male",
         "No",
         "2935.0",
         "98.0",
         "Y"
        ],
        [
         "11",
         "LP002315",
         "Male",
         "Yes",
         "8300.0",
         "152.0",
         "N"
        ],
        [
         "12",
         "LP002983",
         "Male",
         "Yes",
         "8072.0",
         "253.0",
         "Y"
        ],
        [
         "13",
         "LP001894",
         "Male",
         "Yes",
         "2620.0",
         null,
         "Y"
        ],
        [
         "14",
         "LP002234",
         "Male",
         "No",
         "7167.0",
         "128.0",
         "Y"
        ],
        [
         "15",
         "LP001908",
         "Female",
         "Yes",
         "4100.0",
         "124.0",
         "Y"
        ],
        [
         "16",
         "LP001910",
         "Male",
         "No",
         "4053.0",
         "158.0",
         "N"
        ],
        [
         "17",
         "LP001310",
         "Male",
         "Yes",
         "5695.0",
         "175.0",
         "Y"
        ],
        [
         "18",
         "LP001100",
         "Male",
         "No",
         "12500.0",
         "320.0",
         "N"
        ],
        [
         "19",
         "LP001241",
         "Female",
         "No",
         "4300.0",
         "136.0",
         "N"
        ],
        [
         "20",
         "LP002959",
         "Female",
         "Yes",
         "12000.0",
         "496.0",
         "Y"
        ],
        [
         "21",
         "LP002960",
         "Male",
         "Yes",
         "2400.0",
         null,
         "N"
        ],
        [
         "22",
         "LP001872",
         "Male",
         "No",
         "5166.0",
         "128.0",
         "Y"
        ],
        [
         "23",
         "LP002519",
         "Male",
         "Yes",
         "4691.0",
         "100.0",
         "Y"
        ],
        [
         "24",
         "LP002634",
         "Female",
         "No",
         "13262.0",
         "40.0",
         "Y"
        ],
        [
         "25",
         "LP001955",
         "Female",
         "No",
         "5000.0",
         "151.0",
         "N"
        ],
        [
         "26",
         "LP001792",
         "Male",
         "Yes",
         "3315.0",
         "96.0",
         "Y"
        ],
        [
         "27",
         "LP001068",
         "Male",
         "Yes",
         "2799.0",
         "122.0",
         "Y"
        ],
        [
         "28",
         "LP001900",
         "Male",
         "Yes",
         null,
         null,
         "Y"
        ],
        [
         "29",
         "LP002004",
         "Male",
         "No",
         "2927.0",
         "111.0",
         "Y"
        ],
        [
         "30",
         "LP002789",
         "Male",
         "Yes",
         null,
         "132.0",
         "N"
        ],
        [
         "31",
         "LP001106",
         "Male",
         "Yes",
         "2275.0",
         null,
         "Y"
        ],
        [
         "32",
         "LP001658",
         "Male",
         "No",
         "3858.0",
         "76.0",
         "Y"
        ],
        [
         "33",
         "LP002841",
         "Male",
         "Yes",
         "3166.0",
         "104.0",
         "N"
        ],
        [
         "34",
         "LP001594",
         "Male",
         "Yes",
         "5708.0",
         "187.0",
         "Y"
        ],
        [
         "35",
         "LP002158",
         "Male",
         "Yes",
         "3000.0",
         "100.0",
         "N"
        ],
        [
         "36",
         "LP002335",
         "Female",
         "Yes",
         "2149.0",
         "178.0",
         "N"
        ],
        [
         "37",
         "LP001432",
         "Male",
         "Yes",
         "2957.0",
         "81.0",
         "Y"
        ],
        [
         "38",
         "LP002716",
         "Male",
         "No",
         "6783.0",
         "130.0",
         "Y"
        ],
        [
         "39",
         "LP001691",
         "Male",
         "Yes",
         "3917.0",
         "124.0",
         "Y"
        ],
        [
         "40",
         "LP001532",
         "Male",
         "Yes",
         "2281.0",
         "113.0",
         "N"
        ],
        [
         "41",
         "LP002911",
         "Male",
         "Yes",
         "2787.0",
         "146.0",
         "N"
        ],
        [
         "42",
         "LP001405",
         "Male",
         "Yes",
         "2214.0",
         "85.0",
         "Y"
        ],
        [
         "43",
         "LP001713",
         "Male",
         "Yes",
         "7787.0",
         "240.0",
         "Y"
        ],
        [
         "44",
         "LP001431",
         "Female",
         "No",
         "2137.0",
         "137.0",
         "Y"
        ],
        [
         "45",
         "LP001492",
         "Male",
         "No",
         "14999.0",
         "242.0",
         "N"
        ],
        [
         "46",
         "LP002187",
         "Male",
         "No",
         "2500.0",
         "96.0",
         "N"
        ],
        [
         "47",
         "LP002229",
         "Male",
         "No",
         "5941.0",
         "296.0",
         "Y"
        ],
        [
         "48",
         "LP001028",
         "Male",
         "Yes",
         "3073.0",
         "200.0",
         "Y"
        ],
        [
         "49",
         "LP001754",
         "Male",
         "Yes",
         "4735.0",
         "138.0",
         "N"
        ]
       ],
       "shape": {
        "columns": 6,
        "rows": 10000
       }
      },
      "text/html": [
       "<div>\n",
       "<style scoped>\n",
       "    .dataframe tbody tr th:only-of-type {\n",
       "        vertical-align: middle;\n",
       "    }\n",
       "\n",
       "    .dataframe tbody tr th {\n",
       "        vertical-align: top;\n",
       "    }\n",
       "\n",
       "    .dataframe thead th {\n",
       "        text-align: right;\n",
       "    }\n",
       "</style>\n",
       "<table border=\"1\" class=\"dataframe\">\n",
       "  <thead>\n",
       "    <tr style=\"text-align: right;\">\n",
       "      <th></th>\n",
       "      <th>Loan_ID</th>\n",
       "      <th>Gender</th>\n",
       "      <th>Married</th>\n",
       "      <th>ApplicantIncome</th>\n",
       "      <th>LoanAmount</th>\n",
       "      <th>Loan_Status</th>\n",
       "    </tr>\n",
       "  </thead>\n",
       "  <tbody>\n",
       "    <tr>\n",
       "      <th>0</th>\n",
       "      <td>LP001256</td>\n",
       "      <td>Male</td>\n",
       "      <td>No</td>\n",
       "      <td>3750.0</td>\n",
       "      <td>176.0</td>\n",
       "      <td>N</td>\n",
       "    </tr>\n",
       "    <tr>\n",
       "      <th>1</th>\n",
       "      <td>LP001404</td>\n",
       "      <td>Female</td>\n",
       "      <td>Yes</td>\n",
       "      <td>3167.0</td>\n",
       "      <td>154.0</td>\n",
       "      <td>Y</td>\n",
       "    </tr>\n",
       "    <tr>\n",
       "      <th>2</th>\n",
       "      <td>LP001370</td>\n",
       "      <td>Male</td>\n",
       "      <td>No</td>\n",
       "      <td>7333.0</td>\n",
       "      <td>120.0</td>\n",
       "      <td>N</td>\n",
       "    </tr>\n",
       "    <tr>\n",
       "      <th>3</th>\n",
       "      <td>LP002435</td>\n",
       "      <td>Male</td>\n",
       "      <td>Yes</td>\n",
       "      <td>3539.0</td>\n",
       "      <td>55.0</td>\n",
       "      <td>N</td>\n",
       "    </tr>\n",
       "    <tr>\n",
       "      <th>4</th>\n",
       "      <td>LP001877</td>\n",
       "      <td>Male</td>\n",
       "      <td>Yes</td>\n",
       "      <td>4708.0</td>\n",
       "      <td>NaN</td>\n",
       "      <td>Y</td>\n",
       "    </tr>\n",
       "    <tr>\n",
       "      <th>...</th>\n",
       "      <td>...</td>\n",
       "      <td>...</td>\n",
       "      <td>...</td>\n",
       "      <td>...</td>\n",
       "      <td>...</td>\n",
       "      <td>...</td>\n",
       "    </tr>\n",
       "    <tr>\n",
       "      <th>9995</th>\n",
       "      <td>LP002467</td>\n",
       "      <td>Male</td>\n",
       "      <td>Yes</td>\n",
       "      <td>3708.0</td>\n",
       "      <td>173.0</td>\n",
       "      <td>N</td>\n",
       "    </tr>\n",
       "    <tr>\n",
       "      <th>9996</th>\n",
       "      <td>LP001630</td>\n",
       "      <td>Male</td>\n",
       "      <td>No</td>\n",
       "      <td>2333.0</td>\n",
       "      <td>102.0</td>\n",
       "      <td>N</td>\n",
       "    </tr>\n",
       "    <tr>\n",
       "      <th>9997</th>\n",
       "      <td>LP002053</td>\n",
       "      <td>Male</td>\n",
       "      <td>Yes</td>\n",
       "      <td>4342.0</td>\n",
       "      <td>NaN</td>\n",
       "      <td>Y</td>\n",
       "    </tr>\n",
       "    <tr>\n",
       "      <th>9998</th>\n",
       "      <td>LP001990</td>\n",
       "      <td>Male</td>\n",
       "      <td>No</td>\n",
       "      <td>2000.0</td>\n",
       "      <td>NaN</td>\n",
       "      <td>N</td>\n",
       "    </tr>\n",
       "    <tr>\n",
       "      <th>9999</th>\n",
       "      <td>LP001751</td>\n",
       "      <td>Male</td>\n",
       "      <td>Yes</td>\n",
       "      <td>3250.0</td>\n",
       "      <td>170.0</td>\n",
       "      <td>N</td>\n",
       "    </tr>\n",
       "  </tbody>\n",
       "</table>\n",
       "<p>10000 rows × 6 columns</p>\n",
       "</div>"
      ],
      "text/plain": [
       "       Loan_ID  Gender Married  ApplicantIncome  LoanAmount Loan_Status\n",
       "0     LP001256    Male      No           3750.0       176.0           N\n",
       "1     LP001404  Female     Yes           3167.0       154.0           Y\n",
       "2     LP001370    Male      No           7333.0       120.0           N\n",
       "3     LP002435    Male     Yes           3539.0        55.0           N\n",
       "4     LP001877    Male     Yes           4708.0         NaN           Y\n",
       "...        ...     ...     ...              ...         ...         ...\n",
       "9995  LP002467    Male     Yes           3708.0       173.0           N\n",
       "9996  LP001630    Male      No           2333.0       102.0           N\n",
       "9997  LP002053    Male     Yes           4342.0         NaN           Y\n",
       "9998  LP001990    Male      No           2000.0         NaN           N\n",
       "9999  LP001751    Male     Yes           3250.0       170.0           N\n",
       "\n",
       "[10000 rows x 6 columns]"
      ]
     },
     "execution_count": 4,
     "metadata": {},
     "output_type": "execute_result"
    }
   ],
   "source": [
    "df"
   ]
  },
  {
   "cell_type": "code",
   "execution_count": 5,
   "id": "fdacfdd2",
   "metadata": {},
   "outputs": [
    {
     "data": {
      "text/plain": [
       "np.int64(8696)"
      ]
     },
     "execution_count": 5,
     "metadata": {},
     "output_type": "execute_result"
    }
   ],
   "source": [
    "df.duplicated().sum()"
   ]
  },
  {
   "cell_type": "code",
   "execution_count": 6,
   "id": "6fa70462",
   "metadata": {},
   "outputs": [],
   "source": [
    "df = df.drop_duplicates()"
   ]
  },
  {
   "cell_type": "code",
   "execution_count": 7,
   "id": "092e2537",
   "metadata": {},
   "outputs": [
    {
     "data": {
      "text/plain": [
       "Loan_ID              0\n",
       "Gender               0\n",
       "Married              0\n",
       "ApplicantIncome    369\n",
       "LoanAmount         400\n",
       "Loan_Status          0\n",
       "dtype: int64"
      ]
     },
     "execution_count": 7,
     "metadata": {},
     "output_type": "execute_result"
    }
   ],
   "source": [
    "df.isna().sum()"
   ]
  },
  {
   "cell_type": "code",
   "execution_count": 8,
   "id": "828b5ab0",
   "metadata": {},
   "outputs": [],
   "source": [
    "df = df.dropna()"
   ]
  },
  {
   "cell_type": "code",
   "execution_count": 9,
   "id": "028cbe4e",
   "metadata": {},
   "outputs": [],
   "source": [
    "df[\"Loan_ID\"] = df.drop(\"Loan_ID\", axis = 1, inplace= True)"
   ]
  },
  {
   "cell_type": "code",
   "execution_count": 10,
   "id": "ba311ba7",
   "metadata": {},
   "outputs": [
    {
     "data": {
      "image/png": "[encoded data removed]",
      "text/plain": [
       "<Figure size 640x480 with 1 Axes>"
      ]
     },
     "metadata": {},
     "output_type": "display_data"
    },
    {
     "data": {
      "image/png": "[encoded data removed]",
      "text/plain": [
       "<Figure size 640x480 with 1 Axes>"
      ]
     },
     "metadata": {},
     "output_type": "display_data"
    }
   ],
   "source": [
    "num = df.select_dtypes(\"number\")\n",
    "cat = df.select_dtypes(\"object\")\n",
    "for x in num.columns:\n",
    "    sns.boxplot(x = num[x])\n",
    "    plt.show()"
   ]
  },
  {
   "cell_type": "code",
   "execution_count": 11,
   "id": "a1794633",
   "metadata": {},
   "outputs": [],
   "source": [
    "out = []\n",
    "def Zscore_cutlier(df):\n",
    "    m = np.mean(df)\n",
    "    sd "
   ]
  },
  {
   "cell_type": "code",
   "execution_count": 12,
   "id": "d28ee36a",
   "metadata": {},
   "outputs": [
    {
     "data": {
      "image/png": "[encoded data removed]",
      "text/plain": [
       "<Figure size 640x480 with 1 Axes>"
      ]
     },
     "metadata": {},
     "output_type": "display_data"
    },
    {
     "data": {
      "image/png": "[encoded data removed]",
      "text/plain": [
       "<Figure size 640x480 with 1 Axes>"
      ]
     },
     "metadata": {},
     "output_type": "display_data"
    },
    {
     "data": {
      "image/png": "[encoded data removed]",
      "text/plain": [
       "<Figure size 640x480 with 1 Axes>"
      ]
     },
     "metadata": {},
     "output_type": "display_data"
    },
    {
     "data": {
      "image/png": "[encoded data removed]",
      "text/plain": [
       "<Figure size 640x480 with 1 Axes>"
      ]
     },
     "metadata": {},
     "output_type": "display_data"
    }
   ],
   "source": [
    "for y in cat.columns:\n",
    "    sns.barplot(cat[y].value_counts())\n",
    "    plt.show()"
   ]
  },
  {
   "cell_type": "code",
   "execution_count": 13,
   "id": "9363e904",
   "metadata": {},
   "outputs": [
    {
     "name": "stdout",
     "output_type": "stream",
     "text": [
      "[2.64548010e-01 3.64237453e-01 3.48123130e-01 3.00627723e-01\n",
      " 3.82191813e-01 4.91456914e-01 8.05716140e-03 2.22496550e-02\n",
      " 4.53496268e-01 4.03908038e-01 5.13474231e-01 4.74487622e-01\n",
      " 3.19738143e-01 2.04700145e-01 2.12736859e-01 6.80351237e-02\n",
      " 1.23164861e+00 1.70501365e-01 1.14615166e+00 2.24206489e-02\n",
      " 1.03642751e-01 1.36194596e+00 5.08056362e-02 3.38930356e-01\n",
      " 4.27163208e-01 4.05275989e-01 2.46080669e-01 3.64408447e-01\n",
      " 7.02580444e-02 3.92793434e-01 5.38309242e-01 4.00146172e-01\n",
      " 2.54076486e-01 2.35992029e-01 5.15738048e-01 4.29215135e-01\n",
      " 5.27194639e-01 4.25754360e-01 5.40361169e-01 1.65896236e+00\n",
      " 4.78290384e-01 1.10099623e-01 3.80310880e-01 9.61190194e-02\n",
      " 3.78087959e-01 5.51646766e-01 3.30209667e-01 3.25380942e-01\n",
      " 3.90871605e-01 1.20188263e-01 6.27910045e-01 6.70145538e-01\n",
      " 3.37049423e-01 3.99975178e-01 2.50355516e-01 4.64097890e-01\n",
      " 1.75761280e-01 6.20557308e-01 2.54248784e+00 5.12318170e-01\n",
      " 2.60273162e-01 9.35541109e-02 1.77129231e-01 6.49572335e-02\n",
      " 5.06846365e-01 1.60529784e-02 3.19266058e-01 1.63319622e-01\n",
      " 2.71729754e-01 5.67720193e-01 4.64097890e-01 1.85064652e+00\n",
      " 4.64097890e-01 2.92249022e-01 3.21488978e-01 6.94030749e-02\n",
      " 3.77574977e-01 6.94030749e-02 3.63211490e-01 4.12970714e-01\n",
      " 3.65605404e-01 3.38759362e-01 4.81881256e-01 3.92793434e-01\n",
      " 6.04996863e-01 4.79829329e-01 2.21799535e-01 2.04988197e-02\n",
      " 2.62496083e-01 5.70969077e-01 3.34655509e-01 1.65913335e+00\n",
      " 5.53869687e-01 1.50666073e-01 3.00285735e-01 4.05235093e-01\n",
      " 5.93380984e+00 3.15846180e-01 4.73844542e-01 3.19779039e-01\n",
      " 2.44541724e-01 5.08056362e-02 3.66590471e-01 5.97986113e-01\n",
      " 5.33350419e-01 2.05685212e-01 5.70969077e-01 3.64408447e-01\n",
      " 4.77093426e-01 1.73750250e-01 4.59652049e-01 5.41558126e-01\n",
      " 1.68579536e-01 2.74465656e-01 1.22110092e-01 1.10460014e+00\n",
      " 4.45247665e-01 5.98800186e-01 4.36238924e-02 2.70190809e-01\n",
      " 1.20188263e-01 5.06846365e-01 8.90673733e-02 1.03471757e-01\n",
      " 5.93198284e-01 4.06985928e-01 2.90197095e-01 2.78740504e-01\n",
      " 2.22905602e+00 5.30956505e-01 3.07809466e-01 5.20525877e-01\n",
      " 5.19117029e-01 3.93648404e-01 6.88400989e-01 7.34781232e-01\n",
      " 3.05586546e-01 2.64889998e-01 3.31748612e-01 1.33867775e-01\n",
      " 8.34641669e-01 4.17717647e-01 2.78740504e-01 1.87287573e+00\n",
      " 1.88585822e-01 1.93414548e-01 3.26393866e-02 5.64984291e-01\n",
      " 4.39645763e-01 1.07021733e-01 1.64858567e-01 2.53604400e-01\n",
      " 2.91394052e-01 3.86637654e-01 1.83154914e-01 2.05555115e-01\n",
      " 3.35852466e-01 5.78812303e+00 3.79968892e-01 2.34282090e-01\n",
      " 3.58594654e-01 1.73408262e-01 1.22110092e-01 2.64548010e-01\n",
      " 2.72413729e-01 6.32184893e-01 4.10747794e-01 2.30691218e-01\n",
      " 1.73408262e-01 1.22110092e-01 2.60745248e-01 1.58782890e+00\n",
      " 1.41945384e-01 1.27068915e-01 5.94566235e-01 4.41184708e-01\n",
      " 4.75855573e-01 5.35573340e-01 6.49284283e-01 1.20188263e-01\n",
      " 1.17835245e-01 4.62176061e-01 3.53635831e-01 1.93243554e-01\n",
      " 4.04038135e-01 7.67558125e-02 5.06846365e-01 1.57122945e-01\n",
      " 1.42930451e-01 1.87600755e-01 2.04988197e-02 5.19288023e-01\n",
      " 7.04699345e-02 6.88400989e-01 3.46913134e-02 6.39721664e-02\n",
      " 4.41013714e-01 3.03363625e-01 1.94400919e+00 5.32125901e-03\n",
      " 9.09483061e-02 5.25997682e-01 7.76516783e-02 2.13249840e-01\n",
      " 5.40190175e-01 5.88923436e-01 3.05586546e-01 5.61393419e-01\n",
      " 8.59894831e-02 3.33930637e-01 2.82632467e-01 5.19117029e-01\n",
      " 4.01631181e-02 9.46601777e-01 3.45599118e-01 1.78891772e+00\n",
      " 1.52034024e-01 5.41216139e-01 1.62936738e-01 1.28265872e-01\n",
      " 3.52042951e-02 4.32464019e-01 7.97837085e-01 1.64858567e-01\n",
      " 3.74272157e-02 3.44402161e-01 4.06472946e-01 3.07296485e-01\n",
      " 2.45909675e-01 1.85678926e-01 5.58958608e-01 4.57771116e-01\n",
      " 2.55998315e-01 1.14615166e+00 3.78600941e-01 1.10311513e-01\n",
      " 2.20032904e+00 5.49594840e-01 3.53122850e-01 7.30506385e-01\n",
      " 2.46793450e+00 3.24395875e-01 2.81305412e-01 3.87150636e-01\n",
      " 6.61725941e-01 1.29594231e+00 1.93414548e-01 4.44433592e-01\n",
      " 4.10918788e-01 6.47362454e-01 1.94418018e+00 4.69740689e-01\n",
      " 2.86777217e-01 3.22843594e-03 1.27882988e-01 3.13623259e-01\n",
      " 6.61554947e-01 7.95484066e-01 4.95389774e-01 3.76549014e-01\n",
      " 4.78461378e-01 6.42786515e-01 8.91883729e-01 3.24395875e-01\n",
      " 3.95016355e-01 1.61951671e-01 5.19117029e-01 4.14167672e-01\n",
      " 5.22919791e-01 5.85161571e-01 1.63622017e+00 5.76057998e-01\n",
      " 1.63861409e+00 2.92195086e-02 2.64548010e-01 2.07237493e-03\n",
      " 2.90710077e-01 6.83654057e-01 1.22110092e-01 3.83901751e-01\n",
      " 1.20188263e-01 7.33359345e-02 1.99057347e-01 2.48132596e-01\n",
      " 4.65123854e-01 4.56916146e-01 2.38556937e-01 5.10950218e-01\n",
      " 5.61393419e-01 3.60475587e-01 3.35852466e-01 2.53946388e-01\n",
      " 2.04988197e-02 3.10545369e-01 3.75181063e-01 4.49734403e-01\n",
      " 8.27932011e-01 1.28737958e-01 4.49905397e-01 1.12493537e-01\n",
      " 6.32472945e-02 2.99259771e-01 8.05716140e-03 3.62014532e-01\n",
      " 2.04609255e+00 2.74636650e-01 1.62936738e-01 4.95389774e-01\n",
      " 1.00906849e-01 1.53401976e-01 2.87290199e-01 1.41562500e-01\n",
      " 4.06985928e-01 2.21799535e-01 4.52128317e-01 1.00735855e-01\n",
      " 9.81709462e-02 3.92793434e-01 2.77372552e-01 8.04163859e-01\n",
      " 1.67553573e-01 4.78290384e-01 3.65605404e-01 5.53527699e-01\n",
      " 3.66289380e-01 4.21349415e-01 4.78290384e-01 1.07917598e-01\n",
      " 5.08056362e-02 4.53154281e-01 5.08056362e-02 3.90016636e-01\n",
      " 2.64548010e-01 3.46913134e-02 1.36603677e-01 2.26074383e-01\n",
      " 5.56092608e-01 6.13533222e-03 1.93414548e-01 1.22110092e-01\n",
      " 2.77201558e-01 1.63962701e-01 5.94566235e-01 2.23851462e-01\n",
      " 5.13002145e-01 4.99151639e-01 3.46112100e-01 4.13996678e-01\n",
      " 3.64408447e-01 1.70501365e-01 5.78150821e-01 7.53378671e-01\n",
      " 8.20975197e-02 4.95389774e-01 9.92446545e+00 4.33147994e-01\n",
      " 4.29557123e-01 5.04623444e-01 4.50719470e-01 1.89139700e-01\n",
      " 1.29447307e+01 2.55394443e+00 2.53775394e-01 5.27365633e-01\n",
      " 5.76098894e-01 4.78290384e-01 1.09073659e-01 2.69807925e-01\n",
      " 1.91989905e+00 6.01694043e-02 1.94440511e-01 5.90421485e-01\n",
      " 4.78290384e-01 4.88168438e+00 3.66631368e-01 6.89255959e-01\n",
      " 2.41121846e-01 1.14928348e-01 3.97752257e-01 1.20188263e-01\n",
      " 1.88585822e-01 4.35541909e-01 2.12524968e-01 9.32409283e-01\n",
      " 5.93553311e-02 5.58486522e-01 4.88721012e-01 5.84306601e-01\n",
      " 3.07296485e-01 3.63211490e-01 4.98296670e-01 2.24152553e-01\n",
      " 8.04163859e-01 3.05716643e-01 5.54394375e+00 5.79689766e-01\n",
      " 2.68480870e-01 5.07359347e-01 3.35852466e-01 2.79937461e-01\n",
      " 2.70190809e-01 3.24395875e-01 4.78290384e-01 4.32293025e-01\n",
      " 3.98778221e-01 1.16467293e-01 4.40671726e-01 5.23261779e-01\n",
      " 8.69866413e-01 4.63188985e-02 4.86156103e-01 6.87599956e-02\n",
      " 1.22110092e-01 4.49905397e-01 1.34380757e-01 7.38898125e-02\n",
      " 1.93414548e-01 4.61190994e-01 9.75157758e-01 2.70361803e-01\n",
      " 6.49981298e-02 4.22559412e-02 3.90570514e-01 1.89652682e-01\n",
      " 3.13110277e-01 5.97986113e-01 3.07296485e-01 1.00012287e+00\n",
      " 1.56137878e-01 2.08661810e+00 5.68876254e-01 1.20188263e-01\n",
      " 4.61190994e-01 1.62977634e-01 7.67558125e-02 2.20773572e-01\n",
      " 1.25016988e-01 1.91717648e-02 3.48123130e-01 5.91830333e-01\n",
      " 1.60492829e+00 7.20034861e-01 1.64858567e-01 3.58594654e-01\n",
      " 2.03674182e-01 8.73929370e-01 4.61190994e-01 1.01790623e+00\n",
      " 4.61190994e-01 1.31302866e-01 2.38898925e-01 3.96213312e-01\n",
      " 3.49360984e-01 2.47448620e-01 4.61190994e-01 3.90228526e-01\n",
      " 3.87834611e-01 3.31577618e-01 4.76580445e-01 6.26042152e-02\n",
      " 2.20260590e-01 3.61672545e-01 3.78600941e-01 4.78290384e-01\n",
      " 3.51070923e-01 2.90539083e-01 6.59201929e-01 9.26991414e-02\n",
      " 2.24022456e-01 5.70114108e-01 8.04163859e-01 4.09892824e-01\n",
      " 4.21349415e-01 4.61190994e-01 1.28995753e+00 1.70330372e-01\n",
      " 6.01064003e-01 3.23369911e-01 1.61267695e-01 5.87213497e-01\n",
      " 7.30506385e-01 3.50044959e-01 4.42723653e-01 1.19203196e-01\n",
      " 2.65654077e+00 3.21317984e-01 3.64237453e-01 2.21799535e-01\n",
      " 2.96023927e-02 5.35231352e-01 4.64097890e-01 3.03534619e-01\n",
      " 1.72553292e-01 3.08281552e-01 5.01203566e-01 4.01856111e-01\n",
      " 7.28926543e-01 4.99151639e-01 3.52267880e-01 3.75694044e-01\n",
      " 3.13110277e-01 1.81458014e-02 4.81026286e-01 1.68791426e-01\n",
      " 5.96447168e-01 4.34686940e-01 3.15463296e-01 8.80126047e-01\n",
      " 5.90421485e-01 4.44262598e-01 2.90881070e-01 1.93414548e-01\n",
      " 2.71900748e-01 5.76440882e-01 4.78290384e-01 8.25696051e-02\n",
      " 2.64548010e-01 3.64237453e-01 4.81197280e-01 7.25164678e-01\n",
      " 3.21317984e-01 3.35852466e-01 1.25831062e-01 3.71419197e-01\n",
      " 3.24566869e-01 3.21659972e-01 2.39883992e-01 2.94984924e-01\n",
      " 3.57226703e-01 1.58782890e+00 3.50728935e-01 7.47447820e-02\n",
      " 1.18177232e-01 7.19350885e-01 4.91114926e-01 3.22685936e-01\n",
      " 8.92383672e-02 2.22996492e-01 2.43173773e-01 3.80139886e-01\n",
      " 1.91020633e-01 8.95803550e-02 3.14307235e-01 2.31888175e-01\n",
      " 7.01279468e-02 1.62936738e-01 4.47682476e-01 2.00596292e-01\n",
      " 8.85543916e-02 2.45909675e-01 1.82470938e-01 4.78290384e-01\n",
      " 4.53284378e-01 3.65776398e-01 1.62936738e-01 2.42587000e+00\n",
      " 1.06065471e+00 5.96105180e-01 1.89611786e-01 8.75297321e-01\n",
      " 3.35852466e-01 5.08056362e-02 4.04934001e-01 1.05010702e-01\n",
      " 2.85922247e-01 4.98296670e-01 1.91492719e-01 4.50760366e-01\n",
      " 3.80994855e-01 1.04646221e+00 5.19117029e-01 4.89404987e-01\n",
      " 4.81881256e-01 4.11773757e-01 1.02958775e-01 3.09703439e-02\n",
      " 3.89886538e-01]\n"
     ]
    }
   ],
   "source": [
    "z = np.abs(zscore(df[\"ApplicantIncome\"]))\n",
    "print(z)"
   ]
  },
  {
   "cell_type": "code",
   "execution_count": 14,
   "id": "343e6e8d",
   "metadata": {},
   "outputs": [
    {
     "name": "stdout",
     "output_type": "stream",
     "text": [
      "[3.75532656e-01 1.09293531e-01 3.02166935e-01 1.08878253e+00\n",
      " 4.11082940e-01 1.81149151e-01 6.16813173e-01 6.65975337e-01\n",
      " 3.02166935e-01 5.68406060e-01 8.50899739e-02 1.30736959e+00\n",
      " 2.05352708e-01 2.53759821e-01 1.57700644e-01 3.63430877e-01\n",
      " 2.11818874e+00 1.08538480e-01 4.24810174e+00 2.05352708e-01\n",
      " 5.44202503e-01 1.27030921e+00 7.29881955e-02 5.92609616e-01\n",
      " 2.77963378e-01 4.11082940e-01 8.34645184e-01 4.95795389e-01\n",
      " 5.08652218e-01 5.44202503e-01 3.99736212e-01 7.74136292e-01\n",
      " 1.81149151e-01 2.53759821e-01 3.86879384e-01 1.24793035e-02\n",
      " 7.25729179e-01 1.15004647e+00 9.64367020e-02 1.17425003e+00\n",
      " 5.92609616e-01 1.82774606e+00 6.65975337e-01 8.43349236e-02\n",
      " 3.02166935e-01 6.16813173e-01 1.20640259e-01 3.02166935e-01\n",
      " 5.08652218e-01 7.26484229e-01 5.92609616e-01 2.66616650e-01\n",
      " 4.83693611e-01 1.69047372e-01 4.23184719e-01 2.41658043e-01\n",
      " 3.63430877e-01 6.78077115e-01 6.11177562e+00 8.10441628e-01\n",
      " 4.23184719e-01 1.81149151e-01 1.37998026e+00 5.44202503e-01\n",
      " 5.19998946e-01 1.81149151e-01 2.05352708e-01 2.53759821e-01\n",
      " 3.39227320e-01 1.14929142e+00 3.02166935e-01 1.39208204e+00\n",
      " 3.02166935e-01 4.23184719e-01 4.96550440e-01 2.05352708e-01\n",
      " 2.90065156e-01 1.81149151e-01 8.58848741e-01 2.65861600e-01\n",
      " 4.47388276e-01 6.89423844e-01 5.20753996e-01 9.55662968e-01\n",
      " 1.69047372e-01 4.95795389e-01 1.17242532e-02 1.47679449e+00\n",
      " 1.20640259e-01 1.69047372e-01 6.08864171e-02 1.87615318e+00\n",
      " 6.89423844e-01 4.23184719e-01 3.98981162e-01 4.84448661e-01\n",
      " 5.50668670e+00 2.06107758e-01 3.77525149e-04 8.43349236e-02\n",
      " 1.00407008e+00 1.56945594e-01 5.93364667e-01 1.18559676e+00\n",
      " 9.55662968e-01 4.83693611e-01 1.02827364e+00 1.31871632e+00\n",
      " 1.07668075e+00 5.44202503e-01 2.42413093e-01 9.07255855e-01\n",
      " 7.74891343e-01 6.28914952e-01 7.37830957e-01 5.08652218e-01\n",
      " 4.23939769e-01 1.36787848e+00 4.84448661e-01 7.29881955e-02\n",
      " 4.80295884e-02 6.04711395e-01 4.72346883e-01 4.71591832e-01\n",
      " 5.44202503e-01 7.37830957e-01 7.86238071e-01 1.17242532e-02\n",
      " 4.29650886e+00 1.20980031e+00 3.50574048e-01 4.23184719e-01\n",
      " 2.42413093e-01 1.02827364e+00 8.46746963e-01 4.23184719e-01\n",
      " 8.34645184e-01 4.23184719e-01 1.17242532e-02 4.48143326e-01\n",
      " 2.48124210e+00 2.05352708e-01 3.86879384e-01 5.69161110e-01\n",
      " 6.65975337e-01 1.22190209e+00 2.41658043e-01 3.86879384e-01\n",
      " 4.71591832e-01 7.99094899e-01 4.23184719e-01 2.53759821e-01\n",
      " 1.56945594e-01 1.57700644e-01 4.23184719e-01 7.29881955e-02\n",
      " 1.81149151e-01 3.02166935e-01 7.22331452e-02 3.98981162e-01\n",
      " 9.07255855e-01 2.17454486e-01 2.05352708e-01 5.44202503e-01\n",
      " 3.02166935e-01 1.13794469e+00 6.04711395e-01 4.87846387e-02\n",
      " 3.27125542e-01 1.33157315e+00 4.80295884e-02 3.52199504e+00\n",
      " 3.02166935e-01 1.57700644e-01 5.44202503e-01 1.02827364e+00\n",
      " 4.23939769e-01 9.07255855e-01 5.07897168e-01 1.45259093e+00\n",
      " 6.01313668e-02 6.65975337e-01 4.23184719e-01 1.57700644e-01\n",
      " 4.95795389e-01 1.17242532e-02 1.08538480e-01 1.44843816e-01\n",
      " 2.16659586e+00 1.93250929e-01 2.38260316e-02 1.81904201e-01\n",
      " 1.17349498e+00 2.84429545e+00 4.83693611e-01 2.54514872e-01\n",
      " 9.07255855e-01 8.50899739e-02 1.57360872e+00 5.08652218e-01\n",
      " 8.43349236e-02 1.02827364e+00 7.29881955e-02 8.43349236e-02\n",
      " 5.56304281e-01 3.74777605e-01 1.18635181e+00 3.86879384e-01\n",
      " 1.56945594e-01 4.23184719e-01 3.63430877e-01 5.08652218e-01\n",
      " 2.06107758e-01 1.07743580e+00 1.20640259e-01 1.08878253e+00\n",
      " 3.02166935e-01 5.92609616e-01 2.05352708e-01 3.62675827e-01\n",
      " 9.07255855e-01 1.21395309e-01 4.23939769e-01 4.23184719e-01\n",
      " 4.23599996e+00 3.66828603e-02 7.01525622e-01 3.74777605e-01\n",
      " 3.59278100e-02 5.08652218e-01 7.86993121e-01 6.08864171e-02\n",
      " 8.59603791e-01 2.30311315e-01 2.29556264e-01 4.23184719e-01\n",
      " 2.41658043e-01 2.05352708e-01 4.47388276e-01 8.59603791e-01\n",
      " 5.14363334e+00 3.39227320e-01 6.04711395e-01 6.04711395e-01\n",
      " 4.84448661e-01 3.14683991e+00 6.78077115e-01 2.77963378e-01\n",
      " 1.21395309e-01 1.00482513e+00 7.13627400e-01 2.29556264e-01\n",
      " 1.45183588e+00 1.08538480e-01 3.62675827e-01 2.77963378e-01\n",
      " 1.19845359e+00 3.86879384e-01 4.95795389e-01 3.86879384e-01\n",
      " 1.81904201e-01 1.39132699e+00 1.81904201e-01 6.04711395e-01\n",
      " 6.89423844e-01 1.09293531e-01 1.63411761e+00 4.83693611e-01\n",
      " 2.05352708e-01 5.80507838e-01 9.07255855e-01 2.79588834e+00\n",
      " 5.92609616e-01 1.43973410e+00 3.50574048e-01 1.94005980e-01\n",
      " 3.14268713e-01 1.54865011e+00 1.44843816e-01 5.44202503e-01\n",
      " 1.33497088e-01 1.36787848e+00 2.77963378e-01 4.11082940e-01\n",
      " 8.50899739e-02 5.08652218e-01 4.35286497e-01 2.41658043e-01\n",
      " 8.58848741e-01 3.02166935e-01 5.56304281e-01 3.98981162e-01\n",
      " 2.78718428e-01 1.21395309e-01 7.86238071e-01 7.37830957e-01\n",
      " 1.39208204e+00 3.02166935e-01 6.04711395e-01 2.05767985e+00\n",
      " 4.23939769e-01 7.86238071e-01 1.81904201e-01 8.95154076e-01\n",
      " 9.68519797e-01 4.23184719e-01 7.86993121e-01 3.62675827e-01\n",
      " 3.66828603e-02 2.17454486e-01 4.59490054e-01 5.08652218e-01\n",
      " 9.55662968e-01 6.01313668e-02 3.86879384e-01 6.08864171e-02\n",
      " 7.74136292e-01 1.07668075e+00 4.47388276e-01 8.35400235e-01\n",
      " 3.26370492e-01 5.07897168e-01 5.44202503e-01 1.32742037e-01\n",
      " 6.01313668e-02 8.95154076e-01 4.35286497e-01 1.20640259e-01\n",
      " 5.07897168e-01 3.39227320e-01 1.10163936e+00 3.63430877e-01\n",
      " 3.02166935e-01 3.02921985e-01 8.83807348e-01 1.08878253e+00\n",
      " 5.32100724e-01 4.96550440e-01 3.50574048e-01 3.98981162e-01\n",
      " 3.27125542e-01 1.81904201e-01 6.04711395e-01 1.14929142e+00\n",
      " 4.95795389e-01 1.19769854e+00 7.74136292e-01 6.65220287e-01\n",
      " 1.56945594e-01 5.93364667e-01 9.43561190e-01 3.98981162e-01\n",
      " 3.02166935e-01 8.46746963e-01 4.17549107e+00 4.23184719e-01\n",
      " 4.23184719e-01 1.56945594e-01 1.57360872e+00 3.02166935e-01\n",
      " 2.60225988e+00 4.05447329e+00 3.50574048e-01 9.55662968e-01\n",
      " 5.44202503e-01 6.28914952e-01 1.44843816e-01 6.65975337e-01\n",
      " 6.08864171e-02 1.22190209e+00 8.95154076e-01 1.81149151e-01\n",
      " 4.95795389e-01 1.39208204e+00 1.32742037e-01 5.20753996e-01\n",
      " 2.06107758e-01 4.11082940e-01 1.17242532e-02 6.01313668e-02\n",
      " 4.23939769e-01 3.62675827e-01 7.26484229e-01 2.02137452e+00\n",
      " 2.41658043e-01 3.86879384e-01 1.93250929e-01 1.01617186e+00\n",
      " 7.74136292e-01 9.64367020e-02 3.27125542e-01 9.64367020e-02\n",
      " 1.21395309e-01 7.37830957e-01 8.50899739e-02 3.02166935e-01\n",
      " 1.69047372e-01 5.44202503e-01 2.05352708e-01 5.08652218e-01\n",
      " 3.02166935e-01 2.65861600e-01 1.08878253e+00 5.44957553e-01\n",
      " 1.21395309e-01 1.32742037e-01 7.86238071e-01 9.91968304e-01\n",
      " 5.68406060e-01 3.63430877e-01 4.36041548e-01 5.19998946e-01\n",
      " 1.81904201e-01 2.90065156e-01 2.23920653e+00 7.62789564e-01\n",
      " 5.68406060e-01 1.81904201e-01 7.49932736e-01 1.24610565e+00\n",
      " 1.81149151e-01 3.26370492e-01 6.04711395e-01 3.62675827e-01\n",
      " 1.81149151e-01 6.28914952e-01 1.20640259e-01 1.08538480e-01\n",
      " 3.38472270e-01 3.08633102e+00 6.08864171e-02 1.81904201e-01\n",
      " 5.56304281e-01 7.01525622e-01 1.33157315e+00 2.78718428e-01\n",
      " 5.44202503e-01 1.21395309e-01 3.63430877e-01 6.65220287e-01\n",
      " 1.92456029e+00 5.08652218e-01 1.81904201e-01 2.29556264e-01\n",
      " 1.27030921e+00 1.37998026e+00 3.50574048e-01 6.17568224e-01\n",
      " 4.59490054e-01 1.27106426e+00 6.65220287e-01 3.02166935e-01\n",
      " 1.14929142e+00 5.44202503e-01 6.65220287e-01 9.71917523e-02\n",
      " 5.56304281e-01 7.86238071e-01 6.01313668e-02 2.05352708e-01\n",
      " 3.50574048e-01 1.94005980e-01 1.33157315e+00 3.02166935e-01\n",
      " 7.86238071e-01 5.44202503e-01 1.33081810e+00 6.04711395e-01\n",
      " 1.45598866e-01 1.11298609e+00 9.68519797e-01 8.95154076e-01\n",
      " 2.29556264e-01 3.62675827e-01 2.46914032e+00 3.26370492e-01\n",
      " 4.59490054e-01 2.65861600e-01 1.08538480e-01 5.68406060e-01\n",
      " 3.98981162e-01 3.02921985e-01 5.80507838e-01 8.70950520e-01\n",
      " 4.05447329e+00 1.20640259e-01 8.58848741e-01 1.75513539e+00\n",
      " 2.53759821e-01 3.62675827e-01 4.95795389e-01 7.74136292e-01\n",
      " 1.44843816e-01 2.41658043e-01 1.08538480e-01 9.07255855e-01\n",
      " 5.57059332e-01 1.64546434e+00 1.39132699e+00 3.86879384e-01\n",
      " 6.08864171e-02 1.56945594e-01 9.64367020e-02 1.81149151e-01\n",
      " 6.65220287e-01 9.67764747e-01 8.43349236e-02 1.20640259e-01\n",
      " 1.97296740e+00 5.92609616e-01 5.44202503e-01 4.72346883e-01\n",
      " 4.48143326e-01 1.14929142e+00 9.43561190e-01 5.69161110e-01\n",
      " 3.86879384e-01 4.23939769e-01 6.65220287e-01 5.08652218e-01\n",
      " 2.17454486e-01 9.07255855e-01 1.81904201e-01 3.02921985e-01\n",
      " 4.11082940e-01 3.86879384e-01 1.02902869e+00 8.50899739e-02\n",
      " 3.27125542e-01 4.84448661e-01 8.43349236e-02 2.41658043e-01\n",
      " 7.74136292e-01 1.57360872e+00 2.38260316e-02 6.89423844e-01\n",
      " 3.02166935e-01 7.50687786e-01 9.43561190e-01 2.65861600e-01\n",
      " 4.48143326e-01 1.17242532e-02 1.45183588e+00 1.32742037e-01\n",
      " 1.44843816e-01 5.20753996e-01 6.16813173e-01 3.62675827e-01\n",
      " 2.00927274e+00 5.92609616e-01 3.98981162e-01 3.75532656e-01\n",
      " 4.05447329e+00 6.77322065e-01 4.47388276e-01 5.50668670e+00\n",
      " 1.70672828e+00 1.10088431e+00 6.08864171e-02 5.08652218e-01\n",
      " 1.57700644e-01 8.83052298e-01 7.22331452e-02 4.84448661e-01\n",
      " 4.47388276e-01 1.05247720e+00 1.45598866e-01 1.62201583e+00\n",
      " 8.95154076e-01 9.68519797e-01 1.22265714e+00 8.46746963e-01\n",
      " 1.04037542e+00 1.20980031e+00 5.92609616e-01 2.42413093e-01\n",
      " 5.19998946e-01]\n"
     ]
    }
   ],
   "source": [
    "z = np.abs(zscore(df[\"LoanAmount\"]))\n",
    "print(z)"
   ]
  },
  {
   "cell_type": "code",
   "execution_count": 17,
   "id": "04a7dc29",
   "metadata": {},
   "outputs": [],
   "source": [
    "le = LabelEncoder()\n",
    "for y in cat:\n",
    "    df[y] = le.fit_transform(df[y])"
   ]
  },
  {
   "cell_type": "code",
   "execution_count": 18,
   "id": "db22ff11",
   "metadata": {},
   "outputs": [],
   "source": [
    "X =  df.drop(columns=\"Loan_Status\")\n",
    "y = df[\"Loan_Status\"]"
   ]
  },
  {
   "cell_type": "code",
   "execution_count": 19,
   "id": "801600fc",
   "metadata": {},
   "outputs": [],
   "source": [
    "\n",
    "X_train,X_test,y_train,y_test = train_test_split(X,y, test_size= 0.2, random_state= 45, stratify= y)"
   ]
  },
  {
   "cell_type": "code",
   "execution_count": 21,
   "id": "8ad14490",
   "metadata": {},
   "outputs": [],
   "source": [
    "sm = SMOTE()\n",
    "X_train_resample,y_train_resample = sm.fit_resample(X_train,y_train)"
   ]
  },
  {
   "cell_type": "code",
   "execution_count": null,
   "id": "ef19b207",
   "metadata": {},
   "outputs": [],
   "source": [
    "xg = XGBClassifier()\n",
    "param_grid = {\n",
    "    'n_estimators': [4,5,6]\n",
    "    \n",
    "}"
   ]
  },
  {
   "cell_type": "code",
   "execution_count": null,
   "id": "3931099f",
   "metadata": {},
   "outputs": [],
   "source": []
  }
 ],
 "metadata": {
  "kernelspec": {
   "display_name": ".venv",
   "language": "python",
   "name": "python3"
  },
  "language_info": {
   "codemirror_mode": {
    "name": "ipython",
    "version": 3
   },
   "file_extension": ".py",
   "mimetype": "text/x-python",
   "name": "python",
   "nbconvert_exporter": "python",
   "pygments_lexer": "ipython3",
   "version": "3.12.3"
  }
 },
 "nbformat": 4,
 "nbformat_minor": 5
}
